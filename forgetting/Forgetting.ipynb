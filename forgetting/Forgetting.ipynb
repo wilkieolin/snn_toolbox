{
 "cells": [
  {
   "cell_type": "code",
   "execution_count": 1,
   "metadata": {
    "scrolled": true
   },
   "outputs": [
    {
     "name": "stderr",
     "output_type": "stream",
     "text": [
      "Using TensorFlow backend.\n",
      "/home/wolin/.conda/envs/tf2/lib/python3.7/site-packages/tensorflow/python/framework/dtypes.py:516: FutureWarning: Passing (type, 1) or '1type' as a synonym of type is deprecated; in a future version of numpy, it will be understood as (type, (1,)) / '(1,)type'.\n",
      "  _np_qint8 = np.dtype([(\"qint8\", np.int8, 1)])\n",
      "/home/wolin/.conda/envs/tf2/lib/python3.7/site-packages/tensorflow/python/framework/dtypes.py:517: FutureWarning: Passing (type, 1) or '1type' as a synonym of type is deprecated; in a future version of numpy, it will be understood as (type, (1,)) / '(1,)type'.\n",
      "  _np_quint8 = np.dtype([(\"quint8\", np.uint8, 1)])\n",
      "/home/wolin/.conda/envs/tf2/lib/python3.7/site-packages/tensorflow/python/framework/dtypes.py:518: FutureWarning: Passing (type, 1) or '1type' as a synonym of type is deprecated; in a future version of numpy, it will be understood as (type, (1,)) / '(1,)type'.\n",
      "  _np_qint16 = np.dtype([(\"qint16\", np.int16, 1)])\n",
      "/home/wolin/.conda/envs/tf2/lib/python3.7/site-packages/tensorflow/python/framework/dtypes.py:519: FutureWarning: Passing (type, 1) or '1type' as a synonym of type is deprecated; in a future version of numpy, it will be understood as (type, (1,)) / '(1,)type'.\n",
      "  _np_quint16 = np.dtype([(\"quint16\", np.uint16, 1)])\n",
      "/home/wolin/.conda/envs/tf2/lib/python3.7/site-packages/tensorflow/python/framework/dtypes.py:520: FutureWarning: Passing (type, 1) or '1type' as a synonym of type is deprecated; in a future version of numpy, it will be understood as (type, (1,)) / '(1,)type'.\n",
      "  _np_qint32 = np.dtype([(\"qint32\", np.int32, 1)])\n",
      "/home/wolin/.conda/envs/tf2/lib/python3.7/site-packages/tensorflow/python/framework/dtypes.py:525: FutureWarning: Passing (type, 1) or '1type' as a synonym of type is deprecated; in a future version of numpy, it will be understood as (type, (1,)) / '(1,)type'.\n",
      "  np_resource = np.dtype([(\"resource\", np.ubyte, 1)])\n",
      "/home/wolin/.conda/envs/tf2/lib/python3.7/site-packages/tensorboard/compat/tensorflow_stub/dtypes.py:541: FutureWarning: Passing (type, 1) or '1type' as a synonym of type is deprecated; in a future version of numpy, it will be understood as (type, (1,)) / '(1,)type'.\n",
      "  _np_qint8 = np.dtype([(\"qint8\", np.int8, 1)])\n",
      "/home/wolin/.conda/envs/tf2/lib/python3.7/site-packages/tensorboard/compat/tensorflow_stub/dtypes.py:542: FutureWarning: Passing (type, 1) or '1type' as a synonym of type is deprecated; in a future version of numpy, it will be understood as (type, (1,)) / '(1,)type'.\n",
      "  _np_quint8 = np.dtype([(\"quint8\", np.uint8, 1)])\n",
      "/home/wolin/.conda/envs/tf2/lib/python3.7/site-packages/tensorboard/compat/tensorflow_stub/dtypes.py:543: FutureWarning: Passing (type, 1) or '1type' as a synonym of type is deprecated; in a future version of numpy, it will be understood as (type, (1,)) / '(1,)type'.\n",
      "  _np_qint16 = np.dtype([(\"qint16\", np.int16, 1)])\n",
      "/home/wolin/.conda/envs/tf2/lib/python3.7/site-packages/tensorboard/compat/tensorflow_stub/dtypes.py:544: FutureWarning: Passing (type, 1) or '1type' as a synonym of type is deprecated; in a future version of numpy, it will be understood as (type, (1,)) / '(1,)type'.\n",
      "  _np_quint16 = np.dtype([(\"quint16\", np.uint16, 1)])\n",
      "/home/wolin/.conda/envs/tf2/lib/python3.7/site-packages/tensorboard/compat/tensorflow_stub/dtypes.py:545: FutureWarning: Passing (type, 1) or '1type' as a synonym of type is deprecated; in a future version of numpy, it will be understood as (type, (1,)) / '(1,)type'.\n",
      "  _np_qint32 = np.dtype([(\"qint32\", np.int32, 1)])\n",
      "/home/wolin/.conda/envs/tf2/lib/python3.7/site-packages/tensorboard/compat/tensorflow_stub/dtypes.py:550: FutureWarning: Passing (type, 1) or '1type' as a synonym of type is deprecated; in a future version of numpy, it will be understood as (type, (1,)) / '(1,)type'.\n",
      "  np_resource = np.dtype([(\"resource\", np.ubyte, 1)])\n"
     ]
    }
   ],
   "source": [
    "from __future__ import print_function\n",
    "import keras\n",
    "from keras.datasets import mnist\n",
    "from keras.models import Sequential\n",
    "from keras.layers import Dense, Dropout, Flatten\n",
    "from keras.layers import Conv2D, MaxPooling2D\n",
    "from keras import backend as K"
   ]
  },
  {
   "cell_type": "code",
   "execution_count": 2,
   "metadata": {},
   "outputs": [],
   "source": [
    "import matplotlib.pyplot as plt"
   ]
  },
  {
   "cell_type": "code",
   "execution_count": 3,
   "metadata": {},
   "outputs": [],
   "source": [
    "import numpy as np"
   ]
  },
  {
   "cell_type": "code",
   "execution_count": 4,
   "metadata": {},
   "outputs": [],
   "source": [
    "batch_size = 128\n",
    "num_classes = 10\n",
    "epochs = 12"
   ]
  },
  {
   "cell_type": "code",
   "execution_count": 5,
   "metadata": {},
   "outputs": [],
   "source": [
    "# the data, split between train and test sets\n",
    "(x_train, y_train), (x_test, y_test) = mnist.load_data()"
   ]
  },
  {
   "cell_type": "code",
   "execution_count": 6,
   "metadata": {},
   "outputs": [
    {
     "data": {
      "text/plain": [
       "(60000, 28, 28)"
      ]
     },
     "execution_count": 6,
     "metadata": {},
     "output_type": "execute_result"
    }
   ],
   "source": [
    "x_train.shape"
   ]
  },
  {
   "cell_type": "code",
   "execution_count": 7,
   "metadata": {
    "scrolled": true
   },
   "outputs": [
    {
     "data": {
      "text/plain": [
       "(60000,)"
      ]
     },
     "execution_count": 7,
     "metadata": {},
     "output_type": "execute_result"
    }
   ],
   "source": [
    "y_train.shape"
   ]
  },
  {
   "cell_type": "markdown",
   "metadata": {},
   "source": [
    "Separate out the images by class"
   ]
  },
  {
   "cell_type": "code",
   "execution_count": 8,
   "metadata": {},
   "outputs": [],
   "source": [
    "img_rows, img_cols = 28, 28"
   ]
  },
  {
   "cell_type": "code",
   "execution_count": 9,
   "metadata": {},
   "outputs": [],
   "source": [
    "train_classes = []\n",
    "test_classes = []\n",
    "\n",
    "#for all 10 digits\n",
    "for i in range(0,9+1):\n",
    "    #find all the examples of this digit\n",
    "    train_digit_indices = np.argwhere(y_train==i)\n",
    "    #this changes the shape to (#ex, 1, 28, 28)\n",
    "    examples = np.squeeze(x_train[train_digit_indices], axis=1)\n",
    "    examples = examples.reshape(examples.shape[0], 1, img_rows, img_cols)\n",
    "    train_classes.append(examples)\n",
    "    \n",
    "    test_digit_indices = np.argwhere(y_test==i)\n",
    "    examples = np.squeeze(x_test[test_digit_indices], axis=1)\n",
    "    examples = examples.reshape(examples.shape[0], 1, img_rows, img_cols)\n",
    "    test_classes.append(examples)"
   ]
  },
  {
   "cell_type": "code",
   "execution_count": 10,
   "metadata": {},
   "outputs": [
    {
     "data": {
      "text/plain": [
       "(6742, 1, 28, 28)"
      ]
     },
     "execution_count": 10,
     "metadata": {},
     "output_type": "execute_result"
    }
   ],
   "source": [
    "train_classes[1].shape"
   ]
  },
  {
   "cell_type": "code",
   "execution_count": 11,
   "metadata": {},
   "outputs": [
    {
     "data": {
      "text/plain": [
       "10"
      ]
     },
     "execution_count": 11,
     "metadata": {},
     "output_type": "execute_result"
    }
   ],
   "source": [
    "len(train_classes)"
   ]
  },
  {
   "cell_type": "code",
   "execution_count": 12,
   "metadata": {},
   "outputs": [
    {
     "data": {
      "text/plain": [
       "(1, 28, 28)"
      ]
     },
     "execution_count": 12,
     "metadata": {},
     "output_type": "execute_result"
    }
   ],
   "source": [
    "train_classes[0][1,:,:].shape"
   ]
  },
  {
   "cell_type": "code",
   "execution_count": 13,
   "metadata": {},
   "outputs": [],
   "source": [
    "input_shape = (1, img_rows, img_cols)"
   ]
  },
  {
   "cell_type": "code",
   "execution_count": 14,
   "metadata": {},
   "outputs": [
    {
     "data": {
      "text/plain": [
       "'channels_first'"
      ]
     },
     "execution_count": 14,
     "metadata": {},
     "output_type": "execute_result"
    }
   ],
   "source": [
    "K.image_data_format()"
   ]
  },
  {
   "cell_type": "code",
   "execution_count": null,
   "metadata": {},
   "outputs": [],
   "source": []
  },
  {
   "cell_type": "code",
   "execution_count": 41,
   "metadata": {
    "scrolled": true
   },
   "outputs": [
    {
     "data": {
      "image/png": "[encoded data removed]",
      "text/plain": [
       "<Figure size 432x288 with 9 Axes>"
      ]
     },
     "metadata": {
      "needs_background": "light"
     },
     "output_type": "display_data"
    },
    {
     "data": {
      "image/png": "[encoded data removed]",
      "text/plain": [
       "<Figure size 432x288 with 9 Axes>"
      ]
     },
     "metadata": {
      "needs_background": "light"
     },
     "output_type": "display_data"
    },
    {
     "data": {
      "image/png": "[encoded data removed]",
      "text/plain": [
       "<Figure size 432x288 with 9 Axes>"
      ]
     },
     "metadata": {
      "needs_background": "light"
     },
     "output_type": "display_data"
    },
    {
     "data": {
      "image/png": "[encoded data removed]",
      "text/plain": [
       "<Figure size 432x288 with 9 Axes>"
      ]
     },
     "metadata": {
      "needs_background": "light"
     },
     "output_type": "display_data"
    },
    {
     "data": {
      "image/png": "[encoded data removed]",
      "text/plain": [
       "<Figure size 432x288 with 9 Axes>"
      ]
     },
     "metadata": {
      "needs_background": "light"
     },
     "output_type": "display_data"
    },
    {
     "data": {
      "image/png": "[encoded data removed]",
      "text/plain": [
       "<Figure size 432x288 with 9 Axes>"
      ]
     },
     "metadata": {
      "needs_background": "light"
     },
     "output_type": "display_data"
    },
    {
     "data": {
      "image/png": "[encoded data removed]",
      "text/plain": [
       "<Figure size 432x288 with 9 Axes>"
      ]
     },
     "metadata": {
      "needs_background": "light"
     },
     "output_type": "display_data"
    },
    {
     "data": {
      "image/png": "[encoded data removed]",
      "text/plain": [
       "<Figure size 432x288 with 9 Axes>"
      ]
     },
     "metadata": {
      "needs_background": "light"
     },
     "output_type": "display_data"
    },
    {
     "data": {
      "image/png": "[encoded data removed]",
      "text/plain": [
       "<Figure size 432x288 with 9 Axes>"
      ]
     },
     "metadata": {
      "needs_background": "light"
     },
     "output_type": "display_data"
    },
    {
     "data": {
      "image/png": "[encoded data removed]",
      "text/plain": [
       "<Figure size 432x288 with 9 Axes>"
      ]
     },
     "metadata": {
      "needs_background": "light"
     },
     "output_type": "display_data"
    }
   ],
   "source": [
    "for i in range(10):\n",
    "    plt.figure()\n",
    "    for j in range(9):\n",
    "        plt.subplot(330+j+1)\n",
    "        plt.imshow(np.squeeze(train_classes[i][j], axis=0))"
   ]
  },
  {
   "cell_type": "markdown",
   "metadata": {},
   "source": [
    "Convert to normalized floats"
   ]
  },
  {
   "cell_type": "code",
   "execution_count": 15,
   "metadata": {},
   "outputs": [],
   "source": [
    "for (i,x) in enumerate(train_classes):\n",
    "    x = x.astype('float32')\n",
    "    x /= 255\n",
    "    train_classes[i] = x"
   ]
  },
  {
   "cell_type": "code",
   "execution_count": 16,
   "metadata": {},
   "outputs": [],
   "source": [
    "for (i,x) in enumerate(test_classes):\n",
    "    x = x.astype('float32')\n",
    "    x /= 255\n",
    "    test_classes[i] = x"
   ]
  },
  {
   "cell_type": "code",
   "execution_count": 17,
   "metadata": {},
   "outputs": [
    {
     "data": {
      "text/plain": [
       "<matplotlib.colorbar.Colorbar at 0x7fdaa9b3ecd0>"
      ]
     },
     "execution_count": 17,
     "metadata": {},
     "output_type": "execute_result"
    },
    {
     "data": {
      "image/png": "[encoded data removed]",
      "text/plain": [
       "<Figure size 432x288 with 2 Axes>"
      ]
     },
     "metadata": {
      "needs_background": "light"
     },
     "output_type": "display_data"
    }
   ],
   "source": [
    "plt.imshow(test_classes[0][0,0,:,:])\n",
    "plt.colorbar()"
   ]
  },
  {
   "cell_type": "code",
   "execution_count": 18,
   "metadata": {},
   "outputs": [
    {
     "name": "stdout",
     "output_type": "stream",
     "text": [
      "Numeral 0 has 5923 training examples.\n",
      "Numeral 0 has 980 test examples.\n",
      "Numeral 1 has 6742 training examples.\n",
      "Numeral 1 has 1135 test examples.\n",
      "Numeral 2 has 5958 training examples.\n",
      "Numeral 2 has 1032 test examples.\n",
      "Numeral 3 has 6131 training examples.\n",
      "Numeral 3 has 1010 test examples.\n",
      "Numeral 4 has 5842 training examples.\n",
      "Numeral 4 has 982 test examples.\n",
      "Numeral 5 has 5421 training examples.\n",
      "Numeral 5 has 892 test examples.\n",
      "Numeral 6 has 5918 training examples.\n",
      "Numeral 6 has 958 test examples.\n",
      "Numeral 7 has 6265 training examples.\n",
      "Numeral 7 has 1028 test examples.\n",
      "Numeral 8 has 5851 training examples.\n",
      "Numeral 8 has 974 test examples.\n",
      "Numeral 9 has 5949 training examples.\n",
      "Numeral 9 has 1009 test examples.\n"
     ]
    }
   ],
   "source": [
    "z_train = []\n",
    "z_test = []\n",
    "\n",
    "for i in range(10):\n",
    "    n_train = train_classes[i].shape[0]\n",
    "    truth = np.ones(n_train) * i\n",
    "    truth = keras.utils.to_categorical(truth, num_classes)\n",
    "    z_train.append(truth)\n",
    "    print('Numeral', i, 'has', n_train, 'training examples.')\n",
    "    \n",
    "    n_test = test_classes[i].shape[0]\n",
    "    print('Numeral', i, 'has', n_test, 'test examples.')\n",
    "    truth = np.ones(n_test) * i\n",
    "    truth = keras.utils.to_categorical(truth, num_classes)\n",
    "    z_test.append(truth)"
   ]
  },
  {
   "cell_type": "code",
   "execution_count": 19,
   "metadata": {},
   "outputs": [],
   "source": [
    "y_train = keras.utils.to_categorical(y_train, num_classes)\n",
    "y_test = keras.utils.to_categorical(y_test, num_classes)"
   ]
  },
  {
   "cell_type": "code",
   "execution_count": 20,
   "metadata": {
    "scrolled": true
   },
   "outputs": [
    {
     "name": "stdout",
     "output_type": "stream",
     "text": [
      "WARNING:tensorflow:From /home/wolin/.conda/envs/tf2/lib/python3.7/site-packages/keras/backend/tensorflow_backend.py:68: The name tf.get_default_graph is deprecated. Please use tf.compat.v1.get_default_graph instead.\n",
      "\n",
      "WARNING:tensorflow:From /home/wolin/.conda/envs/tf2/lib/python3.7/site-packages/keras/backend/tensorflow_backend.py:508: The name tf.placeholder is deprecated. Please use tf.compat.v1.placeholder instead.\n",
      "\n",
      "WARNING:tensorflow:From /home/wolin/.conda/envs/tf2/lib/python3.7/site-packages/keras/backend/tensorflow_backend.py:3837: The name tf.random_uniform is deprecated. Please use tf.random.uniform instead.\n",
      "\n",
      "WARNING:tensorflow:From /home/wolin/.conda/envs/tf2/lib/python3.7/site-packages/keras/backend/tensorflow_backend.py:168: The name tf.get_default_session is deprecated. Please use tf.compat.v1.get_default_session instead.\n",
      "\n",
      "WARNING:tensorflow:From /home/wolin/.conda/envs/tf2/lib/python3.7/site-packages/keras/backend/tensorflow_backend.py:175: The name tf.ConfigProto is deprecated. Please use tf.compat.v1.ConfigProto instead.\n",
      "\n",
      "WARNING:tensorflow:From /home/wolin/.conda/envs/tf2/lib/python3.7/site-packages/keras/backend/tensorflow_backend.py:3661: The name tf.nn.max_pool is deprecated. Please use tf.nn.max_pool2d instead.\n",
      "\n",
      "WARNING:tensorflow:From /home/wolin/.conda/envs/tf2/lib/python3.7/site-packages/keras/backend/tensorflow_backend.py:3144: calling dropout (from tensorflow.python.ops.nn_ops) with keep_prob is deprecated and will be removed in a future version.\n",
      "Instructions for updating:\n",
      "Please use `rate` instead of `keep_prob`. Rate should be set to `rate = 1 - keep_prob`.\n",
      "WARNING:tensorflow:From /home/wolin/.conda/envs/tf2/lib/python3.7/site-packages/keras/optimizers.py:757: The name tf.train.Optimizer is deprecated. Please use tf.compat.v1.train.Optimizer instead.\n",
      "\n"
     ]
    }
   ],
   "source": [
    "model = Sequential()\n",
    "model.add(Conv2D(32, kernel_size=(3, 3),\n",
    "                 activation='relu',\n",
    "                 input_shape=input_shape))\n",
    "model.add(Conv2D(64, (3, 3), activation='relu'))\n",
    "model.add(MaxPooling2D(pool_size=(2, 2)))\n",
    "model.add(Dropout(0.25))\n",
    "model.add(Flatten())\n",
    "model.add(Dense(128, activation='relu'))\n",
    "model.add(Dropout(0.5))\n",
    "model.add(Dense(num_classes, activation='softmax'))\n",
    "\n",
    "model.compile(loss=keras.losses.categorical_crossentropy,\n",
    "              optimizer=keras.optimizers.Adadelta(),\n",
    "              metrics=['accuracy'])"
   ]
  },
  {
   "cell_type": "markdown",
   "metadata": {},
   "source": [
    "Separate into batches which can be trained by numeral"
   ]
  },
  {
   "cell_type": "code",
   "execution_count": 71,
   "metadata": {},
   "outputs": [
    {
     "data": {
      "text/plain": [
       "987"
      ]
     },
     "execution_count": 71,
     "metadata": {},
     "output_type": "execute_result"
    }
   ],
   "source": [
    "int(train_classes[0].shape[0]/6)"
   ]
  },
  {
   "cell_type": "code",
   "execution_count": 85,
   "metadata": {},
   "outputs": [],
   "source": [
    "x = np.linspace(0,10,11)"
   ]
  },
  {
   "cell_type": "code",
   "execution_count": 86,
   "metadata": {},
   "outputs": [
    {
     "data": {
      "text/plain": [
       "array([ 0.,  1.,  2.,  3.,  4.,  5.,  6.,  7.,  8.,  9., 10.])"
      ]
     },
     "execution_count": 86,
     "metadata": {},
     "output_type": "execute_result"
    }
   ],
   "source": [
    "x"
   ]
  },
  {
   "cell_type": "code",
   "execution_count": 89,
   "metadata": {},
   "outputs": [
    {
     "data": {
      "text/plain": [
       "array([0., 1.])"
      ]
     },
     "execution_count": 89,
     "metadata": {},
     "output_type": "execute_result"
    }
   ],
   "source": [
    "x[:2]"
   ]
  },
  {
   "cell_type": "code",
   "execution_count": 88,
   "metadata": {},
   "outputs": [
    {
     "data": {
      "text/plain": [
       "array([ 2.,  3.,  4.,  5.,  6.,  7.,  8.,  9., 10.])"
      ]
     },
     "execution_count": 88,
     "metadata": {},
     "output_type": "execute_result"
    }
   ],
   "source": [
    "x[2:]"
   ]
  },
  {
   "cell_type": "code",
   "execution_count": 21,
   "metadata": {},
   "outputs": [],
   "source": [
    "train_sets = []\n",
    "norm_sets = []\n",
    "test_sets = []\n",
    "train_truth_sets = []\n",
    "test_truth_sets = []\n",
    "\n",
    "for i in range(5):\n",
    "    #take 1/6th of the training set (1/7th of the overall set) for normalization\n",
    "    n_norm1 = int(train_classes[i*2].shape[0]/6)\n",
    "    n_norm2 = int(train_classes[i*2+1].shape[0]/6)\n",
    "    norm_sets.append(np.append(train_classes[i*2][:n_norm1, :], train_classes[i*2+1][:n_norm2, :], axis=0))\n",
    "    \n",
    "    train_sets.append(np.append(train_classes[i*2][n_norm1:, :], train_classes[i*2+1][n_norm2:, :], axis=0))\n",
    "    train_truth_sets.append(np.append(z_train[i*2][n_norm1:, :], z_train[i*2+1][n_norm2:, :], axis=0))\n",
    "    \n",
    "    test_sets.append(np.append(test_classes[i*2], test_classes[i*2+1], axis=0))\n",
    "    test_truth_sets.append(np.append(z_test[i*2], z_test[i*2+1], axis=0))"
   ]
  },
  {
   "cell_type": "code",
   "execution_count": 22,
   "metadata": {},
   "outputs": [
    {
     "name": "stdout",
     "output_type": "stream",
     "text": [
      "2110\n",
      "2014\n",
      "1876\n",
      "2030\n",
      "1966\n"
     ]
    },
    {
     "data": {
      "text/plain": [
       "[None, None, None, None, None]"
      ]
     },
     "execution_count": 22,
     "metadata": {},
     "output_type": "execute_result"
    }
   ],
   "source": [
    "[print(x.shape[0]) for x in norm_sets]"
   ]
  },
  {
   "cell_type": "code",
   "execution_count": 23,
   "metadata": {},
   "outputs": [
    {
     "name": "stdout",
     "output_type": "stream",
     "text": [
      "10555\n",
      "10075\n",
      "9387\n",
      "10153\n",
      "9834\n"
     ]
    },
    {
     "data": {
      "text/plain": [
       "[None, None, None, None, None]"
      ]
     },
     "execution_count": 23,
     "metadata": {},
     "output_type": "execute_result"
    }
   ],
   "source": [
    "[print(x.shape[0]) for x in train_sets]"
   ]
  },
  {
   "cell_type": "code",
   "execution_count": null,
   "metadata": {},
   "outputs": [],
   "source": []
  },
  {
   "cell_type": "code",
   "execution_count": 93,
   "metadata": {},
   "outputs": [],
   "source": [
    "#savedir = \"/home/wolin/snn_toolbox/forgetting/\""
   ]
  },
  {
   "cell_type": "code",
   "execution_count": 95,
   "metadata": {},
   "outputs": [],
   "source": [
    "#dirs = [\"12/\", \"34/\", \"56/\", \"78/\", \"90/\"]"
   ]
  },
  {
   "cell_type": "code",
   "execution_count": 98,
   "metadata": {},
   "outputs": [
    {
     "data": {
      "text/plain": [
       "[(0, '12/'), (1, '34/'), (2, '56/'), (3, '78/'), (4, '90/')]"
      ]
     },
     "execution_count": 98,
     "metadata": {},
     "output_type": "execute_result"
    }
   ],
   "source": [
    "#list(enumerate(dirs))"
   ]
  },
  {
   "cell_type": "code",
   "execution_count": 99,
   "metadata": {},
   "outputs": [
    {
     "data": {
      "text/plain": [
       "[None, None, None, None, None]"
      ]
     },
     "execution_count": 99,
     "metadata": {},
     "output_type": "execute_result"
    }
   ],
   "source": [
    "#[np.savez_compressed(savedir+dirx+\"data/x_norm.npz\", norm_sets[i]) for i,dirx in enumerate(dirs)]"
   ]
  },
  {
   "cell_type": "code",
   "execution_count": 100,
   "metadata": {},
   "outputs": [
    {
     "data": {
      "text/plain": [
       "[None, None, None, None, None]"
      ]
     },
     "execution_count": 100,
     "metadata": {},
     "output_type": "execute_result"
    }
   ],
   "source": [
    "#[np.savez_compressed(savedir+dirx+\"data/x_test.npz\", test_sets[i]) for i,dirx in enumerate(dirs)]"
   ]
  },
  {
   "cell_type": "code",
   "execution_count": 101,
   "metadata": {
    "scrolled": true
   },
   "outputs": [
    {
     "data": {
      "text/plain": [
       "[None, None, None, None, None]"
      ]
     },
     "execution_count": 101,
     "metadata": {},
     "output_type": "execute_result"
    }
   ],
   "source": [
    "#[np.savez_compressed(savedir+dirx+\"data/y_test.npz\", test_truth_sets[i]) for i,dirx in enumerate(dirs)]"
   ]
  },
  {
   "cell_type": "code",
   "execution_count": 24,
   "metadata": {},
   "outputs": [
    {
     "data": {
      "text/plain": [
       "(10555, 1, 28, 28)"
      ]
     },
     "execution_count": 24,
     "metadata": {},
     "output_type": "execute_result"
    }
   ],
   "source": [
    "train_sets[0].shape"
   ]
  },
  {
   "cell_type": "code",
   "execution_count": 134,
   "metadata": {},
   "outputs": [
    {
     "data": {
      "text/plain": [
       "array([[0., 0., 1., ..., 0., 0., 0.],\n",
       "       [0., 0., 1., ..., 0., 0., 0.],\n",
       "       [0., 0., 1., ..., 0., 0., 0.],\n",
       "       ...,\n",
       "       [0., 0., 0., ..., 0., 0., 0.],\n",
       "       [0., 0., 0., ..., 0., 0., 0.],\n",
       "       [0., 0., 0., ..., 0., 0., 0.]], dtype=float32)"
      ]
     },
     "execution_count": 134,
     "metadata": {},
     "output_type": "execute_result"
    }
   ],
   "source": [
    "train_truth_sets[1]"
   ]
  },
  {
   "cell_type": "code",
   "execution_count": null,
   "metadata": {},
   "outputs": [],
   "source": []
  },
  {
   "cell_type": "markdown",
   "metadata": {},
   "source": [
    "Do some training!"
   ]
  },
  {
   "cell_type": "code",
   "execution_count": 25,
   "metadata": {},
   "outputs": [],
   "source": [
    "def train_on_set(m, i):\n",
    "    m.fit(train_sets[i], train_truth_sets[i],\n",
    "              batch_size=batch_size,\n",
    "              epochs=epochs,\n",
    "              verbose=1,\n",
    "              validation_data=(test_sets[i], test_truth_sets[i]))\n",
    "    score = m.evaluate(test_sets[i], test_truth_sets[i], verbose=0)\n",
    "    print('Test loss:', score[0])\n",
    "    print('Test accuracy:', score[1])"
   ]
  },
  {
   "cell_type": "code",
   "execution_count": 26,
   "metadata": {},
   "outputs": [],
   "source": [
    "def digit_accuracy(m):\n",
    "    acc = np.zeros(10)\n",
    "    for i in range(10):\n",
    "        acc[i] = m.evaluate(test_classes[i], z_test[i])[1]\n",
    "        \n",
    "    return acc"
   ]
  },
  {
   "cell_type": "code",
   "execution_count": 27,
   "metadata": {
    "scrolled": true
   },
   "outputs": [
    {
     "name": "stdout",
     "output_type": "stream",
     "text": [
      "WARNING:tensorflow:From /home/wolin/.conda/envs/tf2/lib/python3.7/site-packages/tensorflow/python/ops/math_grad.py:1250: add_dispatch_support.<locals>.wrapper (from tensorflow.python.ops.array_ops) is deprecated and will be removed in a future version.\n",
      "Instructions for updating:\n",
      "Use tf.where in 2.0, which has the same broadcast rule as np.where\n",
      "Train on 10555 samples, validate on 2115 samples\n",
      "Epoch 1/12\n",
      "10555/10555 [==============================] - 5s 487us/step - loss: 0.0788 - acc: 0.9791 - val_loss: 0.0044 - val_acc: 0.9986\n",
      "Epoch 2/12\n",
      "10555/10555 [==============================] - 5s 466us/step - loss: 0.0065 - acc: 0.9985 - val_loss: 0.0020 - val_acc: 0.9991\n",
      "Epoch 3/12\n",
      "10555/10555 [==============================] - 5s 462us/step - loss: 0.0059 - acc: 0.9983 - val_loss: 0.0020 - val_acc: 0.9991\n",
      "Epoch 4/12\n",
      "10555/10555 [==============================] - 5s 460us/step - loss: 0.0051 - acc: 0.9986 - val_loss: 0.0024 - val_acc: 0.9991\n",
      "Epoch 5/12\n",
      "10555/10555 [==============================] - 5s 463us/step - loss: 0.0036 - acc: 0.9988 - val_loss: 0.0020 - val_acc: 0.9991\n",
      "Epoch 6/12\n",
      "10555/10555 [==============================] - 5s 451us/step - loss: 0.0039 - acc: 0.9990 - val_loss: 0.0015 - val_acc: 0.9995\n",
      "Epoch 7/12\n",
      "10555/10555 [==============================] - 5s 454us/step - loss: 0.0024 - acc: 0.9995 - val_loss: 0.0018 - val_acc: 0.9991\n",
      "Epoch 8/12\n",
      "10555/10555 [==============================] - 5s 457us/step - loss: 0.0024 - acc: 0.9991 - val_loss: 0.0014 - val_acc: 0.9995\n",
      "Epoch 9/12\n",
      "10555/10555 [==============================] - 5s 459us/step - loss: 0.0022 - acc: 0.9994 - val_loss: 0.0021 - val_acc: 0.9991\n",
      "Epoch 10/12\n",
      "10555/10555 [==============================] - 5s 461us/step - loss: 0.0021 - acc: 0.9993 - val_loss: 0.0016 - val_acc: 0.9995\n",
      "Epoch 11/12\n",
      "10555/10555 [==============================] - 5s 453us/step - loss: 0.0016 - acc: 0.9992 - val_loss: 0.0017 - val_acc: 0.9986\n",
      "Epoch 12/12\n",
      "10555/10555 [==============================] - 5s 461us/step - loss: 0.0015 - acc: 0.9997 - val_loss: 0.0016 - val_acc: 0.9995\n",
      "Test loss: 0.0016191136317725854\n",
      "Test accuracy: 0.9995271867612293\n"
     ]
    }
   ],
   "source": [
    "m12 = train_on_set(model, 0)"
   ]
  },
  {
   "cell_type": "code",
   "execution_count": 29,
   "metadata": {},
   "outputs": [
    {
     "name": "stdout",
     "output_type": "stream",
     "text": [
      "980/980 [==============================] - 0s 205us/step\n",
      "1135/1135 [==============================] - 0s 189us/step\n",
      "1032/1032 [==============================] - 0s 195us/step\n",
      "1010/1010 [==============================] - 0s 192us/step\n",
      "982/982 [==============================] - 0s 189us/step\n",
      "892/892 [==============================] - 0s 188us/step\n",
      "958/958 [==============================] - 0s 188us/step\n",
      "1028/1028 [==============================] - 0s 189us/step\n",
      "974/974 [==============================] - 0s 193us/step\n",
      "1009/1009 [==============================] - 0s 191us/step\n"
     ]
    }
   ],
   "source": [
    "acc12 = digit_accuracy(model)"
   ]
  },
  {
   "cell_type": "code",
   "execution_count": 34,
   "metadata": {},
   "outputs": [
    {
     "data": {
      "text/plain": [
       "[<matplotlib.lines.Line2D at 0x7fd89c62db10>]"
      ]
     },
     "execution_count": 34,
     "metadata": {},
     "output_type": "execute_result"
    },
    {
     "data": {
      "image/png": "[encoded data removed]",
      "text/plain": [
       "<Figure size 432x288 with 1 Axes>"
      ]
     },
     "metadata": {
      "needs_background": "light"
     },
     "output_type": "display_data"
    }
   ],
   "source": [
    "plt.plot(acc12)"
   ]
  },
  {
   "cell_type": "code",
   "execution_count": 35,
   "metadata": {},
   "outputs": [],
   "source": [
    "model.save(\"mnist_12.h5\")"
   ]
  },
  {
   "cell_type": "code",
   "execution_count": 36,
   "metadata": {
    "scrolled": true
   },
   "outputs": [
    {
     "name": "stdout",
     "output_type": "stream",
     "text": [
      "Train on 10075 samples, validate on 2042 samples\n",
      "Epoch 1/12\n",
      "10075/10075 [==============================] - 5s 478us/step - loss: 0.4281 - acc: 0.9117 - val_loss: 0.0396 - val_acc: 0.9878\n",
      "Epoch 2/12\n",
      "10075/10075 [==============================] - 5s 471us/step - loss: 0.0582 - acc: 0.9812 - val_loss: 0.0200 - val_acc: 0.9922\n",
      "Epoch 3/12\n",
      "10075/10075 [==============================] - 5s 473us/step - loss: 0.0350 - acc: 0.9890 - val_loss: 0.0142 - val_acc: 0.9941\n",
      "Epoch 4/12\n",
      "10075/10075 [==============================] - 5s 473us/step - loss: 0.0225 - acc: 0.9932 - val_loss: 0.0118 - val_acc: 0.9951\n",
      "Epoch 5/12\n",
      "10075/10075 [==============================] - 5s 469us/step - loss: 0.0195 - acc: 0.9938 - val_loss: 0.0089 - val_acc: 0.9956\n",
      "Epoch 6/12\n",
      "10075/10075 [==============================] - 5s 475us/step - loss: 0.0131 - acc: 0.9955 - val_loss: 0.0058 - val_acc: 0.9985\n",
      "Epoch 7/12\n",
      "10075/10075 [==============================] - 5s 474us/step - loss: 0.0119 - acc: 0.9960 - val_loss: 0.0052 - val_acc: 0.9985\n",
      "Epoch 8/12\n",
      "10075/10075 [==============================] - 5s 472us/step - loss: 0.0090 - acc: 0.9969 - val_loss: 0.0052 - val_acc: 0.9990\n",
      "Epoch 9/12\n",
      "10075/10075 [==============================] - 5s 472us/step - loss: 0.0092 - acc: 0.9965 - val_loss: 0.0042 - val_acc: 0.9995\n",
      "Epoch 10/12\n",
      "10075/10075 [==============================] - 5s 473us/step - loss: 0.0073 - acc: 0.9978 - val_loss: 0.0051 - val_acc: 0.9990\n",
      "Epoch 11/12\n",
      "10075/10075 [==============================] - 5s 477us/step - loss: 0.0063 - acc: 0.9976 - val_loss: 0.0043 - val_acc: 0.9990\n",
      "Epoch 12/12\n",
      "10075/10075 [==============================] - 5s 471us/step - loss: 0.0062 - acc: 0.9974 - val_loss: 0.0047 - val_acc: 0.9990\n",
      "Test loss: 0.004659028217494367\n",
      "Test accuracy: 0.9990205680705191\n"
     ]
    }
   ],
   "source": [
    "train_on_set(model, 1)"
   ]
  },
  {
   "cell_type": "code",
   "execution_count": 37,
   "metadata": {},
   "outputs": [
    {
     "name": "stdout",
     "output_type": "stream",
     "text": [
      "980/980 [==============================] - 0s 196us/step\n",
      "1135/1135 [==============================] - 0s 194us/step\n",
      "1032/1032 [==============================] - 0s 190us/step\n",
      "1010/1010 [==============================] - 0s 189us/step\n",
      "982/982 [==============================] - 0s 190us/step\n",
      "892/892 [==============================] - 0s 188us/step\n",
      "958/958 [==============================] - 0s 190us/step\n",
      "1028/1028 [==============================] - 0s 196us/step\n",
      "974/974 [==============================] - 0s 192us/step\n",
      "1009/1009 [==============================] - 0s 211us/step\n"
     ]
    }
   ],
   "source": [
    "acc34 = digit_accuracy(model)"
   ]
  },
  {
   "cell_type": "code",
   "execution_count": 38,
   "metadata": {},
   "outputs": [
    {
     "data": {
      "text/plain": [
       "[<matplotlib.lines.Line2D at 0x7fd89c53fed0>]"
      ]
     },
     "execution_count": 38,
     "metadata": {},
     "output_type": "execute_result"
    },
    {
     "data": {
      "image/png": "[encoded data removed]",
      "text/plain": [
       "<Figure size 432x288 with 1 Axes>"
      ]
     },
     "metadata": {
      "needs_background": "light"
     },
     "output_type": "display_data"
    }
   ],
   "source": [
    "plt.plot(acc34)"
   ]
  },
  {
   "cell_type": "code",
   "execution_count": 39,
   "metadata": {},
   "outputs": [],
   "source": [
    "model.save(\"mnist_1234.h5\")"
   ]
  },
  {
   "cell_type": "code",
   "execution_count": null,
   "metadata": {},
   "outputs": [],
   "source": []
  }
 ],
 "metadata": {
  "kernelspec": {
   "display_name": "Python 3",
   "language": "python",
   "name": "python3"
  },
  "language_info": {
   "codemirror_mode": {
    "name": "ipython",
    "version": 3
   },
   "file_extension": ".py",
   "mimetype": "text/x-python",
   "name": "python",
   "nbconvert_exporter": "python",
   "pygments_lexer": "ipython3",
   "version": "3.7.4"
  }
 },
 "nbformat": 4,
 "nbformat_minor": 2
}
