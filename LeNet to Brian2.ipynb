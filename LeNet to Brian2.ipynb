{
 "cells": [
  {
   "cell_type": "code",
   "execution_count": 2,
   "metadata": {},
   "outputs": [],
   "source": [
    "from importlib import import_module"
   ]
  },
  {
   "cell_type": "code",
   "execution_count": 3,
   "metadata": {
    "scrolled": true
   },
   "outputs": [
    {
     "name": "stderr",
     "output_type": "stream",
     "text": [
      "Using TensorFlow backend.\n",
      "/home/wolin/.conda/envs/tf2/lib/python3.7/site-packages/tensorflow/python/framework/dtypes.py:516: FutureWarning: Passing (type, 1) or '1type' as a synonym of type is deprecated; in a future version of numpy, it will be understood as (type, (1,)) / '(1,)type'.\n",
      "  _np_qint8 = np.dtype([(\"qint8\", np.int8, 1)])\n",
      "/home/wolin/.conda/envs/tf2/lib/python3.7/site-packages/tensorflow/python/framework/dtypes.py:517: FutureWarning: Passing (type, 1) or '1type' as a synonym of type is deprecated; in a future version of numpy, it will be understood as (type, (1,)) / '(1,)type'.\n",
      "  _np_quint8 = np.dtype([(\"quint8\", np.uint8, 1)])\n",
      "/home/wolin/.conda/envs/tf2/lib/python3.7/site-packages/tensorflow/python/framework/dtypes.py:518: FutureWarning: Passing (type, 1) or '1type' as a synonym of type is deprecated; in a future version of numpy, it will be understood as (type, (1,)) / '(1,)type'.\n",
      "  _np_qint16 = np.dtype([(\"qint16\", np.int16, 1)])\n",
      "/home/wolin/.conda/envs/tf2/lib/python3.7/site-packages/tensorflow/python/framework/dtypes.py:519: FutureWarning: Passing (type, 1) or '1type' as a synonym of type is deprecated; in a future version of numpy, it will be understood as (type, (1,)) / '(1,)type'.\n",
      "  _np_quint16 = np.dtype([(\"quint16\", np.uint16, 1)])\n",
      "/home/wolin/.conda/envs/tf2/lib/python3.7/site-packages/tensorflow/python/framework/dtypes.py:520: FutureWarning: Passing (type, 1) or '1type' as a synonym of type is deprecated; in a future version of numpy, it will be understood as (type, (1,)) / '(1,)type'.\n",
      "  _np_qint32 = np.dtype([(\"qint32\", np.int32, 1)])\n",
      "/home/wolin/.conda/envs/tf2/lib/python3.7/site-packages/tensorflow/python/framework/dtypes.py:525: FutureWarning: Passing (type, 1) or '1type' as a synonym of type is deprecated; in a future version of numpy, it will be understood as (type, (1,)) / '(1,)type'.\n",
      "  np_resource = np.dtype([(\"resource\", np.ubyte, 1)])\n",
      "/home/wolin/.conda/envs/tf2/lib/python3.7/site-packages/tensorboard/compat/tensorflow_stub/dtypes.py:541: FutureWarning: Passing (type, 1) or '1type' as a synonym of type is deprecated; in a future version of numpy, it will be understood as (type, (1,)) / '(1,)type'.\n",
      "  _np_qint8 = np.dtype([(\"qint8\", np.int8, 1)])\n",
      "/home/wolin/.conda/envs/tf2/lib/python3.7/site-packages/tensorboard/compat/tensorflow_stub/dtypes.py:542: FutureWarning: Passing (type, 1) or '1type' as a synonym of type is deprecated; in a future version of numpy, it will be understood as (type, (1,)) / '(1,)type'.\n",
      "  _np_quint8 = np.dtype([(\"quint8\", np.uint8, 1)])\n",
      "/home/wolin/.conda/envs/tf2/lib/python3.7/site-packages/tensorboard/compat/tensorflow_stub/dtypes.py:543: FutureWarning: Passing (type, 1) or '1type' as a synonym of type is deprecated; in a future version of numpy, it will be understood as (type, (1,)) / '(1,)type'.\n",
      "  _np_qint16 = np.dtype([(\"qint16\", np.int16, 1)])\n",
      "/home/wolin/.conda/envs/tf2/lib/python3.7/site-packages/tensorboard/compat/tensorflow_stub/dtypes.py:544: FutureWarning: Passing (type, 1) or '1type' as a synonym of type is deprecated; in a future version of numpy, it will be understood as (type, (1,)) / '(1,)type'.\n",
      "  _np_quint16 = np.dtype([(\"quint16\", np.uint16, 1)])\n",
      "/home/wolin/.conda/envs/tf2/lib/python3.7/site-packages/tensorboard/compat/tensorflow_stub/dtypes.py:545: FutureWarning: Passing (type, 1) or '1type' as a synonym of type is deprecated; in a future version of numpy, it will be understood as (type, (1,)) / '(1,)type'.\n",
      "  _np_qint32 = np.dtype([(\"qint32\", np.int32, 1)])\n",
      "/home/wolin/.conda/envs/tf2/lib/python3.7/site-packages/tensorboard/compat/tensorflow_stub/dtypes.py:550: FutureWarning: Passing (type, 1) or '1type' as a synonym of type is deprecated; in a future version of numpy, it will be understood as (type, (1,)) / '(1,)type'.\n",
      "  np_resource = np.dtype([(\"resource\", np.ubyte, 1)])\n"
     ]
    }
   ],
   "source": [
    "from snntoolbox.parsing.utils import *"
   ]
  },
  {
   "cell_type": "code",
   "execution_count": 4,
   "metadata": {},
   "outputs": [],
   "source": [
    "from snntoolbox.parsing.model_libs.keras_input_lib import *"
   ]
  },
  {
   "cell_type": "code",
   "execution_count": 5,
   "metadata": {},
   "outputs": [],
   "source": [
    "from snntoolbox.bin.utils import update_setup"
   ]
  },
  {
   "cell_type": "code",
   "execution_count": 6,
   "metadata": {},
   "outputs": [],
   "source": [
    "from os import *"
   ]
  },
  {
   "cell_type": "code",
   "execution_count": 7,
   "metadata": {},
   "outputs": [],
   "source": [
    "model_path = \"/home/wolin/snn_toolbox/examples/models/lenet5/keras/\""
   ]
  },
  {
   "cell_type": "code",
   "execution_count": 8,
   "metadata": {
    "scrolled": true
   },
   "outputs": [
    {
     "name": "stdout",
     "output_type": "stream",
     "text": [
      "WARNING:tensorflow:From /home/wolin/snn_toolbox/snntoolbox/bin/utils.py:285: The name tf.ConfigProto is deprecated. Please use tf.compat.v1.ConfigProto instead.\n",
      "\n",
      "WARNING:tensorflow:From /home/wolin/snn_toolbox/snntoolbox/bin/utils.py:287: The name tf.Session is deprecated. Please use tf.compat.v1.Session instead.\n",
      "\n",
      "WARNING:tensorflow:From /home/wolin/.conda/envs/tf2/lib/python3.7/site-packages/keras/backend/tensorflow_backend.py:68: The name tf.get_default_graph is deprecated. Please use tf.compat.v1.get_default_graph instead.\n",
      "\n",
      "WARNING:tensorflow:From /home/wolin/.conda/envs/tf2/lib/python3.7/site-packages/keras/backend/tensorflow_backend.py:508: The name tf.placeholder is deprecated. Please use tf.compat.v1.placeholder instead.\n",
      "\n",
      "WARNING:tensorflow:From /home/wolin/.conda/envs/tf2/lib/python3.7/site-packages/keras/backend/tensorflow_backend.py:3837: The name tf.random_uniform is deprecated. Please use tf.random.uniform instead.\n",
      "\n",
      "WARNING:tensorflow:From /home/wolin/.conda/envs/tf2/lib/python3.7/site-packages/keras/backend/tensorflow_backend.py:3661: The name tf.nn.max_pool is deprecated. Please use tf.nn.max_pool2d instead.\n",
      "\n",
      "WARNING:tensorflow:From /home/wolin/.conda/envs/tf2/lib/python3.7/site-packages/keras/backend/tensorflow_backend.py:3144: calling dropout (from tensorflow.python.ops.nn_ops) with keep_prob is deprecated and will be removed in a future version.\n",
      "Instructions for updating:\n",
      "Please use `rate` instead of `keep_prob`. Rate should be set to `rate = 1 - keep_prob`.\n",
      "WARNING:tensorflow:From /home/wolin/.conda/envs/tf2/lib/python3.7/site-packages/keras/optimizers.py:757: The name tf.train.Optimizer is deprecated. Please use tf.compat.v1.train.Optimizer instead.\n",
      "\n",
      "SNN toolbox Warning: Currently, turning off Poisson input is\n",
      "only possible in INI simulator. Falling back on Poisson input.\n"
     ]
    },
    {
     "name": "stderr",
     "output_type": "stream",
     "text": [
      "/home/wolin/.conda/envs/tf2/lib/python3.7/site-packages/keras/utils/conv_utils.py:93: FutureWarning: Using a non-tuple sequence for multidimensional indexing is deprecated; use `arr[tuple(seq)]` instead of `arr[seq]`. In the future this will be interpreted as an array index, `arr[np.array(seq)]`, which will result either in an error or a different result.\n",
      "  return np.copy(kernel[slices])\n"
     ]
    }
   ],
   "source": [
    "config = update_setup(model_path + \"config\")"
   ]
  },
  {
   "cell_type": "markdown",
   "metadata": {},
   "source": [
    "Load the network from file and parse it"
   ]
  },
  {
   "cell_type": "code",
   "execution_count": 9,
   "metadata": {},
   "outputs": [],
   "source": [
    "model = \"98.96\""
   ]
  },
  {
   "cell_type": "code",
   "execution_count": 10,
   "metadata": {},
   "outputs": [
    {
     "data": {
      "text/plain": [
       "<configparser.ConfigParser at 0x7f6486d64b50>"
      ]
     },
     "execution_count": 10,
     "metadata": {},
     "output_type": "execute_result"
    }
   ],
   "source": [
    "config"
   ]
  },
  {
   "cell_type": "code",
   "execution_count": 11,
   "metadata": {},
   "outputs": [
    {
     "name": "stderr",
     "output_type": "stream",
     "text": [
      "/home/wolin/.conda/envs/tf2/lib/python3.7/site-packages/keras/utils/conv_utils.py:93: FutureWarning: Using a non-tuple sequence for multidimensional indexing is deprecated; use `arr[tuple(seq)]` instead of `arr[seq]`. In the future this will be interpreted as an array index, `arr[np.array(seq)]`, which will result either in an error or a different result.\n",
      "  return np.copy(kernel[slices])\n"
     ]
    }
   ],
   "source": [
    "n = load(model_path, model)"
   ]
  },
  {
   "cell_type": "code",
   "execution_count": 12,
   "metadata": {},
   "outputs": [],
   "source": [
    "mp = ModelParser(n['model'], config)"
   ]
  },
  {
   "cell_type": "code",
   "execution_count": 13,
   "metadata": {},
   "outputs": [
    {
     "name": "stdout",
     "output_type": "stream",
     "text": [
      "Parsing layer Conv2D.\n",
      "Using activation relu.\n",
      "Parsing layer MaxPooling2D.\n",
      "Parsing layer Conv2D.\n",
      "Using activation relu.\n",
      "Parsing layer MaxPooling2D.\n",
      "Skipping layer Dropout.\n",
      "Parsing layer Conv2D.\n",
      "Using activation relu.\n",
      "Parsing layer Flatten.\n",
      "Parsing layer Dense.\n",
      "Using activation relu.\n",
      "Parsing layer Dense.\n",
      "Using activation softmax.\n",
      "\n"
     ]
    }
   ],
   "source": [
    "mp.parse()"
   ]
  },
  {
   "cell_type": "code",
   "execution_count": 14,
   "metadata": {},
   "outputs": [
    {
     "name": "stdout",
     "output_type": "stream",
     "text": [
      "Building parsed model...\n",
      "\n",
      "Compiling parsed model...\n",
      "\n"
     ]
    }
   ],
   "source": [
    "pm = mp.build_parsed_model()"
   ]
  },
  {
   "cell_type": "code",
   "execution_count": 15,
   "metadata": {},
   "outputs": [
    {
     "data": {
      "text/plain": [
       "<keras.engine.training.Model at 0x7f647c09de10>"
      ]
     },
     "execution_count": 15,
     "metadata": {},
     "output_type": "execute_result"
    }
   ],
   "source": [
    "pm"
   ]
  },
  {
   "cell_type": "code",
   "execution_count": 16,
   "metadata": {},
   "outputs": [],
   "source": [
    "from snntoolbox.conversion.utils import normalize_parameters"
   ]
  },
  {
   "cell_type": "code",
   "execution_count": 17,
   "metadata": {},
   "outputs": [],
   "source": [
    "from snntoolbox.datasets.utils import get_dataset"
   ]
  },
  {
   "cell_type": "markdown",
   "metadata": {},
   "source": [
    "Load the data and use it to normalize the activations"
   ]
  },
  {
   "cell_type": "code",
   "execution_count": 18,
   "metadata": {},
   "outputs": [
    {
     "name": "stdout",
     "output_type": "stream",
     "text": [
      "Loading scale factors from disk instead of recalculating.\n",
      "Loading data set from '.npz' files in /home/wolin/snn_toolbox/examples/datasets/mnist.\n",
      "\n"
     ]
    }
   ],
   "source": [
    "normset, testset = get_dataset(config)"
   ]
  },
  {
   "cell_type": "code",
   "execution_count": 19,
   "metadata": {},
   "outputs": [
    {
     "name": "stdout",
     "output_type": "stream",
     "text": [
      "Normalizing parameters...\n",
      "Using scale factor 1.00 for softmax layer.\n",
      "Plotting distributions of weights and activations before and after normalizing...\n",
      "Loading activations stored during a previous run.\n",
      "Loading activations stored during a previous run.\n",
      "Loading activations stored during a previous run.\n",
      "Loading activations stored during a previous run.\n",
      "Loading activations stored during a previous run.\n",
      "\n"
     ]
    }
   ],
   "source": [
    "normalize_parameters(pm, config, **normset)"
   ]
  },
  {
   "cell_type": "code",
   "execution_count": 20,
   "metadata": {},
   "outputs": [
    {
     "data": {
      "text/plain": [
       "<keras.engine.training.Model at 0x7f647c09de10>"
      ]
     },
     "execution_count": 20,
     "metadata": {},
     "output_type": "execute_result"
    }
   ],
   "source": [
    "pm"
   ]
  },
  {
   "cell_type": "code",
   "execution_count": 21,
   "metadata": {},
   "outputs": [],
   "source": [
    "from snntoolbox.simulation.utils import *"
   ]
  },
  {
   "cell_type": "code",
   "execution_count": 22,
   "metadata": {},
   "outputs": [],
   "source": [
    "from snntoolbox.simulation.target_simulators.brian2_target_sim import *"
   ]
  },
  {
   "cell_type": "code",
   "execution_count": 23,
   "metadata": {},
   "outputs": [],
   "source": [
    "def import_target_sim(config):\n",
    "\n",
    "    sim_str = config.get('simulation', 'simulator')\n",
    "    code_str = '_' + config.get('conversion', 'spike_code') \\\n",
    "        if sim_str == 'INI' else ''\n",
    "\n",
    "    return import_module('snntoolbox.simulation.target_simulators.'\n",
    "                         + sim_str + code_str + '_target_sim')"
   ]
  },
  {
   "cell_type": "code",
   "execution_count": 24,
   "metadata": {},
   "outputs": [],
   "source": [
    "target_sim = import_target_sim(config)"
   ]
  },
  {
   "cell_type": "code",
   "execution_count": 25,
   "metadata": {},
   "outputs": [
    {
     "data": {
      "text/plain": [
       "<module 'snntoolbox.simulation.target_simulators.brian2_target_sim' from '/home/wolin/snn_toolbox/snntoolbox/simulation/target_simulators/brian2_target_sim.py'>"
      ]
     },
     "execution_count": 25,
     "metadata": {},
     "output_type": "execute_result"
    }
   ],
   "source": [
    "target_sim"
   ]
  },
  {
   "cell_type": "code",
   "execution_count": 26,
   "metadata": {},
   "outputs": [
    {
     "name": "stdout",
     "output_type": "stream",
     "text": [
      "Initializing brian2 simulator...\n",
      "\n"
     ]
    }
   ],
   "source": [
    "spiking_model = target_sim.SNN(config, None)"
   ]
  },
  {
   "cell_type": "code",
   "execution_count": 27,
   "metadata": {
    "scrolled": false
   },
   "outputs": [
    {
     "name": "stderr",
     "output_type": "stream",
     "text": [
      "WARNING    /home/wolin/.conda/envs/tf2/lib/python3.7/site-packages/keras/utils/conv_utils.py:93: FutureWarning: Using a non-tuple sequence for multidimensional indexing is deprecated; use `arr[tuple(seq)]` instead of `arr[seq]`. In the future this will be interpreted as an array index, `arr[np.array(seq)]`, which will result either in an error or a different result.\n",
      "  return np.copy(kernel[slices])\n",
      " [py.warnings]\n"
     ]
    },
    {
     "name": "stdout",
     "output_type": "stream",
     "text": [
      "Building spiking model...\n",
      "Building layer: 00Conv2D_6x24x24\n",
      "Adding fixed Conv layer synapses\n",
      "......"
     ]
    },
    {
     "name": "stderr",
     "output_type": "stream",
     "text": [
      "WARNING    /home/wolin/snn_toolbox/snntoolbox/simulation/target_simulators/brian2_target_sim.py:371: RuntimeWarning: Biases not implemented.\n",
      "  warnings.warn(\"Biases not implemented.\", RuntimeWarning)\n",
      " [py.warnings]\n"
     ]
    },
    {
     "name": "stdout",
     "output_type": "stream",
     "text": [
      "\n",
      "Connecting layer...\n",
      "Building layer: 01MaxPooling2D_6x12x12\n",
      "Adding STDP synapse layer...\n"
     ]
    },
    {
     "name": "stderr",
     "output_type": "stream",
     "text": [
      "WARNING    /home/wolin/snn_toolbox/snntoolbox/simulation/utils.py:1241: RuntimeWarning: Layer type 'MaxPooling' not supported yet. Falling back on 'AveragePooling'.\n",
      "  \"Falling back on 'AveragePooling'.\", RuntimeWarning)\n",
      " [py.warnings]\n"
     ]
    },
    {
     "name": "stdout",
     "output_type": "stream",
     "text": [
      "......\n",
      "Building layer: 02Conv2D_16x8x8\n",
      "Adding fixed Conv layer synapses\n",
      "................\n",
      "Connecting layer...\n",
      "Building layer: 03MaxPooling2D_16x4x4\n",
      "Adding STDP synapse layer...\n",
      "................\n",
      "Building layer: 04Conv2D_120x4x4\n",
      "Adding fixed Conv layer synapses\n",
      "........................................................................................................................\n",
      "Connecting layer...\n",
      "Building layer: 05Flatten_1920\n",
      "Building layer: 06Dense_84\n",
      "Adding STDP synapse layer...\n",
      "Lenght of weights:161280\n",
      "Building layer: 07Dense_10\n",
      "Adding STDP synapse layer...\n",
      "Lenght of weights:840\n",
      "Compiling spiking model...\n",
      "\n",
      "Detected layer with biases: 00Conv2D_6x24x24\n",
      "Detected layer with biases: 02Conv2D_16x8x8\n",
      "Detected layer with biases: 04Conv2D_120x4x4\n",
      "Detected layer with biases: 06Dense_84\n",
      "Detected layer with biases: 07Dense_10\n",
      "Number of operations of ANN: 2346734\n",
      "Number of neurons: 7614\n",
      "Number of synapses: 1397800\n",
      "\n"
     ]
    }
   ],
   "source": [
    "spiking_model.build(pm)"
   ]
  },
  {
   "cell_type": "code",
   "execution_count": 28,
   "metadata": {},
   "outputs": [],
   "source": [
    "def run(snn, **test_set):\n",
    "    return snn.run(**test_set)"
   ]
  },
  {
   "cell_type": "code",
   "execution_count": 30,
   "metadata": {},
   "outputs": [
    {
     "name": "stdout",
     "output_type": "stream",
     "text": [
      "Saving weights ...\n",
      "Store weights of layer 00Conv2D_6x24x24 to file /home/wolin/snn_toolbox/examples/models/lenet5/keras/98.96_brian2/brian2-model/00Conv2D_6x24x24.npz\n",
      "Store weights of layer 01MaxPooling2D_6x12x12 to file /home/wolin/snn_toolbox/examples/models/lenet5/keras/98.96_brian2/brian2-model/01MaxPooling2D_6x12x12.npz\n",
      "Store weights of layer 02Conv2D_16x8x8 to file /home/wolin/snn_toolbox/examples/models/lenet5/keras/98.96_brian2/brian2-model/02Conv2D_16x8x8.npz\n",
      "Store weights of layer 03MaxPooling2D_16x4x4 to file /home/wolin/snn_toolbox/examples/models/lenet5/keras/98.96_brian2/brian2-model/03MaxPooling2D_16x4x4.npz\n",
      "Store weights of layer 04Conv2D_120x4x4 to file /home/wolin/snn_toolbox/examples/models/lenet5/keras/98.96_brian2/brian2-model/04Conv2D_120x4x4.npz\n",
      "Store weights of layer 06Dense_84 to file /home/wolin/snn_toolbox/examples/models/lenet5/keras/98.96_brian2/brian2-model/06Dense_84.npz\n",
      "Store weights of layer 07Dense_10 to file /home/wolin/snn_toolbox/examples/models/lenet5/keras/98.96_brian2/brian2-model/07Dense_10.npz\n"
     ]
    }
   ],
   "source": [
    "spiking_model.save(model_path, model)"
   ]
  },
  {
   "cell_type": "code",
   "execution_count": 1,
   "metadata": {},
   "outputs": [],
   "source": [
    "def collect_weights(spiking_model):\n",
    "    weights = []\n",
    "    for layer in spiking_model.connections:\n",
    "        weights.append(np.copy(layer.w))\n",
    "        \n",
    "    return weights"
   ]
  },
  {
   "cell_type": "code",
   "execution_count": 30,
   "metadata": {},
   "outputs": [],
   "source": [
    "w0 = collect_weights(spiking_model)"
   ]
  },
  {
   "cell_type": "code",
   "execution_count": 31,
   "metadata": {},
   "outputs": [
    {
     "data": {
      "text/plain": [
       "[array([ 0.11287836,  0.04906896,  0.23412429, ..., -0.06220969,\n",
       "        -0.05889574, -0.15978634]),\n",
       " array([0.25, 0.25, 0.25, ..., 0.25, 0.25, 0.25]),\n",
       " array([ 0.06592897,  0.03418881, -0.03738239, ..., -0.01008252,\n",
       "         0.08639906, -0.00747718]),\n",
       " array([0.25, 0.25, 0.25, ..., 0.25, 0.25, 0.25]),\n",
       " array([-0.03047717,  0.01281271, -0.02755789, ...,  0.0972652 ,\n",
       "        -0.10265802, -0.16350664]),\n",
       " array([-0.01206891,  0.00671051,  0.00322337, ..., -0.00020613,\n",
       "        -0.06115219,  0.00049086]),\n",
       " array([ 5.98508179e-01, -1.00004375e+00,  1.10089612e+00,  2.96843886e+00,\n",
       "        -1.90304831e-01, -1.94159269e-01, -2.68824410e+00,  6.85738444e-01,\n",
       "        -2.04456139e+00, -3.32433558e+00,  6.15141928e-01,  2.21534276e+00,\n",
       "         1.92379951e+00,  4.69232887e-01,  2.51933843e-01,  2.09928274e+00,\n",
       "        -1.82165265e+00,  1.14316154e+00, -1.22634363e+00,  9.71844018e-01,\n",
       "        -2.87610936e+00, -9.78852868e-01, -1.90061116e+00,  1.70658016e+00,\n",
       "         2.32846332e+00,  1.07052699e-01, -4.62841749e+00,  8.53051364e-01,\n",
       "         2.22856379e+00,  2.33956718e+00, -3.92668152e+00,  2.38365364e+00,\n",
       "         8.11869621e-01, -3.19189692e+00,  2.62530112e+00,  1.88243723e+00,\n",
       "         7.83199489e-01, -1.13044333e+00,  1.77596748e-01, -2.75086784e+00,\n",
       "        -7.44816720e-01, -1.57960296e+00, -6.42866611e-01, -8.96511674e-01,\n",
       "         3.90796691e-01,  2.56708789e+00, -6.19642675e-01,  2.20311451e+00,\n",
       "         2.48695895e-01,  2.04342508e+00,  1.70628309e+00,  2.94874668e+00,\n",
       "        -4.21216345e+00, -4.60047340e+00, -9.22201216e-01, -2.18574190e+00,\n",
       "         5.21017969e-01, -1.64671159e+00, -1.84374407e-01, -9.39310312e-01,\n",
       "         1.06297767e+00, -8.34622145e-01,  1.62087858e+00, -1.57407570e+00,\n",
       "         1.36536622e+00,  1.76607800e+00, -1.98517895e+00, -7.07146585e-01,\n",
       "         8.59687567e-01, -6.06900334e-01,  5.19766212e-01,  1.13794494e+00,\n",
       "         3.28827560e-01,  1.89646411e+00, -3.06013543e-02,  2.31207681e+00,\n",
       "        -2.06895375e+00,  2.03254247e+00, -2.85987425e+00,  7.86169887e-01,\n",
       "         4.56575215e-01,  5.71502864e-01, -6.95735931e-01, -1.69136584e+00,\n",
       "         2.43461847e+00, -2.78287935e+00, -4.98120993e-01, -2.61124706e+00,\n",
       "         7.13005006e-01, -2.59958178e-01, -1.33920383e+00, -2.12987781e+00,\n",
       "         6.09823406e-01,  6.48281217e-01,  1.04098868e+00, -8.58597010e-02,\n",
       "        -3.04530859e-01,  1.89402235e+00,  6.53861046e-01, -6.45272493e-01,\n",
       "        -3.73129630e+00,  2.91223240e+00, -3.29726720e+00, -5.77538872e+00,\n",
       "         2.17522097e+00, -1.23499668e+00,  5.66672146e-01,  1.37946880e+00,\n",
       "        -2.82988882e+00,  9.35650706e-01,  2.24871159e+00, -1.68501735e+00,\n",
       "        -3.57731557e+00, -2.89119220e+00,  2.32154083e+00,  7.43670583e-01,\n",
       "         2.03507161e+00, -1.67131558e-01,  1.01739287e+00,  1.98530018e+00,\n",
       "        -1.01215649e+00, -3.40406919e+00, -2.01733088e+00, -3.12754214e-01,\n",
       "         5.65725148e-01,  1.68641329e+00,  1.27679765e+00, -4.74288273e+00,\n",
       "        -3.59404415e-01,  2.78453290e-01,  1.30240870e+00, -5.20632553e+00,\n",
       "         3.08169812e-01, -2.34003410e-01, -2.27449679e+00,  1.65070009e+00,\n",
       "         8.44636440e-01, -1.41011274e+00, -1.45918882e+00, -6.37448013e-01,\n",
       "        -2.62251329e+00,  1.82105219e+00,  2.01733279e+00,  1.68746901e+00,\n",
       "         1.52494049e+00, -1.40481484e+00,  1.22123218e+00,  5.10093808e-01,\n",
       "        -1.51542187e+00, -3.87970757e+00, -1.34772110e+00, -1.20604527e+00,\n",
       "        -8.59891236e-01, -1.24107385e+00, -1.65093374e+00, -5.69837868e-01,\n",
       "        -3.75934064e-01, -1.00556862e+00,  1.66265380e+00,  1.15151727e+00,\n",
       "         1.61777407e-01, -4.21262205e-01,  4.99872744e-01,  1.35521781e+00,\n",
       "        -2.39313507e+00, -1.42676497e+00, -2.72560072e+00,  2.32760763e+00,\n",
       "        -5.25229454e-01, -2.66221714e+00, -4.02286482e+00,  2.96692777e+00,\n",
       "        -3.69399023e+00,  3.42335045e-01,  1.47678316e+00, -1.66735983e+00,\n",
       "         2.04505011e-01,  2.27593875e+00, -5.86946249e-01,  5.51588297e-01,\n",
       "        -3.07399297e+00,  8.60882625e-02, -1.95571506e+00,  8.33377123e-01,\n",
       "        -7.45631456e-01, -2.71529031e+00, -4.85071707e+00, -2.58079624e+00,\n",
       "        -3.76012230e+00, -9.90295231e-01, -1.38986814e+00,  3.93543094e-01,\n",
       "        -2.32533789e+00,  2.30519295e+00,  2.48127079e+00, -2.24868131e+00,\n",
       "         2.13074636e+00, -1.57758975e+00,  1.81207013e+00, -2.63076138e+00,\n",
       "         1.94089913e+00, -5.62693059e-01, -1.59289455e+00,  2.55493450e+00,\n",
       "        -4.30826235e+00, -1.69081783e+00,  1.15814626e-01,  9.72091317e-01,\n",
       "         2.85282922e+00,  1.62991893e+00, -2.18021178e+00, -9.28727210e-01,\n",
       "        -2.47680950e+00, -1.56696117e+00,  5.32795906e-01,  2.24504328e+00,\n",
       "         4.44351196e-01, -3.99888778e+00,  1.88659739e+00,  9.51642931e-01,\n",
       "         3.72810960e-02,  3.37584138e+00, -4.00574923e-01, -3.20520043e+00,\n",
       "        -1.70758262e-01, -1.88261902e+00, -4.33262014e+00, -2.48475337e+00,\n",
       "         3.37571406e+00, -1.46544111e+00,  7.91109085e-01,  2.51023507e+00,\n",
       "        -6.08635604e-01, -3.21786404e+00, -3.87731940e-01, -7.83501923e-01,\n",
       "        -1.89537346e+00, -3.86424184e+00, -9.09605920e-01,  4.27056074e-01,\n",
       "        -4.26858187e+00, -2.01308417e+00, -3.68059665e-01, -2.53757739e+00,\n",
       "         1.07299471e+00, -3.11197710e+00, -1.85240477e-01, -5.04618406e-01,\n",
       "         1.95544481e+00, -1.72802061e-01,  2.23339057e+00, -1.20898116e+00,\n",
       "        -5.31194806e-01, -2.46802258e+00,  6.55757010e-01, -2.97434354e+00,\n",
       "        -1.25674546e-01, -3.52832627e+00, -1.14966547e+00,  9.76140738e-01,\n",
       "        -4.30244398e+00, -1.30497813e+00, -1.72753453e+00, -4.13499498e+00,\n",
       "         4.42762047e-01, -2.86039972e+00, -2.38731456e+00, -8.34355414e-01,\n",
       "        -3.60062242e-01,  4.42319214e-01, -1.40806913e+00, -1.70661163e+00,\n",
       "        -2.55616474e+00, -1.46914446e+00,  1.42660928e+00,  2.56675768e+00,\n",
       "        -2.61515403e+00, -9.20402229e-01, -1.20124984e+00,  1.63866556e+00,\n",
       "        -2.80623937e+00, -4.77673960e+00, -1.06727266e+00,  1.19631624e+00,\n",
       "         2.39200950e-01,  1.52455795e+00, -3.68797816e-02,  1.39312220e+00,\n",
       "         6.34909809e-01, -2.17146492e+00, -1.44910499e-01, -9.99296069e-01,\n",
       "         1.37510061e+00,  6.33197606e-01, -2.86963129e+00, -2.66453886e+00,\n",
       "        -3.20629263e+00,  2.86271858e+00,  1.32385194e+00,  1.68373597e+00,\n",
       "         2.04604816e+00,  2.14789224e+00, -1.70440114e+00, -2.19544029e+00,\n",
       "         3.67773861e-01, -3.72427702e-01,  2.19019580e+00,  4.77125108e-01,\n",
       "         8.72266114e-01, -2.08062029e+00,  1.87523150e+00, -2.56047219e-01,\n",
       "        -7.45685220e-01, -2.08859539e+00, -1.45975256e+00, -6.62315965e-01,\n",
       "         1.35597336e+00, -1.74026334e+00, -1.64809540e-01, -4.03479546e-01,\n",
       "         6.56373024e-01, -6.70083475e+00, -1.68161595e+00,  7.10207045e-01,\n",
       "         3.15731138e-01, -2.16458127e-01,  7.93290511e-02, -3.26904082e+00,\n",
       "         5.17445505e-01, -1.69410360e+00,  2.47563601e+00,  1.74134362e+00,\n",
       "        -1.28296268e+00,  7.63946116e-01, -4.53594178e-02, -1.31949151e+00,\n",
       "         1.25426650e+00, -2.97051144e+00,  3.12392640e+00,  9.02804792e-01,\n",
       "        -9.28117812e-01,  9.17317569e-01, -1.68698776e+00,  7.32124448e-01,\n",
       "         2.95139766e+00, -2.10293508e+00, -3.41045356e+00,  1.11141479e+00,\n",
       "         1.80024815e+00,  2.65876508e+00, -2.24808550e+00, -5.29599333e+00,\n",
       "        -2.80737066e+00,  1.37723899e-02,  6.42910302e-02,  6.83861673e-01,\n",
       "         5.97894430e-01,  6.60588324e-01, -3.01887661e-01,  1.27173030e+00,\n",
       "         9.95803833e-01,  9.56597090e-01,  8.07020426e-01,  1.05509758e+00,\n",
       "        -1.77208841e+00,  2.12694955e+00,  8.99198592e-01, -3.26446831e-01,\n",
       "         1.68109560e+00, -3.12370443e+00, -2.10263848e+00, -1.98720026e+00,\n",
       "        -5.03330566e-02, -2.83874106e+00, -1.17938966e-01, -2.29303360e+00,\n",
       "         1.09679830e+00, -2.26003337e+00,  3.48071742e-04, -1.47386777e+00,\n",
       "        -2.87427807e+00, -1.19482732e+00,  1.45715582e+00, -1.28290665e+00,\n",
       "        -2.46927738e+00, -1.37336099e+00,  8.72142553e-01,  4.21823591e-01,\n",
       "         2.39775324e+00, -3.06969118e+00, -2.22814059e+00, -2.05340219e+00,\n",
       "         2.40797743e-01, -1.09787333e+00, -6.71207905e-01, -5.06003261e-01,\n",
       "        -3.06930232e+00, -2.06568789e+00,  6.78768754e-01,  3.12274456e-01,\n",
       "         1.28323555e+00, -2.88512206e+00, -3.38681078e+00, -3.79732758e-01,\n",
       "        -2.47705698e+00,  1.27873182e+00, -4.79021579e-01, -4.58718911e-02,\n",
       "        -1.08821929e+00, -1.89725459e+00, -1.15922248e+00,  2.20387244e+00,\n",
       "        -7.61995673e-01,  1.71122336e+00, -2.78877640e+00, -5.06095827e-01,\n",
       "         1.55128801e+00, -2.97030735e+00, -1.69228867e-01, -1.38631010e+00,\n",
       "         1.77548134e+00,  2.51322985e+00,  4.54537779e-01,  1.51835787e+00,\n",
       "         1.21544814e+00, -1.75886557e-01, -4.50668526e+00, -7.27057755e-01,\n",
       "        -1.41883111e+00,  2.48231339e+00, -1.66816697e-01, -2.76554537e+00,\n",
       "         1.39939630e+00, -9.11394775e-01,  6.34398699e-01, -2.37261117e-01,\n",
       "        -3.74395633e+00,  1.96439481e+00, -2.39216089e+00,  8.09392631e-01,\n",
       "        -1.53131104e+00, -4.56279707e+00,  7.11827517e-01, -1.40157056e+00,\n",
       "         8.73564780e-01, -2.38373065e+00, -4.24795061e-01,  9.35134530e-01,\n",
       "         2.03619289e+00,  2.60169721e+00, -1.46815920e+00, -5.27565765e+00,\n",
       "         1.45743895e+00, -3.81567764e+00,  2.05135703e-01, -5.34127176e-01,\n",
       "         1.44924605e+00, -1.18508482e+00, -2.13905311e+00,  1.40079081e+00,\n",
       "         1.70921278e+00,  9.59753692e-01,  1.09861958e+00,  2.08776861e-01,\n",
       "         1.43036708e-01, -9.41034734e-01, -4.43333387e+00,  6.11758173e-01,\n",
       "         1.98320973e+00, -1.33037364e+00, -1.78754938e+00, -3.25485342e-03,\n",
       "        -8.90922785e-01, -8.99865627e-01,  1.89572549e+00,  2.78443564e-03,\n",
       "        -1.72130370e+00,  2.27209568e+00, -1.61523497e+00, -2.71830857e-01,\n",
       "         2.73224592e+00, -1.26499379e+00, -4.24424744e+00, -6.17663980e-01,\n",
       "        -2.67084694e+00, -9.22932148e-01,  3.02034855e-01, -1.84457767e+00,\n",
       "         3.63723493e+00,  1.63217366e+00, -4.15339708e+00,  1.76518595e+00,\n",
       "        -2.60870266e+00,  2.15021944e+00,  5.58780074e-01,  5.27795553e-01,\n",
       "        -1.45109928e+00, -1.44918883e+00, -3.98419797e-01,  2.34433579e+00,\n",
       "         1.11101222e+00, -1.58821809e+00, -4.14800167e+00,  1.32895917e-01,\n",
       "        -3.08759403e+00,  2.73024178e+00,  1.88587213e+00, -1.30329144e+00,\n",
       "        -5.80366969e-01, -2.73855686e+00, -3.46088338e+00,  3.48077625e-01,\n",
       "        -2.17051601e+00,  2.56482291e+00,  1.80586326e+00,  2.46627831e+00,\n",
       "        -1.01473010e+00, -3.19512010e+00, -1.57785308e+00,  1.22863221e+00,\n",
       "         1.55223382e+00,  1.52787244e+00,  1.38570344e+00,  1.78497612e+00,\n",
       "        -1.66781652e+00, -2.82409668e-01, -1.25974107e+00, -7.38615096e-01,\n",
       "        -1.31664205e+00,  2.58688897e-01, -1.04840934e+00, -2.03339124e+00,\n",
       "         1.60146487e+00, -6.44202769e-01, -9.60211039e-01,  4.87746537e-01,\n",
       "        -2.52162784e-01, -4.98983717e+00, -2.99198925e-01, -1.58153164e+00,\n",
       "         1.96721160e+00,  1.90809536e+00,  5.04158437e-01, -2.36613959e-01,\n",
       "        -3.98772454e+00,  5.01864314e-01, -9.79870260e-01,  2.93153035e-03,\n",
       "        -9.88078952e-01, -1.11101639e+00, -1.74626876e-02, -2.10580420e+00,\n",
       "         1.68251586e+00, -1.32049894e+00,  1.40637591e-01, -8.22752535e-01,\n",
       "        -1.86387920e+00, -3.96433711e-01,  2.69900680e-01,  1.38689652e-01,\n",
       "        -1.51520181e+00, -5.05263567e-01, -2.53727460e+00, -1.37890816e+00,\n",
       "        -2.45338154e+00,  2.70138240e+00, -1.46334445e+00,  2.95744717e-01,\n",
       "        -2.22100449e+00, -5.71506083e-01,  2.80312610e+00, -3.25078583e+00,\n",
       "         2.03525543e+00, -2.66389847e+00,  7.71268368e-01, -1.59655139e-01,\n",
       "         8.66078079e-01, -4.46809590e-01,  1.91344881e+00, -1.48991358e+00,\n",
       "         2.69830322e+00, -3.70383954e+00,  1.66031063e+00, -1.35335588e+00,\n",
       "         2.32739627e-01, -1.65263593e+00,  2.08634600e-01,  1.79039395e+00,\n",
       "        -2.91324425e+00, -2.22672367e+00, -1.51927888e+00,  8.28585684e-01,\n",
       "         4.85384047e-01,  7.49473393e-01, -5.29511118e+00,  3.05762291e-01,\n",
       "         1.55024254e+00, -2.92162871e+00,  1.05524814e+00, -1.13516879e+00,\n",
       "        -2.51195931e+00,  2.01012731e+00,  2.18282080e+00, -9.25516486e-01,\n",
       "        -6.06238365e-01, -3.39615321e+00, -1.69062391e-01,  2.11387849e+00,\n",
       "        -4.56582576e-01,  4.93085146e-01, -2.08336234e+00,  2.12396073e+00,\n",
       "         2.08264852e+00, -2.44578648e+00,  1.25759995e+00, -3.69701791e+00,\n",
       "        -2.38544822e+00,  1.59367442e+00,  1.31048882e+00, -8.88965905e-01,\n",
       "         1.86049211e+00, -2.33971548e+00, -2.14598489e+00,  1.81966293e+00,\n",
       "        -2.93831897e+00, -2.22038174e+00, -7.92503655e-01,  6.51649356e-01,\n",
       "        -1.70640767e+00,  1.89130890e+00, -1.14352965e+00,  3.59308809e-01,\n",
       "         1.26243389e+00,  8.64368752e-02, -3.39767528e+00, -1.96552825e+00,\n",
       "         6.26161277e-01, -2.54004025e+00, -8.76007259e-01,  2.06040621e-01,\n",
       "         7.04199970e-01, -2.49796176e+00, -1.38705587e+00,  3.03327851e-02,\n",
       "        -7.80010104e-01, -1.10975057e-01, -5.18047762e+00, -8.44286025e-01,\n",
       "         8.89687598e-01,  4.43818271e-01, -1.63383022e-01,  1.96857476e+00,\n",
       "         2.01428795e+00, -2.89523911e+00, -4.59208250e-01, -2.42965913e+00,\n",
       "         1.79230225e+00, -1.52356708e+00,  2.42512226e-01, -1.68043888e+00,\n",
       "         4.09326524e-01, -3.49322677e-01,  1.46946037e+00,  4.98428881e-01,\n",
       "        -2.73214912e+00,  1.25989723e+00, -1.06362200e+00,  1.85529160e+00,\n",
       "        -2.78006482e+00,  4.60130095e-01, -1.86038375e-01, -1.10935736e+00,\n",
       "        -1.44274545e+00, -7.02169716e-01,  2.56215429e+00, -3.35817374e-02,\n",
       "         2.58084869e+00, -4.05605745e+00, -3.42862415e+00, -2.34557199e+00,\n",
       "         1.62512720e+00,  3.39250773e-01,  1.48238707e+00, -2.38836050e+00,\n",
       "        -3.36236620e+00,  1.56220424e+00,  1.66371047e+00,  9.09949422e-01,\n",
       "         4.61192429e-03,  1.57112896e+00, -2.46954870e+00, -3.97245526e+00,\n",
       "         1.71830869e+00,  1.30307102e+00,  1.91860783e+00,  2.33936787e+00,\n",
       "        -1.27002835e+00, -1.40296900e+00,  1.44681370e+00,  2.08299994e+00,\n",
       "        -2.33850050e+00, -2.14064717e+00, -1.66753483e+00, -1.48099232e+00,\n",
       "        -1.94002068e+00,  4.82310951e-01, -4.23801517e+00, -1.54597902e+00,\n",
       "         1.31228971e+00, -2.23302627e+00, -2.14434886e+00,  2.16274843e-01,\n",
       "        -8.30931246e-01, -7.02148855e-01,  1.35044587e+00, -4.65373576e-01,\n",
       "         1.51306558e+00, -4.57797337e+00,  1.75341618e+00, -1.33578092e-01,\n",
       "         1.22668087e+00,  1.37716341e+00,  1.22492635e+00, -3.50701213e+00,\n",
       "         1.71841311e+00,  4.86169934e-01,  1.53050780e+00,  3.89443547e-01,\n",
       "        -2.44510555e+00, -3.69339764e-01, -2.40387821e+00, -1.07217038e+00,\n",
       "        -1.19480252e+00,  5.20893872e-01,  2.02373600e+00,  1.88103545e+00,\n",
       "        -3.81933999e+00,  3.10018229e+00, -4.00381625e-01,  2.96665668e+00,\n",
       "        -2.75679970e+00, -3.30688882e+00, -4.67649364e+00, -1.50611937e+00,\n",
       "        -2.08004308e+00,  6.59976602e-01,  1.97190773e+00, -5.00245905e+00,\n",
       "        -1.06028426e+00,  4.54548478e-01, -1.33321214e+00,  2.02610230e+00,\n",
       "        -1.50230348e+00,  1.70618236e+00, -3.44505811e+00,  2.64349914e+00,\n",
       "        -3.79414856e-01,  8.43473852e-01,  1.45459807e+00,  1.96553087e+00,\n",
       "         2.41965079e+00,  1.25530481e+00,  7.28044510e-01, -2.50698018e+00,\n",
       "         4.98248786e-01,  9.51805830e-01,  1.96461856e+00,  1.96843624e+00,\n",
       "        -7.93818712e-01, -2.30029345e+00,  1.21965754e+00, -4.68830109e+00,\n",
       "         2.10289884e+00,  1.03811705e+00,  2.33232245e-01, -2.10595274e+00,\n",
       "        -2.05545855e+00, -1.43054187e+00, -8.75752449e-01, -1.80747241e-01,\n",
       "        -7.02681661e-01,  5.99934161e-01,  6.37135625e-01, -2.35104598e-02,\n",
       "        -3.64624500e+00,  1.05973554e+00, -3.31133991e-01, -3.21547651e+00,\n",
       "         1.98285925e+00, -2.07892203e+00, -4.53629971e+00, -1.07472670e+00,\n",
       "         2.51787162e+00,  3.42509246e+00,  1.59564167e-01, -4.63976771e-01,\n",
       "         1.03270054e+00,  7.24434018e-01,  3.15841651e+00,  4.82426971e-01,\n",
       "        -2.43249726e+00, -1.35584474e+00,  1.39566588e+00,  4.13038015e-01,\n",
       "         1.74365401e-01, -9.98000264e-01, -7.05056310e-01, -1.36071205e+00,\n",
       "        -1.36981934e-01, -2.86953926e-01,  3.00265765e+00, -2.39532995e+00,\n",
       "         1.88471079e+00,  2.22939396e+00,  2.41562366e+00,  2.17238450e+00,\n",
       "         2.71609473e+00, -1.64545965e+00,  5.35378009e-02,  2.49735975e+00,\n",
       "        -1.65169251e+00,  1.42858469e+00,  1.80234790e+00,  2.27534318e+00,\n",
       "        -6.04623973e-01,  4.79370475e-01,  1.00775945e+00,  1.75649285e+00,\n",
       "        -8.76025319e-01, -4.14851379e+00,  1.46491125e-01, -4.13385093e-01,\n",
       "        -1.11471748e+00,  1.99466705e+00, -5.99817514e-01, -2.04226708e+00,\n",
       "         2.45032191e+00, -1.07331002e+00, -7.13823199e-01, -1.44442296e+00])]"
      ]
     },
     "execution_count": 31,
     "metadata": {},
     "output_type": "execute_result"
    }
   ],
   "source": [
    "w0"
   ]
  },
  {
   "cell_type": "code",
   "execution_count": 32,
   "metadata": {
    "scrolled": true
   },
   "outputs": [
    {
     "name": "stdout",
     "output_type": "stream",
     "text": [
      "\n",
      "Starting new simulation...\n",
      "\n",
      "Current accuracy of batch:\n"
     ]
    },
    {
     "name": "stderr",
     "output_type": "stream",
     "text": [
      "WARNING    Came across an abstract code block that may not be well-defined: the outcome may depend on the order of execution. You can ignore this warning if you are sure that the order of operations does not matter. 8 lines of abstract code, first line is: \"_Apre := Apre * exp(_lio_1 * (- (t - lastupdate))) (constant)\"\n",
      " [brian2.codegen.generators.base]\n",
      "WARNING    Came across an abstract code block that may not be well-defined: the outcome may depend on the order of execution. You can ignore this warning if you are sure that the order of operations does not matter. 8 lines of abstract code, first line is: \"_Apre := Apre * exp(_lio_1 * (- (t - lastupdate))) (constant)\"\n",
      " [brian2.codegen.generators.base]\n",
      "WARNING    Came across an abstract code block that may not be well-defined: the outcome may depend on the order of execution. You can ignore this warning if you are sure that the order of operations does not matter. 8 lines of abstract code, first line is: \"_Apre := Apre * exp(_lio_1 * (- (t - lastupdate))) (constant)\"\n",
      " [brian2.codegen.generators.base]\n",
      "WARNING    Came across an abstract code block that may not be well-defined: the outcome may depend on the order of execution. You can ignore this warning if you are sure that the order of operations does not matter. 8 lines of abstract code, first line is: \"_Apre := Apre * exp(_lio_1 * (- (t - lastupdate))) (constant)\"\n",
      " [brian2.codegen.generators.base]\n"
     ]
    },
    {
     "name": "stdout",
     "output_type": "stream",
     "text": [
      "Starting simulation at t=0. s for a duration of 100. ms\n",
      "0.001 (1%) simulated in < 1s, estimated 2s remaining.\n",
      "0.004 (4%) simulated in < 1s, estimated 1s remaining.\n",
      "0.006 (6%) simulated in < 1s, estimated 1s remaining.\n",
      "0.008 (8%) simulated in < 1s, estimated 1s remaining.\n",
      "0.01 (10%) simulated in < 1s, estimated 1s remaining.\n",
      "0.012 (12%) simulated in < 1s, estimated 1s remaining.\n",
      "0.013999999999999999 (13%) simulated in < 1s, estimated 1s remaining.\n",
      "0.016 (16%) simulated in < 1s, estimated 1s remaining.\n",
      "0.018000000000000002 (18%) simulated in < 1s, estimated 1s remaining.\n",
      "0.021 (21%) simulated in < 1s, estimated 1s remaining.\n",
      "0.023 (23%) simulated in < 1s, estimated 1s remaining.\n",
      "0.025 (25%) simulated in < 1s, estimated 1s remaining.\n",
      "0.026999999999999996 (26%) simulated in < 1s, estimated 1s remaining.\n",
      "0.028999999999999998 (28%) simulated in < 1s, estimated 1s remaining.\n",
      "0.031 (31%) simulated in < 1s, estimated 1s remaining.\n",
      "0.033 (33%) simulated in < 1s, estimated 1s remaining.\n",
      "0.035 (35%) simulated in < 1s, estimated 1s remaining.\n",
      "0.038 (37%) simulated in < 1s, estimated 1s remaining.\n",
      "0.041 (41%) simulated in < 1s, estimated 1s remaining.\n",
      "0.043000000000000003 (43%) simulated in < 1s, estimated 1s remaining.\n",
      "0.045 (44%) simulated in < 1s, estimated 1s remaining.\n",
      "0.047 (47%) simulated in < 1s, estimated 1s remaining.\n",
      "0.049 (49%) simulated in < 1s, estimated 1s remaining.\n",
      "0.052000000000000005 (52%) simulated in < 1s, estimated 1s remaining.\n",
      "0.05399999999999999 (53%) simulated in < 1s, estimated 1s remaining.\n",
      "0.055999999999999994 (55%) simulated in < 1s, estimated < 1s remaining.\n",
      "0.057999999999999996 (57%) simulated in < 1s, estimated < 1s remaining.\n",
      "0.06 (60%) simulated in < 1s, estimated < 1s remaining.\n",
      "0.062 (62%) simulated in < 1s, estimated < 1s remaining.\n",
      "0.064 (64%) simulated in < 1s, estimated < 1s remaining.\n",
      "0.066 (66%) simulated in < 1s, estimated < 1s remaining.\n",
      "0.068 (68%) simulated in < 1s, estimated < 1s remaining.\n",
      "0.07 (70%) simulated in < 1s, estimated < 1s remaining.\n",
      "0.07200000000000001 (72%) simulated in < 1s, estimated < 1s remaining.\n",
      "0.074 (73%) simulated in < 1s, estimated < 1s remaining.\n",
      "0.077 (76%) simulated in < 1s, estimated < 1s remaining.\n",
      "0.079 (78%) simulated in < 1s, estimated < 1s remaining.\n",
      "0.081 (81%) simulated in < 1s, estimated < 1s remaining.\n",
      "0.084 (84%) simulated in < 1s, estimated < 1s remaining.\n",
      "0.08600000000000001 (86%) simulated in < 1s, estimated < 1s remaining.\n",
      "0.089 (88%) simulated in < 1s, estimated < 1s remaining.\n",
      "0.091 (90%) simulated in < 1s, estimated < 1s remaining.\n",
      "0.094 (94%) simulated in 1s, estimated < 1s remaining.\n",
      "0.097 (97%) simulated in 1s, estimated < 1s remaining.\n",
      "0.1 (100%) simulated in 1s\n",
      "\n",
      "Batch 1 of 10 completed (10.0%)\n",
      "Moving accuracy of SNN (top-1, top-1): 100.00%, 100.00%.\n",
      "Moving accuracy of ANN (top-1, top-1): 100.00%, 100.00%.\n",
      "\n",
      "Calculating activations...\n",
      "\n",
      "Average spike rate: 0.01967015956180043 spikes per simulation time step.\n",
      "Saving plots of one sample to /home/wolin/snn_toolbox/examples/models/lenet5/keras/log/gui/test...\n",
      "\n",
      "Plotting layer 00Conv2D_6x24x24\n",
      "Plotting layer 01MaxPooling2D_6x12x12\n",
      "Plotting layer 02Conv2D_16x8x8\n",
      "Plotting layer 03MaxPooling2D_16x4x4\n",
      "Plotting layer 04Conv2D_120x4x4\n",
      "Plotting layer 06Dense_84\n",
      "Plotting layer 07Dense_10\n",
      "Plotting batch run statistics...\n",
      "Done.\n",
      "\n",
      "Resetting simulator...\n",
      "\n",
      "Starting new simulation...\n",
      "\n",
      "Current accuracy of batch:\n"
     ]
    },
    {
     "name": "stderr",
     "output_type": "stream",
     "text": [
      "WARNING    Came across an abstract code block that may not be well-defined: the outcome may depend on the order of execution. You can ignore this warning if you are sure that the order of operations does not matter. 8 lines of abstract code, first line is: \"_Apre := Apre * exp(_lio_1 * (- (t - lastupdate))) (constant)\"\n",
      " [brian2.codegen.generators.base]\n",
      "WARNING    Came across an abstract code block that may not be well-defined: the outcome may depend on the order of execution. You can ignore this warning if you are sure that the order of operations does not matter. 8 lines of abstract code, first line is: \"_Apre := Apre * exp(_lio_1 * (- (t - lastupdate))) (constant)\"\n",
      " [brian2.codegen.generators.base]\n",
      "WARNING    Came across an abstract code block that may not be well-defined: the outcome may depend on the order of execution. You can ignore this warning if you are sure that the order of operations does not matter. 8 lines of abstract code, first line is: \"_Apre := Apre * exp(_lio_1 * (- (t - lastupdate))) (constant)\"\n",
      " [brian2.codegen.generators.base]\n",
      "WARNING    Came across an abstract code block that may not be well-defined: the outcome may depend on the order of execution. You can ignore this warning if you are sure that the order of operations does not matter. 8 lines of abstract code, first line is: \"_Apre := Apre * exp(_lio_1 * (- (t - lastupdate))) (constant)\"\n",
      " [brian2.codegen.generators.base]\n"
     ]
    },
    {
     "name": "stdout",
     "output_type": "stream",
     "text": [
      "Starting simulation at t=0. s for a duration of 100. ms\n",
      "0.004 (4%) simulated in < 1s, estimated 1s remaining.\n",
      "0.006 (6%) simulated in < 1s, estimated 1s remaining.\n",
      "0.017 (17%) simulated in < 1s, estimated < 1s remaining.\n",
      "0.02 (20%) simulated in < 1s, estimated < 1s remaining.\n",
      "0.022 (21%) simulated in < 1s, estimated < 1s remaining.\n",
      "0.031 (31%) simulated in < 1s, estimated < 1s remaining.\n",
      "0.033 (33%) simulated in < 1s, estimated < 1s remaining.\n",
      "0.037 (36%) simulated in < 1s, estimated < 1s remaining.\n",
      "0.039 (38%) simulated in < 1s, estimated < 1s remaining.\n",
      "0.044 (43%) simulated in < 1s, estimated < 1s remaining.\n",
      "0.047 (47%) simulated in < 1s, estimated < 1s remaining.\n",
      "0.049 (49%) simulated in < 1s, estimated < 1s remaining.\n",
      "0.059 (59%) simulated in < 1s, estimated < 1s remaining.\n",
      "0.062 (62%) simulated in < 1s, estimated < 1s remaining.\n",
      "0.064 (64%) simulated in < 1s, estimated < 1s remaining.\n",
      "0.07 (70%) simulated in < 1s, estimated < 1s remaining.\n",
      "0.07200000000000001 (72%) simulated in < 1s, estimated < 1s remaining.\n",
      "0.075 (74%) simulated in < 1s, estimated < 1s remaining.\n",
      "0.077 (76%) simulated in < 1s, estimated < 1s remaining.\n",
      "0.083 (83%) simulated in < 1s, estimated < 1s remaining.\n",
      "0.085 (85%) simulated in < 1s, estimated < 1s remaining.\n",
      "0.088 (87%) simulated in < 1s, estimated < 1s remaining.\n",
      "0.09 (89%) simulated in < 1s, estimated < 1s remaining.\n",
      "0.092 (92%) simulated in < 1s, estimated < 1s remaining.\n",
      "0.097 (97%) simulated in < 1s, estimated < 1s remaining.\n",
      "0.099 (99%) simulated in < 1s, estimated < 1s remaining.\n",
      "0.1 (100%) simulated in < 1s\n",
      "\n",
      "Batch 2 of 10 completed (20.0%)\n",
      "Moving accuracy of SNN (top-1, top-1): 100.00%, 100.00%.\n",
      "Moving accuracy of ANN (top-1, top-1): 100.00%, 100.00%.\n",
      "\n",
      "Calculating activations...\n",
      "\n",
      "Average spike rate: 0.027506549178375805 spikes per simulation time step.\n",
      "Saving plots of one sample to /home/wolin/snn_toolbox/examples/models/lenet5/keras/log/gui/test...\n",
      "\n",
      "Plotting layer 00Conv2D_6x24x24\n",
      "Plotting layer 01MaxPooling2D_6x12x12\n"
     ]
    },
    {
     "ename": "KeyboardInterrupt",
     "evalue": "",
     "output_type": "error",
     "traceback": [
      "\u001b[0;31m---------------------------------------------------------------------------\u001b[0m",
      "\u001b[0;31mKeyboardInterrupt\u001b[0m                         Traceback (most recent call last)",
      "\u001b[0;32m<ipython-input-32-ed8b1b36dc1f>\u001b[0m in \u001b[0;36m<module>\u001b[0;34m\u001b[0m\n\u001b[0;32m----> 1\u001b[0;31m \u001b[0mresults\u001b[0m \u001b[0;34m=\u001b[0m \u001b[0mrun\u001b[0m\u001b[0;34m(\u001b[0m\u001b[0mspiking_model\u001b[0m\u001b[0;34m,\u001b[0m \u001b[0;34m**\u001b[0m\u001b[0mtestset\u001b[0m\u001b[0;34m)\u001b[0m\u001b[0;34m\u001b[0m\u001b[0;34m\u001b[0m\u001b[0m\n\u001b[0m",
      "\u001b[0;32m<ipython-input-28-96ad72107f24>\u001b[0m in \u001b[0;36mrun\u001b[0;34m(snn, **test_set)\u001b[0m\n\u001b[1;32m      1\u001b[0m \u001b[0;32mdef\u001b[0m \u001b[0mrun\u001b[0m\u001b[0;34m(\u001b[0m\u001b[0msnn\u001b[0m\u001b[0;34m,\u001b[0m \u001b[0;34m**\u001b[0m\u001b[0mtest_set\u001b[0m\u001b[0;34m)\u001b[0m\u001b[0;34m:\u001b[0m\u001b[0;34m\u001b[0m\u001b[0;34m\u001b[0m\u001b[0m\n\u001b[0;32m----> 2\u001b[0;31m     \u001b[0;32mreturn\u001b[0m \u001b[0msnn\u001b[0m\u001b[0;34m.\u001b[0m\u001b[0mrun\u001b[0m\u001b[0;34m(\u001b[0m\u001b[0;34m**\u001b[0m\u001b[0mtest_set\u001b[0m\u001b[0;34m)\u001b[0m\u001b[0;34m\u001b[0m\u001b[0;34m\u001b[0m\u001b[0m\n\u001b[0m",
      "\u001b[0;32m~/snn_toolbox/snntoolbox/simulation/utils.py\u001b[0m in \u001b[0;36mrun\u001b[0;34m(self, x_test, y_test, dataflow, **kwargs)\u001b[0m\n\u001b[1;32m    724\u001b[0m             \u001b[0;32mif\u001b[0m \u001b[0mlen\u001b[0m\u001b[0;34m(\u001b[0m\u001b[0mself\u001b[0m\u001b[0;34m.\u001b[0m\u001b[0m_plot_keys\u001b[0m\u001b[0;34m)\u001b[0m \u001b[0;34m>\u001b[0m \u001b[0;36m0\u001b[0m\u001b[0;34m:\u001b[0m\u001b[0;34m\u001b[0m\u001b[0;34m\u001b[0m\u001b[0m\n\u001b[1;32m    725\u001b[0m                 snn_plt.output_graphs(plot_vars, self.config, log_dir, 0,\n\u001b[0;32m--> 726\u001b[0;31m                                       self.data_format)\n\u001b[0m\u001b[1;32m    727\u001b[0m \u001b[0;34m\u001b[0m\u001b[0m\n\u001b[1;32m    728\u001b[0m             \u001b[0;31m# Reset network variables.\u001b[0m\u001b[0;34m\u001b[0m\u001b[0;34m\u001b[0m\u001b[0;34m\u001b[0m\u001b[0m\n",
      "\u001b[0;32m~/snn_toolbox/snntoolbox/simulation/plotting.py\u001b[0m in \u001b[0;36moutput_graphs\u001b[0;34m(plot_vars, config, path, idx, data_format)\u001b[0m\n\u001b[1;32m     86\u001b[0m                 plot_vars['spikerates_n_b_l'], idx)\n\u001b[1;32m     87\u001b[0m \u001b[0;34m\u001b[0m\u001b[0m\n\u001b[0;32m---> 88\u001b[0;31m     \u001b[0mplot_layer_summaries\u001b[0m\u001b[0;34m(\u001b[0m\u001b[0mplot_vars\u001b[0m\u001b[0;34m,\u001b[0m \u001b[0mconfig\u001b[0m\u001b[0;34m,\u001b[0m \u001b[0mpath\u001b[0m\u001b[0;34m,\u001b[0m \u001b[0mdata_format\u001b[0m\u001b[0;34m)\u001b[0m\u001b[0;34m\u001b[0m\u001b[0;34m\u001b[0m\u001b[0m\n\u001b[0m\u001b[1;32m     89\u001b[0m \u001b[0;34m\u001b[0m\u001b[0m\n\u001b[1;32m     90\u001b[0m     \u001b[0mprint\u001b[0m\u001b[0;34m(\u001b[0m\u001b[0;34m\"Plotting batch run statistics...\"\u001b[0m\u001b[0;34m)\u001b[0m\u001b[0;34m\u001b[0m\u001b[0;34m\u001b[0m\u001b[0m\n",
      "\u001b[0;32m~/snn_toolbox/snntoolbox/simulation/plotting.py\u001b[0m in \u001b[0;36mplot_layer_summaries\u001b[0;34m(plot_vars, config, path, data_format)\u001b[0m\n\u001b[1;32m    187\u001b[0m             plot_activations_minus_rates(plot_vars['spikerates_n_l'][i][0],\n\u001b[1;32m    188\u001b[0m                                          \u001b[0mplot_vars\u001b[0m\u001b[0;34m[\u001b[0m\u001b[0;34m'activations_n_l'\u001b[0m\u001b[0;34m]\u001b[0m\u001b[0;34m[\u001b[0m\u001b[0mi\u001b[0m\u001b[0;34m]\u001b[0m\u001b[0;34m[\u001b[0m\u001b[0;36m0\u001b[0m\u001b[0;34m]\u001b[0m\u001b[0;34m,\u001b[0m\u001b[0;34m\u001b[0m\u001b[0;34m\u001b[0m\u001b[0m\n\u001b[0;32m--> 189\u001b[0;31m                                          name, newpath, data_format)\n\u001b[0m\u001b[1;32m    190\u001b[0m         \u001b[0;32mif\u001b[0m \u001b[0;34m'correlation'\u001b[0m \u001b[0;32min\u001b[0m \u001b[0mplot_keys\u001b[0m\u001b[0;34m:\u001b[0m\u001b[0;34m\u001b[0m\u001b[0;34m\u001b[0m\u001b[0m\n\u001b[1;32m    191\u001b[0m             plot_layer_correlation(plot_vars['spikerates_n_l'][i][0].flatten(),\n",
      "\u001b[0;32m~/snn_toolbox/snntoolbox/simulation/plotting.py\u001b[0m in \u001b[0;36mplot_activations_minus_rates\u001b[0;34m(activations, rates, label, path, data_format)\u001b[0m\n\u001b[1;32m    375\u001b[0m     plot_layer_activity(\n\u001b[1;32m    376\u001b[0m         \u001b[0;34m(\u001b[0m\u001b[0mactivations_norm\u001b[0m \u001b[0;34m-\u001b[0m \u001b[0mrates_norm\u001b[0m\u001b[0;34m,\u001b[0m \u001b[0mlabel\u001b[0m\u001b[0;34m)\u001b[0m\u001b[0;34m,\u001b[0m\u001b[0;34m\u001b[0m\u001b[0;34m\u001b[0m\u001b[0m\n\u001b[0;32m--> 377\u001b[0;31m         str('Activations_minus_Spikerates'), path, (-1, 1), data_format)\n\u001b[0m\u001b[1;32m    378\u001b[0m \u001b[0;34m\u001b[0m\u001b[0m\n\u001b[1;32m    379\u001b[0m \u001b[0;34m\u001b[0m\u001b[0m\n",
      "\u001b[0;32m~/snn_toolbox/snntoolbox/simulation/plotting.py\u001b[0m in \u001b[0;36mplot_layer_activity\u001b[0;34m(layer, title, path, limits, data_format)\u001b[0m\n\u001b[1;32m    277\u001b[0m             \u001b[0mfac\u001b[0m \u001b[0;34m=\u001b[0m \u001b[0mnum_cols\u001b[0m \u001b[0;34m/\u001b[0m \u001b[0;36m4\u001b[0m\u001b[0;34m\u001b[0m\u001b[0;34m\u001b[0m\u001b[0m\n\u001b[1;32m    278\u001b[0m         f, ax = plt.subplots(num_rows, num_cols, squeeze=False,\n\u001b[0;32m--> 279\u001b[0;31m                              figsize=(3+num_cols*2, 11))\n\u001b[0m\u001b[1;32m    280\u001b[0m         \u001b[0;32mfor\u001b[0m \u001b[0mi\u001b[0m \u001b[0;32min\u001b[0m \u001b[0mrange\u001b[0m\u001b[0;34m(\u001b[0m\u001b[0mnum_rows\u001b[0m\u001b[0;34m)\u001b[0m\u001b[0;34m:\u001b[0m\u001b[0;34m\u001b[0m\u001b[0;34m\u001b[0m\u001b[0m\n\u001b[1;32m    281\u001b[0m             \u001b[0;32mfor\u001b[0m \u001b[0mj\u001b[0m \u001b[0;32min\u001b[0m \u001b[0mrange\u001b[0m\u001b[0;34m(\u001b[0m\u001b[0mnum_cols\u001b[0m\u001b[0;34m)\u001b[0m\u001b[0;34m:\u001b[0m\u001b[0;34m\u001b[0m\u001b[0;34m\u001b[0m\u001b[0m\n",
      "\u001b[0;32m~/.conda/envs/tf2/lib/python3.7/site-packages/matplotlib/pyplot.py\u001b[0m in \u001b[0;36msubplots\u001b[0;34m(nrows, ncols, sharex, sharey, squeeze, subplot_kw, gridspec_kw, **fig_kw)\u001b[0m\n\u001b[1;32m   1210\u001b[0m     axs = fig.subplots(nrows=nrows, ncols=ncols, sharex=sharex, sharey=sharey,\n\u001b[1;32m   1211\u001b[0m                        \u001b[0msqueeze\u001b[0m\u001b[0;34m=\u001b[0m\u001b[0msqueeze\u001b[0m\u001b[0;34m,\u001b[0m \u001b[0msubplot_kw\u001b[0m\u001b[0;34m=\u001b[0m\u001b[0msubplot_kw\u001b[0m\u001b[0;34m,\u001b[0m\u001b[0;34m\u001b[0m\u001b[0;34m\u001b[0m\u001b[0m\n\u001b[0;32m-> 1212\u001b[0;31m                        gridspec_kw=gridspec_kw)\n\u001b[0m\u001b[1;32m   1213\u001b[0m     \u001b[0;32mreturn\u001b[0m \u001b[0mfig\u001b[0m\u001b[0;34m,\u001b[0m \u001b[0maxs\u001b[0m\u001b[0;34m\u001b[0m\u001b[0;34m\u001b[0m\u001b[0m\n\u001b[1;32m   1214\u001b[0m \u001b[0;34m\u001b[0m\u001b[0m\n",
      "\u001b[0;32m~/.conda/envs/tf2/lib/python3.7/site-packages/matplotlib/figure.py\u001b[0m in \u001b[0;36msubplots\u001b[0;34m(self, nrows, ncols, sharex, sharey, squeeze, subplot_kw, gridspec_kw)\u001b[0m\n\u001b[1;32m   1573\u001b[0m                 \u001b[0msubplot_kw\u001b[0m\u001b[0;34m[\u001b[0m\u001b[0;34m\"sharex\"\u001b[0m\u001b[0;34m]\u001b[0m \u001b[0;34m=\u001b[0m \u001b[0mshared_with\u001b[0m\u001b[0;34m[\u001b[0m\u001b[0msharex\u001b[0m\u001b[0;34m]\u001b[0m\u001b[0;34m\u001b[0m\u001b[0;34m\u001b[0m\u001b[0m\n\u001b[1;32m   1574\u001b[0m                 \u001b[0msubplot_kw\u001b[0m\u001b[0;34m[\u001b[0m\u001b[0;34m\"sharey\"\u001b[0m\u001b[0;34m]\u001b[0m \u001b[0;34m=\u001b[0m \u001b[0mshared_with\u001b[0m\u001b[0;34m[\u001b[0m\u001b[0msharey\u001b[0m\u001b[0;34m]\u001b[0m\u001b[0;34m\u001b[0m\u001b[0;34m\u001b[0m\u001b[0m\n\u001b[0;32m-> 1575\u001b[0;31m                 \u001b[0maxarr\u001b[0m\u001b[0;34m[\u001b[0m\u001b[0mrow\u001b[0m\u001b[0;34m,\u001b[0m \u001b[0mcol\u001b[0m\u001b[0;34m]\u001b[0m \u001b[0;34m=\u001b[0m \u001b[0mself\u001b[0m\u001b[0;34m.\u001b[0m\u001b[0madd_subplot\u001b[0m\u001b[0;34m(\u001b[0m\u001b[0mgs\u001b[0m\u001b[0;34m[\u001b[0m\u001b[0mrow\u001b[0m\u001b[0;34m,\u001b[0m \u001b[0mcol\u001b[0m\u001b[0;34m]\u001b[0m\u001b[0;34m,\u001b[0m \u001b[0;34m**\u001b[0m\u001b[0msubplot_kw\u001b[0m\u001b[0;34m)\u001b[0m\u001b[0;34m\u001b[0m\u001b[0;34m\u001b[0m\u001b[0m\n\u001b[0m\u001b[1;32m   1576\u001b[0m \u001b[0;34m\u001b[0m\u001b[0m\n\u001b[1;32m   1577\u001b[0m         \u001b[0;31m# turn off redundant tick labeling\u001b[0m\u001b[0;34m\u001b[0m\u001b[0;34m\u001b[0m\u001b[0;34m\u001b[0m\u001b[0m\n",
      "\u001b[0;32m~/.conda/envs/tf2/lib/python3.7/site-packages/matplotlib/figure.py\u001b[0m in \u001b[0;36madd_subplot\u001b[0;34m(self, *args, **kwargs)\u001b[0m\n\u001b[1;32m   1412\u001b[0m                     \u001b[0mself\u001b[0m\u001b[0;34m.\u001b[0m\u001b[0m_axstack\u001b[0m\u001b[0;34m.\u001b[0m\u001b[0mremove\u001b[0m\u001b[0;34m(\u001b[0m\u001b[0max\u001b[0m\u001b[0;34m)\u001b[0m\u001b[0;34m\u001b[0m\u001b[0;34m\u001b[0m\u001b[0m\n\u001b[1;32m   1413\u001b[0m \u001b[0;34m\u001b[0m\u001b[0m\n\u001b[0;32m-> 1414\u001b[0;31m             \u001b[0ma\u001b[0m \u001b[0;34m=\u001b[0m \u001b[0msubplot_class_factory\u001b[0m\u001b[0;34m(\u001b[0m\u001b[0mprojection_class\u001b[0m\u001b[0;34m)\u001b[0m\u001b[0;34m(\u001b[0m\u001b[0mself\u001b[0m\u001b[0;34m,\u001b[0m \u001b[0;34m*\u001b[0m\u001b[0margs\u001b[0m\u001b[0;34m,\u001b[0m \u001b[0;34m**\u001b[0m\u001b[0mkwargs\u001b[0m\u001b[0;34m)\u001b[0m\u001b[0;34m\u001b[0m\u001b[0;34m\u001b[0m\u001b[0m\n\u001b[0m\u001b[1;32m   1415\u001b[0m \u001b[0;34m\u001b[0m\u001b[0m\n\u001b[1;32m   1416\u001b[0m         \u001b[0;32mreturn\u001b[0m \u001b[0mself\u001b[0m\u001b[0;34m.\u001b[0m\u001b[0m_add_axes_internal\u001b[0m\u001b[0;34m(\u001b[0m\u001b[0mkey\u001b[0m\u001b[0;34m,\u001b[0m \u001b[0ma\u001b[0m\u001b[0;34m)\u001b[0m\u001b[0;34m\u001b[0m\u001b[0;34m\u001b[0m\u001b[0m\n",
      "\u001b[0;32m~/.conda/envs/tf2/lib/python3.7/site-packages/matplotlib/axes/_subplots.py\u001b[0m in \u001b[0;36m__init__\u001b[0;34m(self, fig, *args, **kwargs)\u001b[0m\n\u001b[1;32m     67\u001b[0m \u001b[0;34m\u001b[0m\u001b[0m\n\u001b[1;32m     68\u001b[0m         \u001b[0;31m# _axes_class is set in the subplot_class_factory\u001b[0m\u001b[0;34m\u001b[0m\u001b[0;34m\u001b[0m\u001b[0;34m\u001b[0m\u001b[0m\n\u001b[0;32m---> 69\u001b[0;31m         \u001b[0mself\u001b[0m\u001b[0;34m.\u001b[0m\u001b[0m_axes_class\u001b[0m\u001b[0;34m.\u001b[0m\u001b[0m__init__\u001b[0m\u001b[0;34m(\u001b[0m\u001b[0mself\u001b[0m\u001b[0;34m,\u001b[0m \u001b[0mfig\u001b[0m\u001b[0;34m,\u001b[0m \u001b[0mself\u001b[0m\u001b[0;34m.\u001b[0m\u001b[0mfigbox\u001b[0m\u001b[0;34m,\u001b[0m \u001b[0;34m**\u001b[0m\u001b[0mkwargs\u001b[0m\u001b[0;34m)\u001b[0m\u001b[0;34m\u001b[0m\u001b[0;34m\u001b[0m\u001b[0m\n\u001b[0m\u001b[1;32m     70\u001b[0m         \u001b[0;31m# add a layout box to this, for both the full axis, and the poss\u001b[0m\u001b[0;34m\u001b[0m\u001b[0;34m\u001b[0m\u001b[0;34m\u001b[0m\u001b[0m\n\u001b[1;32m     71\u001b[0m         \u001b[0;31m# of the axis.  We need both because the axes may become smaller\u001b[0m\u001b[0;34m\u001b[0m\u001b[0;34m\u001b[0m\u001b[0;34m\u001b[0m\u001b[0m\n",
      "\u001b[0;32m~/.conda/envs/tf2/lib/python3.7/site-packages/matplotlib/axes/_base.py\u001b[0m in \u001b[0;36m__init__\u001b[0;34m(self, fig, rect, facecolor, frameon, sharex, sharey, label, xscale, yscale, **kwargs)\u001b[0m\n\u001b[1;32m    530\u001b[0m             labelright=(rcParams['ytick.labelright'] and\n\u001b[1;32m    531\u001b[0m                         rcParams['ytick.minor.right']),\n\u001b[0;32m--> 532\u001b[0;31m             which='minor')\n\u001b[0m\u001b[1;32m    533\u001b[0m \u001b[0;34m\u001b[0m\u001b[0m\n\u001b[1;32m    534\u001b[0m         self.tick_params(\n",
      "\u001b[0;32m~/.conda/envs/tf2/lib/python3.7/site-packages/matplotlib/axes/_base.py\u001b[0m in \u001b[0;36mtick_params\u001b[0;34m(self, axis, **kwargs)\u001b[0m\n\u001b[1;32m   3007\u001b[0m             \u001b[0mxkw\u001b[0m\u001b[0;34m.\u001b[0m\u001b[0mpop\u001b[0m\u001b[0;34m(\u001b[0m\u001b[0;34m'labelleft'\u001b[0m\u001b[0;34m,\u001b[0m \u001b[0;32mNone\u001b[0m\u001b[0;34m)\u001b[0m\u001b[0;34m\u001b[0m\u001b[0;34m\u001b[0m\u001b[0m\n\u001b[1;32m   3008\u001b[0m             \u001b[0mxkw\u001b[0m\u001b[0;34m.\u001b[0m\u001b[0mpop\u001b[0m\u001b[0;34m(\u001b[0m\u001b[0;34m'labelright'\u001b[0m\u001b[0;34m,\u001b[0m \u001b[0;32mNone\u001b[0m\u001b[0;34m)\u001b[0m\u001b[0;34m\u001b[0m\u001b[0;34m\u001b[0m\u001b[0m\n\u001b[0;32m-> 3009\u001b[0;31m             \u001b[0mself\u001b[0m\u001b[0;34m.\u001b[0m\u001b[0mxaxis\u001b[0m\u001b[0;34m.\u001b[0m\u001b[0mset_tick_params\u001b[0m\u001b[0;34m(\u001b[0m\u001b[0;34m**\u001b[0m\u001b[0mxkw\u001b[0m\u001b[0;34m)\u001b[0m\u001b[0;34m\u001b[0m\u001b[0;34m\u001b[0m\u001b[0m\n\u001b[0m\u001b[1;32m   3010\u001b[0m         \u001b[0;32mif\u001b[0m \u001b[0maxis\u001b[0m \u001b[0;32min\u001b[0m \u001b[0;34m[\u001b[0m\u001b[0;34m'y'\u001b[0m\u001b[0;34m,\u001b[0m \u001b[0;34m'both'\u001b[0m\u001b[0;34m]\u001b[0m\u001b[0;34m:\u001b[0m\u001b[0;34m\u001b[0m\u001b[0;34m\u001b[0m\u001b[0m\n\u001b[1;32m   3011\u001b[0m             \u001b[0mykw\u001b[0m \u001b[0;34m=\u001b[0m \u001b[0mdict\u001b[0m\u001b[0;34m(\u001b[0m\u001b[0mkwargs\u001b[0m\u001b[0;34m)\u001b[0m\u001b[0;34m\u001b[0m\u001b[0;34m\u001b[0m\u001b[0m\n",
      "\u001b[0;32m~/.conda/envs/tf2/lib/python3.7/site-packages/matplotlib/axis.py\u001b[0m in \u001b[0;36mset_tick_params\u001b[0;34m(self, which, reset, **kw)\u001b[0m\n\u001b[1;32m    890\u001b[0m             \u001b[0;32mif\u001b[0m \u001b[0mwhich\u001b[0m \u001b[0;34m==\u001b[0m \u001b[0;34m'minor'\u001b[0m \u001b[0;32mor\u001b[0m \u001b[0mwhich\u001b[0m \u001b[0;34m==\u001b[0m \u001b[0;34m'both'\u001b[0m\u001b[0;34m:\u001b[0m\u001b[0;34m\u001b[0m\u001b[0;34m\u001b[0m\u001b[0m\n\u001b[1;32m    891\u001b[0m                 \u001b[0;32mfor\u001b[0m \u001b[0mtick\u001b[0m \u001b[0;32min\u001b[0m \u001b[0mself\u001b[0m\u001b[0;34m.\u001b[0m\u001b[0mminorTicks\u001b[0m\u001b[0;34m:\u001b[0m\u001b[0;34m\u001b[0m\u001b[0;34m\u001b[0m\u001b[0m\n\u001b[0;32m--> 892\u001b[0;31m                     \u001b[0mtick\u001b[0m\u001b[0;34m.\u001b[0m\u001b[0m_apply_params\u001b[0m\u001b[0;34m(\u001b[0m\u001b[0;34m**\u001b[0m\u001b[0mkwtrans\u001b[0m\u001b[0;34m)\u001b[0m\u001b[0;34m\u001b[0m\u001b[0;34m\u001b[0m\u001b[0m\n\u001b[0m\u001b[1;32m    893\u001b[0m             \u001b[0;31m# special-case label color to also apply to the offset\u001b[0m\u001b[0;34m\u001b[0m\u001b[0;34m\u001b[0m\u001b[0;34m\u001b[0m\u001b[0m\n\u001b[1;32m    894\u001b[0m             \u001b[0;31m# text\u001b[0m\u001b[0;34m\u001b[0m\u001b[0;34m\u001b[0m\u001b[0;34m\u001b[0m\u001b[0m\n",
      "\u001b[0;32m~/.conda/envs/tf2/lib/python3.7/site-packages/matplotlib/axis.py\u001b[0m in \u001b[0;36m_apply_params\u001b[0;34m(self, **kw)\u001b[0m\n\u001b[1;32m    371\u001b[0m                     if k in ['labelsize', 'labelcolor']}\n\u001b[1;32m    372\u001b[0m         \u001b[0mself\u001b[0m\u001b[0;34m.\u001b[0m\u001b[0mlabel1\u001b[0m\u001b[0;34m.\u001b[0m\u001b[0mset\u001b[0m\u001b[0;34m(\u001b[0m\u001b[0;34m**\u001b[0m\u001b[0mlabel_kw\u001b[0m\u001b[0;34m)\u001b[0m\u001b[0;34m\u001b[0m\u001b[0;34m\u001b[0m\u001b[0m\n\u001b[0;32m--> 373\u001b[0;31m         \u001b[0mself\u001b[0m\u001b[0;34m.\u001b[0m\u001b[0mlabel2\u001b[0m\u001b[0;34m.\u001b[0m\u001b[0mset\u001b[0m\u001b[0;34m(\u001b[0m\u001b[0;34m**\u001b[0m\u001b[0mlabel_kw\u001b[0m\u001b[0;34m)\u001b[0m\u001b[0;34m\u001b[0m\u001b[0;34m\u001b[0m\u001b[0m\n\u001b[0m\u001b[1;32m    374\u001b[0m         \u001b[0;32mfor\u001b[0m \u001b[0mk\u001b[0m\u001b[0;34m,\u001b[0m \u001b[0mv\u001b[0m \u001b[0;32min\u001b[0m \u001b[0mlabel_kw\u001b[0m\u001b[0;34m.\u001b[0m\u001b[0mitems\u001b[0m\u001b[0;34m(\u001b[0m\u001b[0;34m)\u001b[0m\u001b[0;34m:\u001b[0m\u001b[0;34m\u001b[0m\u001b[0;34m\u001b[0m\u001b[0m\n\u001b[1;32m    375\u001b[0m             \u001b[0;31m# for labelsize the text objects covert str ('small')\u001b[0m\u001b[0;34m\u001b[0m\u001b[0;34m\u001b[0m\u001b[0;34m\u001b[0m\u001b[0m\n",
      "\u001b[0;32m~/.conda/envs/tf2/lib/python3.7/site-packages/matplotlib/artist.py\u001b[0m in \u001b[0;36mset\u001b[0;34m(self, **kwargs)\u001b[0m\n\u001b[1;32m   1065\u001b[0m         \u001b[0;34m\"\"\"A property batch setter.  Pass *kwargs* to set properties.\"\"\"\u001b[0m\u001b[0;34m\u001b[0m\u001b[0;34m\u001b[0m\u001b[0m\n\u001b[1;32m   1066\u001b[0m         kwargs = cbook.normalize_kwargs(\n\u001b[0;32m-> 1067\u001b[0;31m             kwargs, getattr(type(self), \"_alias_map\", {}))\n\u001b[0m\u001b[1;32m   1068\u001b[0m         props = OrderedDict(\n\u001b[1;32m   1069\u001b[0m             sorted(kwargs.items(), reverse=True,\n",
      "\u001b[0;32m~/.conda/envs/tf2/lib/python3.7/site-packages/matplotlib/cbook/__init__.py\u001b[0m in \u001b[0;36mnormalize_kwargs\u001b[0;34m(kw, alias_mapping, required, forbidden, allowed)\u001b[0m\n\u001b[1;32m   1735\u001b[0m                 \u001b[0mseen\u001b[0m\u001b[0;34m.\u001b[0m\u001b[0mappend\u001b[0m\u001b[0;34m(\u001b[0m\u001b[0ma\u001b[0m\u001b[0;34m)\u001b[0m\u001b[0;34m\u001b[0m\u001b[0;34m\u001b[0m\u001b[0m\n\u001b[1;32m   1736\u001b[0m             \u001b[0;32mexcept\u001b[0m \u001b[0mKeyError\u001b[0m\u001b[0;34m:\u001b[0m\u001b[0;34m\u001b[0m\u001b[0;34m\u001b[0m\u001b[0m\n\u001b[0;32m-> 1737\u001b[0;31m                 \u001b[0;32mpass\u001b[0m\u001b[0;34m\u001b[0m\u001b[0;34m\u001b[0m\u001b[0m\n\u001b[0m\u001b[1;32m   1738\u001b[0m         \u001b[0;31m# if canonical is not in the alias_list assume highest priority\u001b[0m\u001b[0;34m\u001b[0m\u001b[0;34m\u001b[0m\u001b[0;34m\u001b[0m\u001b[0m\n\u001b[1;32m   1739\u001b[0m         \u001b[0;32mif\u001b[0m \u001b[0mcanonical\u001b[0m \u001b[0;32mnot\u001b[0m \u001b[0;32min\u001b[0m \u001b[0malias_list\u001b[0m\u001b[0;34m:\u001b[0m\u001b[0;34m\u001b[0m\u001b[0;34m\u001b[0m\u001b[0m\n",
      "\u001b[0;31mKeyboardInterrupt\u001b[0m: "
     ]
    },
    {
     "data": {
      "image/png": "[encoded data removed]",
      "text/plain": [
       "<Figure size 504x792 with 3 Axes>"
      ]
     },
     "metadata": {
      "needs_background": "light"
     },
     "output_type": "display_data"
    }
   ],
   "source": [
    "results = run(spiking_model, **testset)"
   ]
  },
  {
   "cell_type": "code",
   "execution_count": 33,
   "metadata": {},
   "outputs": [],
   "source": [
    "w1 = collect_weights(spiking_model)"
   ]
  },
  {
   "cell_type": "code",
   "execution_count": 37,
   "metadata": {},
   "outputs": [
    {
     "data": {
      "text/plain": [
       "array([ 5.98508179e-01, -1.00004375e+00,  1.10089612e+00,  2.96843886e+00,\n",
       "       -1.90304831e-01, -1.94159269e-01, -2.68824410e+00,  6.85738444e-01,\n",
       "       -2.04456139e+00, -3.32433558e+00,  6.15141928e-01,  2.21534276e+00,\n",
       "        1.92379951e+00,  4.69232887e-01,  2.51933843e-01,  2.09928274e+00,\n",
       "       -1.82165265e+00,  1.14316154e+00, -1.22634363e+00,  9.71844018e-01,\n",
       "       -2.87610936e+00, -9.78852868e-01, -1.90061116e+00,  1.70658016e+00,\n",
       "        2.32846332e+00,  1.07052699e-01, -4.62841749e+00,  8.53051364e-01,\n",
       "        2.22856379e+00,  2.33956718e+00, -3.92668152e+00,  2.38365364e+00,\n",
       "        8.11869621e-01, -3.19189692e+00,  2.62530112e+00,  1.88243723e+00,\n",
       "        7.83199489e-01, -1.13044333e+00,  1.77596748e-01, -2.75086784e+00,\n",
       "       -7.44816720e-01, -1.57960296e+00, -6.42866611e-01, -8.96511674e-01,\n",
       "        3.90796691e-01,  2.56708789e+00, -6.19642675e-01,  2.20311451e+00,\n",
       "        2.48695895e-01,  2.04342508e+00,  1.70628309e+00,  2.94874668e+00,\n",
       "       -4.21216345e+00, -4.60047340e+00, -9.22201216e-01, -2.18574190e+00,\n",
       "        5.21017969e-01, -1.64671159e+00, -1.84374407e-01, -9.39310312e-01,\n",
       "        1.06297767e+00, -8.34622145e-01,  1.62087858e+00, -1.57407570e+00,\n",
       "        1.36536622e+00,  1.76607800e+00, -1.98517895e+00, -7.07146585e-01,\n",
       "        8.59687567e-01, -6.06900334e-01,  5.19766212e-01,  1.13794494e+00,\n",
       "        3.28827560e-01,  1.89646411e+00, -3.06013543e-02,  2.31207681e+00,\n",
       "       -2.06895375e+00,  2.03254247e+00, -2.85987425e+00,  7.86169887e-01,\n",
       "        4.56575215e-01,  5.71502864e-01, -6.95735931e-01, -1.69136584e+00,\n",
       "        2.43461847e+00, -2.78287935e+00, -4.98120993e-01, -2.61124706e+00,\n",
       "        7.13005006e-01, -2.59958178e-01, -1.33920383e+00, -2.12987781e+00,\n",
       "        6.09823406e-01,  6.48281217e-01,  1.04098868e+00, -8.58597010e-02,\n",
       "       -3.04530859e-01,  1.89402235e+00,  6.53861046e-01, -6.45272493e-01,\n",
       "       -3.73129630e+00,  2.91223240e+00, -3.29726720e+00, -5.77538872e+00,\n",
       "        2.17522097e+00, -1.23499668e+00,  5.66672146e-01,  1.37946880e+00,\n",
       "       -2.82988882e+00,  9.35650706e-01,  2.24871159e+00, -1.68501735e+00,\n",
       "       -3.57731557e+00, -2.89119220e+00,  2.32154083e+00,  7.43670583e-01,\n",
       "        2.03507161e+00, -1.67131558e-01,  1.01739287e+00,  1.98530018e+00,\n",
       "       -1.01215649e+00, -3.40406919e+00, -2.01733088e+00, -3.12754214e-01,\n",
       "        5.65725148e-01,  1.68641329e+00,  1.27679765e+00, -4.74288273e+00,\n",
       "       -3.59404415e-01,  2.78453290e-01,  1.30240870e+00, -5.20632553e+00,\n",
       "        3.08169812e-01, -2.34003410e-01, -2.27449679e+00,  1.65070009e+00,\n",
       "        8.44636440e-01, -1.41011274e+00, -1.45918882e+00, -6.37448013e-01,\n",
       "       -2.62251329e+00,  1.82105219e+00,  2.01733279e+00,  1.68746901e+00,\n",
       "        1.52494049e+00, -1.40481484e+00,  1.22123218e+00,  5.10093808e-01,\n",
       "       -1.51542187e+00, -3.87970757e+00, -1.34772110e+00, -1.20604527e+00,\n",
       "       -8.59891236e-01, -1.24107385e+00, -1.65093374e+00, -5.69837868e-01,\n",
       "       -3.75934064e-01, -1.00556862e+00,  1.66265380e+00,  1.15151727e+00,\n",
       "        1.61777407e-01, -4.21262205e-01,  4.99872744e-01,  1.35521781e+00,\n",
       "       -2.39313507e+00, -1.42676497e+00, -2.72560072e+00,  2.32760763e+00,\n",
       "       -5.25229454e-01, -2.66221714e+00, -4.02286482e+00,  2.96692777e+00,\n",
       "       -3.69399023e+00,  3.42335045e-01,  1.47678316e+00, -1.66735983e+00,\n",
       "        2.04505011e-01,  2.27593875e+00, -5.86946249e-01,  5.51588297e-01,\n",
       "       -3.07399297e+00,  8.60882625e-02, -1.95571506e+00,  8.33377123e-01,\n",
       "       -7.45631456e-01, -2.71529031e+00, -4.85071707e+00, -2.58079624e+00,\n",
       "       -3.76012230e+00, -9.90295231e-01, -1.38986814e+00,  3.93543094e-01,\n",
       "       -2.32533789e+00,  2.30519295e+00,  2.48127079e+00, -2.24868131e+00,\n",
       "        2.13074636e+00, -1.57758975e+00,  1.81207013e+00, -2.63076138e+00,\n",
       "        1.94089913e+00, -5.62693059e-01, -1.59289455e+00,  2.55493450e+00,\n",
       "       -4.30826235e+00, -1.69081783e+00,  1.15814626e-01,  9.72091317e-01,\n",
       "        2.85282922e+00,  1.62991893e+00, -2.18021178e+00, -9.28727210e-01,\n",
       "       -2.47680950e+00, -1.56696117e+00,  5.32795906e-01,  2.24504328e+00,\n",
       "        4.44351196e-01, -3.99888778e+00,  1.88659739e+00,  9.51642931e-01,\n",
       "        3.72810960e-02,  3.37584138e+00, -4.00574923e-01, -3.20520043e+00,\n",
       "       -1.70758262e-01, -1.88261902e+00, -4.33262014e+00, -2.48475337e+00,\n",
       "        3.37571406e+00, -1.46544111e+00,  7.91109085e-01,  2.51023507e+00,\n",
       "       -6.08635604e-01, -3.21786404e+00, -3.87731940e-01, -7.83501923e-01,\n",
       "       -1.89537346e+00, -3.86424184e+00, -9.09605920e-01,  4.27056074e-01,\n",
       "       -4.26858187e+00, -2.01308417e+00, -3.68059665e-01, -2.53757739e+00,\n",
       "        1.07299471e+00, -3.11197710e+00, -1.85240477e-01, -5.04618406e-01,\n",
       "        1.95544481e+00, -1.72802061e-01,  2.23339057e+00, -1.20898116e+00,\n",
       "       -5.31194806e-01, -2.46802258e+00,  6.55757010e-01, -2.97434354e+00,\n",
       "       -1.25674546e-01, -3.52832627e+00, -1.14966547e+00,  9.76140738e-01,\n",
       "       -4.30244398e+00, -1.30497813e+00, -1.72753453e+00, -4.13499498e+00,\n",
       "        4.42762047e-01, -2.86039972e+00, -2.38731456e+00, -8.34355414e-01,\n",
       "       -3.60062242e-01,  4.42319214e-01, -1.40806913e+00, -1.70661163e+00,\n",
       "       -2.55616474e+00, -1.46914446e+00,  1.42660928e+00,  2.56675768e+00,\n",
       "       -2.61515403e+00, -9.20402229e-01, -1.20124984e+00,  1.63866556e+00,\n",
       "       -2.80623937e+00, -4.77673960e+00, -1.06727266e+00,  1.19631624e+00,\n",
       "        2.39200950e-01,  1.52455795e+00, -3.68797816e-02,  1.39312220e+00,\n",
       "        6.34909809e-01, -2.17146492e+00, -1.44910499e-01, -9.99296069e-01,\n",
       "        1.37510061e+00,  6.33197606e-01, -2.86963129e+00, -2.66453886e+00,\n",
       "       -3.20629263e+00,  2.86271858e+00,  1.32385194e+00,  1.68373597e+00,\n",
       "        2.04604816e+00,  2.14789224e+00, -1.70440114e+00, -2.19544029e+00,\n",
       "        3.67773861e-01, -3.72427702e-01,  2.19019580e+00,  4.77125108e-01,\n",
       "        8.72266114e-01, -2.08062029e+00,  1.87523150e+00, -2.56047219e-01,\n",
       "       -7.45685220e-01, -2.08859539e+00, -1.45975256e+00, -6.62315965e-01,\n",
       "        1.35597336e+00, -1.74026334e+00, -1.64809540e-01, -4.03479546e-01,\n",
       "        6.56373024e-01, -6.70083475e+00, -1.68161595e+00,  7.10207045e-01,\n",
       "        3.15731138e-01, -2.16458127e-01,  7.93290511e-02, -3.26904082e+00,\n",
       "        5.17445505e-01, -1.69410360e+00,  2.47563601e+00,  1.74134362e+00,\n",
       "       -1.28296268e+00,  7.63946116e-01, -4.53594178e-02, -1.31949151e+00,\n",
       "        1.25426650e+00, -2.97051144e+00,  3.12392640e+00,  9.02804792e-01,\n",
       "       -9.28117812e-01,  9.17317569e-01, -1.68698776e+00,  7.32124448e-01,\n",
       "        2.95139766e+00, -2.10293508e+00, -3.41045356e+00,  1.11141479e+00,\n",
       "        1.80024815e+00,  2.65876508e+00, -2.24808550e+00, -5.29599333e+00,\n",
       "       -2.80737066e+00,  1.37723899e-02,  6.42910302e-02,  6.83861673e-01,\n",
       "        5.97894430e-01,  6.60588324e-01, -3.01887661e-01,  1.27173030e+00,\n",
       "        9.95803833e-01,  9.56597090e-01,  8.07020426e-01,  1.05509758e+00,\n",
       "       -1.77208841e+00,  2.12694955e+00,  8.99198592e-01, -3.26446831e-01,\n",
       "        1.68109560e+00, -3.12370443e+00, -2.10263848e+00, -1.98720026e+00,\n",
       "       -5.03330566e-02, -2.83874106e+00, -1.17938966e-01, -2.29303360e+00,\n",
       "        1.09679830e+00, -2.26003337e+00,  3.48071742e-04, -1.47386777e+00,\n",
       "       -2.87427807e+00, -1.19482732e+00,  1.45715582e+00, -1.28290665e+00,\n",
       "       -2.46927738e+00, -1.37336099e+00,  8.72142553e-01,  4.21823591e-01,\n",
       "        2.39775324e+00, -3.06969118e+00, -2.22814059e+00, -2.05340219e+00,\n",
       "        2.40797743e-01, -1.09787333e+00, -6.71207905e-01, -5.06003261e-01,\n",
       "       -3.06930232e+00, -2.06568789e+00,  6.78768754e-01,  3.12274456e-01,\n",
       "        1.28323555e+00, -2.88512206e+00, -3.38681078e+00, -3.79732758e-01,\n",
       "       -2.47705698e+00,  1.27873182e+00, -4.79021579e-01, -4.58718911e-02,\n",
       "       -1.08821929e+00, -1.89725459e+00, -1.15922248e+00,  2.20387244e+00,\n",
       "       -7.61995673e-01,  1.71122336e+00, -2.78877640e+00, -5.06095827e-01,\n",
       "        1.55128801e+00, -2.97030735e+00, -1.69228867e-01, -1.38631010e+00,\n",
       "        1.77548134e+00,  2.51322985e+00,  4.54537779e-01,  1.51835787e+00,\n",
       "        1.21544814e+00, -1.75886557e-01, -4.50668526e+00, -7.27057755e-01,\n",
       "       -1.41883111e+00,  2.48231339e+00, -1.66816697e-01, -2.76554537e+00,\n",
       "        1.39939630e+00, -9.11394775e-01,  6.34398699e-01, -2.37261117e-01,\n",
       "       -3.74395633e+00,  1.96439481e+00, -2.39216089e+00,  8.09392631e-01,\n",
       "       -1.53131104e+00, -4.56279707e+00,  7.11827517e-01, -1.40157056e+00,\n",
       "        8.73564780e-01, -2.38373065e+00, -4.24795061e-01,  9.35134530e-01,\n",
       "        2.03619289e+00,  2.60169721e+00, -1.46815920e+00, -5.27565765e+00,\n",
       "        1.45743895e+00, -3.81567764e+00,  2.05135703e-01, -5.34127176e-01,\n",
       "        1.44924605e+00, -1.18508482e+00, -2.13905311e+00,  1.40079081e+00,\n",
       "        1.70921278e+00,  9.59753692e-01,  1.09861958e+00,  2.08776861e-01,\n",
       "        1.43036708e-01, -9.41034734e-01, -4.43333387e+00,  6.11758173e-01,\n",
       "        1.98320973e+00, -1.33037364e+00, -1.78754938e+00, -3.25485342e-03,\n",
       "       -8.90922785e-01, -8.99865627e-01,  1.89572549e+00,  2.78443564e-03,\n",
       "       -1.72130370e+00,  2.27209568e+00, -1.61523497e+00, -2.71830857e-01,\n",
       "        2.73224592e+00, -1.26499379e+00, -4.24424744e+00, -6.17663980e-01,\n",
       "       -2.67084694e+00, -9.22932148e-01,  3.02034855e-01, -1.84457767e+00,\n",
       "        3.63723493e+00,  1.63217366e+00, -4.15339708e+00,  1.76518595e+00,\n",
       "       -2.60870266e+00,  2.15021944e+00,  5.58780074e-01,  5.27795553e-01,\n",
       "       -1.45109928e+00, -1.44918883e+00, -3.98419797e-01,  2.34433579e+00,\n",
       "        1.11101222e+00, -1.58821809e+00, -4.14800167e+00,  1.32895917e-01,\n",
       "       -3.08759403e+00,  2.73024178e+00,  1.88587213e+00, -1.30329144e+00,\n",
       "       -5.80366969e-01, -2.73855686e+00, -3.46088338e+00,  3.48077625e-01,\n",
       "       -2.17051601e+00,  2.56482291e+00,  1.80586326e+00,  2.46627831e+00,\n",
       "       -1.01473010e+00, -3.19512010e+00, -1.57785308e+00,  1.22863221e+00,\n",
       "        1.55223382e+00,  1.52787244e+00,  1.38570344e+00,  1.78497612e+00,\n",
       "       -1.66781652e+00, -2.82409668e-01, -1.25974107e+00, -7.38615096e-01,\n",
       "       -1.31664205e+00,  2.58688897e-01, -1.04840934e+00, -2.03339124e+00,\n",
       "        1.60146487e+00, -6.44202769e-01, -9.60211039e-01,  4.87746537e-01,\n",
       "       -2.52162784e-01, -4.98983717e+00, -2.99198925e-01, -1.58153164e+00,\n",
       "        1.96721160e+00,  1.90809536e+00,  5.04158437e-01, -2.36613959e-01,\n",
       "       -3.98772454e+00,  5.01864314e-01, -9.79870260e-01,  2.93153035e-03,\n",
       "       -9.88078952e-01, -1.11101639e+00, -1.74626876e-02, -2.10580420e+00,\n",
       "        1.68251586e+00, -1.32049894e+00,  1.40637591e-01, -8.22752535e-01,\n",
       "       -1.86387920e+00, -3.96433711e-01,  2.69900680e-01,  1.38689652e-01,\n",
       "       -1.51520181e+00, -5.05263567e-01, -2.53727460e+00, -1.37890816e+00,\n",
       "       -2.45338154e+00,  2.70138240e+00, -1.46334445e+00,  2.95744717e-01,\n",
       "       -2.22100449e+00, -5.71506083e-01,  2.80312610e+00, -3.25078583e+00,\n",
       "        2.03525543e+00, -2.66389847e+00,  7.71268368e-01, -1.59655139e-01,\n",
       "        8.66078079e-01, -4.46809590e-01,  1.91344881e+00, -1.48991358e+00,\n",
       "        2.69830322e+00, -3.70383954e+00,  1.66031063e+00, -1.35335588e+00,\n",
       "        2.32739627e-01, -1.65263593e+00,  2.08634600e-01,  1.79039395e+00,\n",
       "       -2.91324425e+00, -2.22672367e+00, -1.51927888e+00,  8.28585684e-01,\n",
       "        4.85384047e-01,  7.49473393e-01, -5.29511118e+00,  3.05762291e-01,\n",
       "        1.55024254e+00, -2.92162871e+00,  1.05524814e+00, -1.13516879e+00,\n",
       "       -2.51195931e+00,  2.01012731e+00,  2.18282080e+00, -9.25516486e-01,\n",
       "       -6.06238365e-01, -3.39615321e+00, -1.69062391e-01,  2.11387849e+00,\n",
       "       -4.56582576e-01,  4.93085146e-01, -2.08336234e+00,  2.12396073e+00,\n",
       "        2.08264852e+00, -2.44578648e+00,  1.25759995e+00, -3.69701791e+00,\n",
       "       -2.38544822e+00,  1.59367442e+00,  1.31048882e+00, -8.88965905e-01,\n",
       "        1.86049211e+00, -2.33971548e+00, -2.14598489e+00,  1.81966293e+00,\n",
       "       -2.93831897e+00, -2.22038174e+00, -7.92503655e-01,  6.51649356e-01,\n",
       "       -1.70640767e+00,  1.89130890e+00, -1.14352965e+00,  3.59308809e-01,\n",
       "        1.26243389e+00,  8.64368752e-02, -3.39767528e+00, -1.96552825e+00,\n",
       "        6.26161277e-01, -2.54004025e+00, -8.76007259e-01,  2.06040621e-01,\n",
       "        7.04199970e-01, -2.49796176e+00, -1.38705587e+00,  3.03327851e-02,\n",
       "       -7.80010104e-01, -1.10975057e-01, -5.18047762e+00, -8.44286025e-01,\n",
       "        8.89687598e-01,  4.43818271e-01, -1.63383022e-01,  1.96857476e+00,\n",
       "        2.01428795e+00, -2.89523911e+00, -4.59208250e-01, -2.42965913e+00,\n",
       "        1.79230225e+00, -1.52356708e+00,  2.42512226e-01, -1.68043888e+00,\n",
       "        4.09326524e-01, -3.49322677e-01,  1.46946037e+00,  4.98428881e-01,\n",
       "       -2.73214912e+00,  1.25989723e+00, -1.06362200e+00,  1.85529160e+00,\n",
       "       -2.78006482e+00,  4.60130095e-01, -1.86038375e-01, -1.10935736e+00,\n",
       "       -1.44274545e+00, -7.02169716e-01,  2.56215429e+00, -3.35817374e-02,\n",
       "        2.58084869e+00, -4.05605745e+00, -3.42862415e+00, -2.34557199e+00,\n",
       "        1.62512720e+00,  3.39250773e-01,  1.48238707e+00, -2.38836050e+00,\n",
       "       -3.36236620e+00,  1.56220424e+00,  1.66371047e+00,  9.09949422e-01,\n",
       "        4.61192429e-03,  1.57112896e+00, -2.46954870e+00, -3.97245526e+00,\n",
       "        1.71830869e+00,  1.30307102e+00,  1.91860783e+00,  2.33936787e+00,\n",
       "       -1.27002835e+00, -1.40296900e+00,  1.44681370e+00,  2.08299994e+00,\n",
       "       -2.33850050e+00, -2.14064717e+00, -1.66753483e+00, -1.48099232e+00,\n",
       "       -1.94002068e+00,  4.82310951e-01, -4.23801517e+00, -1.54597902e+00,\n",
       "        1.31228971e+00, -2.23302627e+00, -2.14434886e+00,  2.16274843e-01,\n",
       "       -8.30931246e-01, -7.02148855e-01,  1.35044587e+00, -4.65373576e-01,\n",
       "        1.51306558e+00, -4.57797337e+00,  1.75341618e+00, -1.33578092e-01,\n",
       "        1.22668087e+00,  1.37716341e+00,  1.22492635e+00, -3.50701213e+00,\n",
       "        1.71841311e+00,  4.86169934e-01,  1.53050780e+00,  3.89443547e-01,\n",
       "       -2.44510555e+00, -3.69339764e-01, -2.40387821e+00, -1.07217038e+00,\n",
       "       -1.19480252e+00,  5.20893872e-01,  2.02373600e+00,  1.88103545e+00,\n",
       "       -3.81933999e+00,  3.10018229e+00, -4.00381625e-01,  2.96665668e+00,\n",
       "       -2.75679970e+00, -3.30688882e+00, -4.67649364e+00, -1.50611937e+00,\n",
       "       -2.08004308e+00,  6.59976602e-01,  1.97190773e+00, -5.00245905e+00,\n",
       "       -1.06028426e+00,  4.54548478e-01, -1.33321214e+00,  2.02610230e+00,\n",
       "       -1.50230348e+00,  1.70618236e+00, -3.44505811e+00,  2.64349914e+00,\n",
       "       -3.79414856e-01,  8.43473852e-01,  1.45459807e+00,  1.96553087e+00,\n",
       "        2.41965079e+00,  1.25530481e+00,  7.28044510e-01, -2.50698018e+00,\n",
       "        4.98248786e-01,  9.51805830e-01,  1.96461856e+00,  1.96843624e+00,\n",
       "       -7.93818712e-01, -2.30029345e+00,  1.21965754e+00, -4.68830109e+00,\n",
       "        2.10289884e+00,  1.03811705e+00,  2.33232245e-01, -2.10595274e+00,\n",
       "       -2.05545855e+00, -1.43054187e+00, -8.75752449e-01, -1.80747241e-01,\n",
       "       -7.02681661e-01,  5.99934161e-01,  6.37135625e-01, -2.35104598e-02,\n",
       "       -3.64624500e+00,  1.05973554e+00, -3.31133991e-01, -3.21547651e+00,\n",
       "        1.98285925e+00, -2.07892203e+00, -4.53629971e+00, -1.07472670e+00,\n",
       "        2.51787162e+00,  3.42509246e+00,  1.59564167e-01, -4.63976771e-01,\n",
       "        1.03270054e+00,  7.24434018e-01,  3.15841651e+00,  4.82426971e-01,\n",
       "       -2.43249726e+00, -1.35584474e+00,  1.39566588e+00,  4.13038015e-01,\n",
       "        1.74365401e-01, -9.98000264e-01, -7.05056310e-01, -1.36071205e+00,\n",
       "       -1.36981934e-01, -2.86953926e-01,  3.00265765e+00, -2.39532995e+00,\n",
       "        1.88471079e+00,  2.22939396e+00,  2.41562366e+00,  2.17238450e+00,\n",
       "        2.71609473e+00, -1.64545965e+00,  5.35378009e-02,  2.49735975e+00,\n",
       "       -1.65169251e+00,  1.42858469e+00,  1.80234790e+00,  2.27534318e+00,\n",
       "       -6.04623973e-01,  4.79370475e-01,  1.00775945e+00,  1.75649285e+00,\n",
       "       -8.76025319e-01, -4.14851379e+00,  1.46491125e-01, -4.13385093e-01,\n",
       "       -1.11471748e+00,  1.99466705e+00, -5.99817514e-01, -2.04226708e+00,\n",
       "        2.45032191e+00, -1.07331002e+00, -7.13823199e-01, -1.44442296e+00])"
      ]
     },
     "execution_count": 37,
     "metadata": {},
     "output_type": "execute_result"
    }
   ],
   "source": [
    "w0[-1]"
   ]
  },
  {
   "cell_type": "code",
   "execution_count": 38,
   "metadata": {},
   "outputs": [
    {
     "data": {
      "text/plain": [
       "array([ 5.98508179e-01, -1.00000000e+00,  1.00000000e+00,  1.00000000e+00,\n",
       "       -1.90304831e-01, -1.94159269e-01, -1.00000000e+00,  6.85738444e-01,\n",
       "       -1.00000000e+00, -1.00000000e+00,  6.15141928e-01,  1.00000000e+00,\n",
       "        1.00000000e+00,  4.69232887e-01,  2.51933843e-01,  2.09928274e+00,\n",
       "       -1.00000000e+00,  1.00000000e+00, -1.22634363e+00,  9.71844018e-01,\n",
       "       -1.00000000e+00, -9.78852868e-01, -1.00000000e+00,  1.00000000e+00,\n",
       "        1.00000000e+00,  1.07052699e-01, -1.00000000e+00,  8.53051364e-01,\n",
       "        2.22856379e+00,  2.33956718e+00, -1.00000000e+00,  1.00000000e+00,\n",
       "        8.11869621e-01, -1.00000000e+00,  1.00000000e+00,  1.00000000e+00,\n",
       "        7.83199489e-01, -1.00000000e+00,  1.77596748e-01, -1.00000000e+00,\n",
       "       -7.44816720e-01, -1.00000000e+00, -6.42866611e-01, -8.96511674e-01,\n",
       "        3.90796691e-01,  2.56708789e+00, -6.19642675e-01,  1.00000000e+00,\n",
       "        2.48695895e-01,  2.04342508e+00,  1.00000000e+00,  1.00000000e+00,\n",
       "       -1.00000000e+00, -1.00000000e+00, -9.22201216e-01, -2.18574190e+00,\n",
       "        5.21017969e-01, -1.00000000e+00, -1.84374407e-01, -9.39310312e-01,\n",
       "        1.00000000e+00, -8.34622145e-01,  1.00000000e+00, -1.00000000e+00,\n",
       "        1.00000000e+00,  1.76607800e+00, -1.00000000e+00, -7.07146585e-01,\n",
       "        8.59687567e-01, -6.06900334e-01,  5.19766212e-01,  1.00000000e+00,\n",
       "        3.28827560e-01,  1.00000000e+00, -3.06013543e-02,  2.31207681e+00,\n",
       "       -1.00000000e+00,  1.00000000e+00, -2.85987425e+00,  7.86169887e-01,\n",
       "        4.56575215e-01,  5.71502864e-01, -6.95735931e-01, -1.00000000e+00,\n",
       "        1.00000000e+00, -2.78287935e+00, -4.98120993e-01, -1.00000000e+00,\n",
       "        7.13005006e-01, -2.59958178e-01, -1.00000000e+00, -1.00000000e+00,\n",
       "        6.09823406e-01,  6.48281217e-01,  1.00000000e+00, -8.58597010e-02,\n",
       "       -3.04530859e-01,  1.00000000e+00,  6.53861046e-01, -6.45272493e-01,\n",
       "       -1.00000000e+00,  1.00000000e+00, -1.00000000e+00, -1.00000000e+00,\n",
       "        1.00000000e+00, -1.23499668e+00,  5.66672146e-01,  1.00000000e+00,\n",
       "       -2.82988882e+00,  9.35650706e-01,  1.00000000e+00, -1.00000000e+00,\n",
       "       -1.00000000e+00, -1.00000000e+00,  1.00000000e+00,  7.43670583e-01,\n",
       "        1.00000000e+00, -1.67131558e-01,  1.01739287e+00,  1.98530018e+00,\n",
       "       -1.00000000e+00, -1.00000000e+00, -1.00000000e+00, -3.12754214e-01,\n",
       "        5.65725148e-01,  1.68641329e+00,  1.00000000e+00, -1.00000000e+00,\n",
       "       -3.59404415e-01,  2.78453290e-01,  1.00000000e+00, -1.00000000e+00,\n",
       "        3.08169812e-01, -2.34003410e-01, -1.00000000e+00,  1.65070009e+00,\n",
       "        8.44636440e-01, -1.00000000e+00, -1.45918882e+00, -6.37448013e-01,\n",
       "       -1.00000000e+00,  1.00000000e+00,  1.00000000e+00,  1.00000000e+00,\n",
       "        1.00000000e+00, -1.00000000e+00,  1.00000000e+00,  5.10093808e-01,\n",
       "       -1.00000000e+00, -1.00000000e+00, -1.00000000e+00, -1.00000000e+00,\n",
       "       -8.59891236e-01, -1.00000000e+00, -1.00000000e+00, -5.69837868e-01,\n",
       "       -3.75934064e-01, -1.00000000e+00,  1.66265380e+00,  1.15151727e+00,\n",
       "        1.61777407e-01, -4.21262205e-01,  4.99872744e-01,  1.00000000e+00,\n",
       "       -1.00000000e+00, -1.42676497e+00, -1.00000000e+00,  1.00000000e+00,\n",
       "       -5.25229454e-01, -2.66221714e+00, -1.00000000e+00,  1.00000000e+00,\n",
       "       -1.00000000e+00,  3.42335045e-01,  1.00000000e+00, -1.66735983e+00,\n",
       "        2.04505011e-01,  1.00000000e+00, -5.86946249e-01,  5.51588297e-01,\n",
       "       -1.00000000e+00,  8.60882625e-02, -1.00000000e+00,  8.33377123e-01,\n",
       "       -7.45631456e-01, -2.71529031e+00, -1.00000000e+00, -1.00000000e+00,\n",
       "       -3.76012230e+00, -9.90295231e-01, -1.00000000e+00,  3.93543094e-01,\n",
       "       -1.00000000e+00,  1.00000000e+00,  1.00000000e+00, -2.24868131e+00,\n",
       "        1.00000000e+00, -1.00000000e+00,  1.81207013e+00, -2.63076138e+00,\n",
       "        1.00000000e+00, -5.62693059e-01, -1.00000000e+00,  1.00000000e+00,\n",
       "       -1.00000000e+00, -1.69081783e+00,  1.15814626e-01,  9.72091317e-01,\n",
       "        2.85282922e+00,  1.62991893e+00, -1.00000000e+00, -9.28727210e-01,\n",
       "       -1.00000000e+00, -1.00000000e+00,  5.32795906e-01,  2.24504328e+00,\n",
       "        4.44351196e-01, -1.00000000e+00,  1.88659739e+00,  9.51642931e-01,\n",
       "        3.72810960e-02,  1.00000000e+00, -4.00574923e-01, -1.00000000e+00,\n",
       "       -1.70758262e-01, -1.88261902e+00, -1.00000000e+00, -1.00000000e+00,\n",
       "        3.37571406e+00, -1.46544111e+00,  7.91109085e-01,  1.00000000e+00,\n",
       "       -6.08635604e-01, -1.00000000e+00, -3.87731940e-01, -7.83501923e-01,\n",
       "       -1.00000000e+00, -1.00000000e+00, -9.09605920e-01,  4.27056074e-01,\n",
       "       -1.00000000e+00, -1.00000000e+00, -3.68059665e-01, -1.00000000e+00,\n",
       "        1.00000000e+00, -3.11197710e+00, -1.85240477e-01, -5.04618406e-01,\n",
       "        1.95544481e+00, -1.72802061e-01,  1.00000000e+00, -1.00000000e+00,\n",
       "       -5.31194806e-01, -1.00000000e+00,  6.55757010e-01, -1.00000000e+00,\n",
       "       -1.25674546e-01, -1.00000000e+00, -1.00000000e+00,  9.76140738e-01,\n",
       "       -1.00000000e+00, -1.00000000e+00, -1.00000000e+00, -1.00000000e+00,\n",
       "        4.42762047e-01, -2.86039972e+00, -1.00000000e+00, -8.34355414e-01,\n",
       "       -3.60062242e-01,  4.42319214e-01, -1.00000000e+00, -1.00000000e+00,\n",
       "       -1.00000000e+00, -1.00000000e+00,  1.00000000e+00,  2.56675768e+00,\n",
       "       -1.00000000e+00, -9.20402229e-01, -1.20124984e+00,  1.63866556e+00,\n",
       "       -1.00000000e+00, -1.00000000e+00, -1.00000000e+00,  1.00000000e+00,\n",
       "        2.39200950e-01,  1.52455795e+00, -3.68797816e-02,  1.00000000e+00,\n",
       "        6.34909809e-01, -2.17146492e+00, -1.44910499e-01, -9.99296069e-01,\n",
       "        1.00000000e+00,  6.33197606e-01, -1.00000000e+00, -2.66453886e+00,\n",
       "       -1.00000000e+00,  1.00000000e+00,  1.32385194e+00,  1.68373597e+00,\n",
       "        1.00000000e+00,  1.00000000e+00, -1.00000000e+00, -1.00000000e+00,\n",
       "        3.67773861e-01, -3.72427702e-01,  1.00000000e+00,  4.77125108e-01,\n",
       "        8.72266114e-01, -2.08062029e+00,  1.00000000e+00, -2.56047219e-01,\n",
       "       -7.45685220e-01, -1.00000000e+00, -1.00000000e+00, -6.62315965e-01,\n",
       "        1.00000000e+00, -1.00000000e+00, -1.64809540e-01, -4.03479546e-01,\n",
       "        6.56373024e-01, -1.00000000e+00, -1.00000000e+00,  7.10207045e-01,\n",
       "        3.15731138e-01, -2.16458127e-01,  7.93290511e-02, -1.00000000e+00,\n",
       "        5.17445505e-01, -1.69410360e+00,  1.00000000e+00,  1.00000000e+00,\n",
       "       -1.00000000e+00,  7.63946116e-01, -4.53594178e-02, -1.31949151e+00,\n",
       "        1.00000000e+00, -1.00000000e+00,  3.12392640e+00,  9.02804792e-01,\n",
       "       -9.28117812e-01,  9.17317569e-01, -1.00000000e+00,  7.32124448e-01,\n",
       "        1.00000000e+00, -2.10293508e+00, -1.00000000e+00,  1.00000000e+00,\n",
       "        1.80024815e+00,  2.65876508e+00, -1.00000000e+00, -1.00000000e+00,\n",
       "       -1.00000000e+00,  1.37723899e-02,  6.42910302e-02,  6.83861673e-01,\n",
       "        5.97894430e-01,  6.60588324e-01, -3.01887661e-01,  1.27173030e+00,\n",
       "        9.95803833e-01,  9.56597090e-01,  8.07020426e-01,  1.00000000e+00,\n",
       "       -1.00000000e+00,  2.12694955e+00,  8.99198592e-01, -3.26446831e-01,\n",
       "        1.68109560e+00, -3.12370443e+00, -1.00000000e+00, -1.00000000e+00,\n",
       "       -5.03330566e-02, -1.00000000e+00, -1.17938966e-01, -2.29303360e+00,\n",
       "        1.00000000e+00, -1.00000000e+00,  3.48071742e-04, -1.47386777e+00,\n",
       "       -1.00000000e+00, -1.00000000e+00,  1.00000000e+00, -1.00000000e+00,\n",
       "       -1.00000000e+00, -1.37336099e+00,  8.72142553e-01,  4.21823591e-01,\n",
       "        2.39775324e+00, -3.06969118e+00, -1.00000000e+00, -1.00000000e+00,\n",
       "        2.40797743e-01, -1.00000000e+00, -6.71207905e-01, -5.06003261e-01,\n",
       "       -1.00000000e+00, -1.00000000e+00,  6.78768754e-01,  3.12274456e-01,\n",
       "        1.00000000e+00, -1.00000000e+00, -1.00000000e+00, -3.79732758e-01,\n",
       "       -1.00000000e+00,  1.27873182e+00, -4.79021579e-01, -4.58718911e-02,\n",
       "       -1.08821929e+00, -1.89725459e+00, -1.00000000e+00,  1.00000000e+00,\n",
       "       -7.61995673e-01,  1.00000000e+00, -1.00000000e+00, -5.06095827e-01,\n",
       "        1.00000000e+00, -1.00000000e+00, -1.69228867e-01, -1.38631010e+00,\n",
       "        1.00000000e+00,  1.00000000e+00,  4.54537779e-01,  1.00000000e+00,\n",
       "        1.00000000e+00, -1.75886557e-01, -1.00000000e+00, -7.27057755e-01,\n",
       "       -1.00000000e+00,  1.00000000e+00, -1.66816697e-01, -1.00000000e+00,\n",
       "        1.00000000e+00, -9.11394775e-01,  6.34398699e-01, -2.37261117e-01,\n",
       "       -1.00000000e+00,  1.00000000e+00, -2.39216089e+00,  8.09392631e-01,\n",
       "       -1.00000000e+00, -1.00000000e+00,  7.11827517e-01, -1.00000000e+00,\n",
       "        8.73564780e-01, -2.38373065e+00, -4.24795061e-01,  9.35134530e-01,\n",
       "        2.03619289e+00,  2.60169721e+00, -1.00000000e+00, -1.00000000e+00,\n",
       "        1.00000000e+00, -1.00000000e+00,  2.05135703e-01, -5.34127176e-01,\n",
       "        1.00000000e+00, -1.00000000e+00, -2.13905311e+00,  1.40079081e+00,\n",
       "        1.00000000e+00,  9.59753692e-01,  1.00000000e+00,  2.08776861e-01,\n",
       "        1.43036708e-01, -9.41034734e-01, -1.00000000e+00,  6.11758173e-01,\n",
       "        1.98320973e+00, -1.33037364e+00, -1.00000000e+00, -3.25485342e-03,\n",
       "       -8.90922785e-01, -8.99865627e-01,  1.00000000e+00,  2.78443564e-03,\n",
       "       -1.00000000e+00,  1.00000000e+00, -1.61523497e+00, -2.71830857e-01,\n",
       "        1.00000000e+00, -1.00000000e+00, -1.00000000e+00, -6.17663980e-01,\n",
       "       -1.00000000e+00, -9.22932148e-01,  3.02034855e-01, -1.00000000e+00,\n",
       "        3.63723493e+00,  1.63217366e+00, -1.00000000e+00,  1.00000000e+00,\n",
       "       -1.00000000e+00,  1.00000000e+00,  5.58780074e-01,  5.27795553e-01,\n",
       "       -1.00000000e+00, -1.00000000e+00, -3.98419797e-01,  2.34433579e+00,\n",
       "        1.00000000e+00, -1.00000000e+00, -1.00000000e+00,  1.32895917e-01,\n",
       "       -1.00000000e+00,  2.73024178e+00,  1.00000000e+00, -1.00000000e+00,\n",
       "       -5.80366969e-01, -2.73855686e+00, -1.00000000e+00,  3.48077625e-01,\n",
       "       -1.00000000e+00,  1.00000000e+00,  1.00000000e+00,  2.46627831e+00,\n",
       "       -1.00000000e+00, -1.00000000e+00, -1.57785308e+00,  1.22863221e+00,\n",
       "        1.00000000e+00,  1.00000000e+00,  1.00000000e+00,  1.00000000e+00,\n",
       "       -1.00000000e+00, -2.82409668e-01, -1.00000000e+00, -7.38615096e-01,\n",
       "       -1.00000000e+00,  2.58688897e-01, -1.00000000e+00, -1.00000000e+00,\n",
       "        1.00000000e+00, -6.44202769e-01, -9.60211039e-01,  4.87746537e-01,\n",
       "       -2.52162784e-01, -1.00000000e+00, -2.99198925e-01, -1.58153164e+00,\n",
       "        1.00000000e+00,  1.00000000e+00,  5.04158437e-01, -2.36613959e-01,\n",
       "       -1.00000000e+00,  5.01864314e-01, -9.79870260e-01,  2.93153035e-03,\n",
       "       -9.88078952e-01, -1.00000000e+00, -1.74626876e-02, -1.00000000e+00,\n",
       "        1.00000000e+00, -1.00000000e+00,  1.40637591e-01, -8.22752535e-01,\n",
       "       -1.00000000e+00, -3.96433711e-01,  2.69900680e-01,  1.38689652e-01,\n",
       "       -1.00000000e+00, -5.05263567e-01, -1.00000000e+00, -1.00000000e+00,\n",
       "       -1.00000000e+00,  2.70138240e+00, -1.00000000e+00,  2.95744717e-01,\n",
       "       -2.22100449e+00, -5.71506083e-01,  1.00000000e+00, -1.00000000e+00,\n",
       "        1.00000000e+00, -1.00000000e+00,  7.71268368e-01, -1.59655139e-01,\n",
       "        8.66078079e-01, -4.46809590e-01,  1.00000000e+00, -1.00000000e+00,\n",
       "        1.00000000e+00, -1.00000000e+00,  1.00000000e+00, -1.00000000e+00,\n",
       "        2.32739627e-01, -1.00000000e+00,  2.08634600e-01,  1.00000000e+00,\n",
       "       -1.00000000e+00, -1.00000000e+00, -1.00000000e+00,  8.28585684e-01,\n",
       "        4.85384047e-01,  7.49473393e-01, -1.00000000e+00,  3.05762291e-01,\n",
       "        1.00000000e+00, -1.00000000e+00,  1.00000000e+00, -1.00000000e+00,\n",
       "       -1.00000000e+00,  1.00000000e+00,  1.00000000e+00, -9.25516486e-01,\n",
       "       -6.06238365e-01, -1.00000000e+00, -1.69062391e-01,  1.00000000e+00,\n",
       "       -4.56582576e-01,  4.93085146e-01, -1.00000000e+00,  1.00000000e+00,\n",
       "        1.00000000e+00, -1.00000000e+00,  1.00000000e+00, -1.00000000e+00,\n",
       "       -1.00000000e+00,  1.00000000e+00,  1.00000000e+00, -8.88965905e-01,\n",
       "        1.00000000e+00, -1.00000000e+00, -1.00000000e+00,  1.00000000e+00,\n",
       "       -1.00000000e+00, -2.22038174e+00, -7.92503655e-01,  6.51649356e-01,\n",
       "       -1.70640767e+00,  1.89130890e+00, -1.00000000e+00,  3.59308809e-01,\n",
       "        1.00000000e+00,  8.64368752e-02, -1.00000000e+00, -1.00000000e+00,\n",
       "        6.26161277e-01, -1.00000000e+00, -8.76007259e-01,  2.06040621e-01,\n",
       "        7.04199970e-01, -1.00000000e+00, -1.00000000e+00,  3.03327851e-02,\n",
       "       -7.80010104e-01, -1.10975057e-01, -1.00000000e+00, -8.44286025e-01,\n",
       "        8.89687598e-01,  4.43818271e-01, -1.63383022e-01,  1.00000000e+00,\n",
       "        1.00000000e+00, -1.00000000e+00, -4.59208250e-01, -2.42965913e+00,\n",
       "        1.00000000e+00, -1.00000000e+00,  2.42512226e-01, -1.68043888e+00,\n",
       "        4.09326524e-01, -3.49322677e-01,  1.00000000e+00,  4.98428881e-01,\n",
       "       -1.00000000e+00,  1.00000000e+00, -1.00000000e+00,  1.00000000e+00,\n",
       "       -1.00000000e+00,  4.60130095e-01, -1.86038375e-01, -1.00000000e+00,\n",
       "       -1.00000000e+00, -7.02169716e-01,  1.00000000e+00, -3.35817374e-02,\n",
       "        1.00000000e+00, -1.00000000e+00, -3.42862415e+00, -2.34557199e+00,\n",
       "        1.00000000e+00,  3.39250773e-01,  1.00000000e+00, -1.00000000e+00,\n",
       "       -1.00000000e+00,  1.00000000e+00,  1.00000000e+00,  9.09949422e-01,\n",
       "        4.61192429e-03,  1.00000000e+00, -1.00000000e+00, -1.00000000e+00,\n",
       "        1.00000000e+00,  1.00000000e+00,  1.00000000e+00,  2.33936787e+00,\n",
       "       -1.00000000e+00, -1.00000000e+00,  1.44681370e+00,  2.08299994e+00,\n",
       "       -1.00000000e+00, -1.00000000e+00, -1.00000000e+00, -1.00000000e+00,\n",
       "       -1.00000000e+00,  4.82310951e-01, -1.00000000e+00, -1.00000000e+00,\n",
       "        1.31228971e+00, -2.23302627e+00, -1.00000000e+00,  2.16274843e-01,\n",
       "       -8.30931246e-01, -7.02148855e-01,  1.00000000e+00, -4.65373576e-01,\n",
       "        1.00000000e+00, -1.00000000e+00,  1.75341618e+00, -1.33578092e-01,\n",
       "        1.00000000e+00,  1.00000000e+00,  1.00000000e+00, -1.00000000e+00,\n",
       "        1.00000000e+00,  4.86169934e-01,  1.00000000e+00,  3.89443547e-01,\n",
       "       -1.00000000e+00, -3.69339764e-01, -1.00000000e+00, -1.00000000e+00,\n",
       "       -1.00000000e+00,  5.20893872e-01,  1.00000000e+00,  1.88103545e+00,\n",
       "       -1.00000000e+00,  1.00000000e+00, -4.00381625e-01,  2.96665668e+00,\n",
       "       -1.00000000e+00, -1.00000000e+00, -1.00000000e+00, -1.00000000e+00,\n",
       "       -1.00000000e+00,  6.59976602e-01,  1.00000000e+00, -1.00000000e+00,\n",
       "       -1.06028426e+00,  4.54548478e-01, -1.00000000e+00,  1.00000000e+00,\n",
       "       -1.00000000e+00,  1.00000000e+00, -1.00000000e+00,  2.64349914e+00,\n",
       "       -3.79414856e-01,  8.43473852e-01,  1.45459807e+00,  1.96553087e+00,\n",
       "        1.00000000e+00,  1.00000000e+00,  7.28044510e-01, -1.00000000e+00,\n",
       "        4.98248786e-01,  9.51805830e-01,  1.00000000e+00,  1.00000000e+00,\n",
       "       -7.93818712e-01, -2.30029345e+00,  1.00000000e+00, -1.00000000e+00,\n",
       "        1.00000000e+00,  1.00000000e+00,  2.33232245e-01, -1.00000000e+00,\n",
       "       -1.00000000e+00, -1.00000000e+00, -8.75752449e-01, -1.80747241e-01,\n",
       "       -7.02681661e-01,  5.99934161e-01,  6.37135625e-01, -2.35104598e-02,\n",
       "       -1.00000000e+00,  1.00000000e+00, -3.31133991e-01, -1.00000000e+00,\n",
       "        1.00000000e+00, -1.00000000e+00, -1.00000000e+00, -1.00000000e+00,\n",
       "        1.00000000e+00,  1.00000000e+00,  1.59564167e-01, -4.63976771e-01,\n",
       "        1.00000000e+00,  7.24434018e-01,  3.15841651e+00,  4.82426971e-01,\n",
       "       -1.00000000e+00, -1.00000000e+00,  1.00000000e+00,  4.13038015e-01,\n",
       "        1.74365401e-01, -9.98000264e-01, -7.05056310e-01, -1.00000000e+00,\n",
       "       -1.36981934e-01, -2.86953926e-01,  1.00000000e+00, -1.00000000e+00,\n",
       "        1.00000000e+00,  1.00000000e+00,  1.00000000e+00,  1.00000000e+00,\n",
       "        1.00000000e+00, -1.00000000e+00,  5.35378009e-02,  1.00000000e+00,\n",
       "       -1.00000000e+00,  1.00000000e+00,  1.00000000e+00,  1.00000000e+00,\n",
       "       -6.04623973e-01,  4.79370475e-01,  1.00000000e+00,  1.00000000e+00,\n",
       "       -8.76025319e-01, -1.00000000e+00,  1.46491125e-01, -4.13385093e-01,\n",
       "       -1.00000000e+00,  1.00000000e+00, -5.99817514e-01, -2.04226708e+00,\n",
       "        1.00000000e+00, -1.00000000e+00, -7.13823199e-01, -1.44442296e+00])"
      ]
     },
     "execution_count": 38,
     "metadata": {},
     "output_type": "execute_result"
    }
   ],
   "source": [
    "w1[-1]"
   ]
  },
  {
   "cell_type": "code",
   "execution_count": 41,
   "metadata": {},
   "outputs": [
    {
     "data": {
      "text/plain": [
       "-240.19796431064606"
      ]
     },
     "execution_count": 41,
     "metadata": {},
     "output_type": "execute_result"
    }
   ],
   "source": [
    "np.sum(np.subtract(w0[-1], w1[-1]))"
   ]
  },
  {
   "cell_type": "code",
   "execution_count": 35,
   "metadata": {},
   "outputs": [],
   "source": [
    "import numpy as np"
   ]
  },
  {
   "cell_type": "code",
   "execution_count": 36,
   "metadata": {},
   "outputs": [
    {
     "data": {
      "text/plain": [
       "[0.0, 0.0, 0.0, 0.0, 0.0]"
      ]
     },
     "execution_count": 36,
     "metadata": {},
     "output_type": "execute_result"
    }
   ],
   "source": [
    "[np.sum(w1[i] - w0[i]) for i in range(5)]"
   ]
  },
  {
   "cell_type": "code",
   "execution_count": 33,
   "metadata": {},
   "outputs": [
    {
     "data": {
      "text/plain": [
       "(10, 1, 28, 28)"
      ]
     },
     "execution_count": 33,
     "metadata": {},
     "output_type": "execute_result"
    }
   ],
   "source": [
    "testset['x_test'].shape"
   ]
  },
  {
   "cell_type": "code",
   "execution_count": null,
   "metadata": {},
   "outputs": [],
   "source": [
    "testset['y_test']"
   ]
  },
  {
   "cell_type": "code",
   "execution_count": null,
   "metadata": {},
   "outputs": [],
   "source": []
  }
 ],
 "metadata": {
  "kernelspec": {
   "display_name": "Python 3",
   "language": "python",
   "name": "python3"
  },
  "language_info": {
   "codemirror_mode": {
    "name": "ipython",
    "version": 3
   },
   "file_extension": ".py",
   "mimetype": "text/x-python",
   "name": "python",
   "nbconvert_exporter": "python",
   "pygments_lexer": "ipython3",
   "version": "3.7.4"
  }
 },
 "nbformat": 4,
 "nbformat_minor": 2
}
