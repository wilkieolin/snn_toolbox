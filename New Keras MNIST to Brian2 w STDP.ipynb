{
 "cells": [
  {
   "cell_type": "code",
   "execution_count": 1,
   "metadata": {
    "scrolled": true
   },
   "outputs": [
    {
     "name": "stderr",
     "output_type": "stream",
     "text": [
      "Using TensorFlow backend.\n",
      "/home/wolin/.conda/envs/tf2/lib/python3.7/site-packages/tensorflow/python/framework/dtypes.py:516: FutureWarning: Passing (type, 1) or '1type' as a synonym of type is deprecated; in a future version of numpy, it will be understood as (type, (1,)) / '(1,)type'.\n",
      "  _np_qint8 = np.dtype([(\"qint8\", np.int8, 1)])\n",
      "/home/wolin/.conda/envs/tf2/lib/python3.7/site-packages/tensorflow/python/framework/dtypes.py:517: FutureWarning: Passing (type, 1) or '1type' as a synonym of type is deprecated; in a future version of numpy, it will be understood as (type, (1,)) / '(1,)type'.\n",
      "  _np_quint8 = np.dtype([(\"quint8\", np.uint8, 1)])\n",
      "/home/wolin/.conda/envs/tf2/lib/python3.7/site-packages/tensorflow/python/framework/dtypes.py:518: FutureWarning: Passing (type, 1) or '1type' as a synonym of type is deprecated; in a future version of numpy, it will be understood as (type, (1,)) / '(1,)type'.\n",
      "  _np_qint16 = np.dtype([(\"qint16\", np.int16, 1)])\n",
      "/home/wolin/.conda/envs/tf2/lib/python3.7/site-packages/tensorflow/python/framework/dtypes.py:519: FutureWarning: Passing (type, 1) or '1type' as a synonym of type is deprecated; in a future version of numpy, it will be understood as (type, (1,)) / '(1,)type'.\n",
      "  _np_quint16 = np.dtype([(\"quint16\", np.uint16, 1)])\n",
      "/home/wolin/.conda/envs/tf2/lib/python3.7/site-packages/tensorflow/python/framework/dtypes.py:520: FutureWarning: Passing (type, 1) or '1type' as a synonym of type is deprecated; in a future version of numpy, it will be understood as (type, (1,)) / '(1,)type'.\n",
      "  _np_qint32 = np.dtype([(\"qint32\", np.int32, 1)])\n",
      "/home/wolin/.conda/envs/tf2/lib/python3.7/site-packages/tensorflow/python/framework/dtypes.py:525: FutureWarning: Passing (type, 1) or '1type' as a synonym of type is deprecated; in a future version of numpy, it will be understood as (type, (1,)) / '(1,)type'.\n",
      "  np_resource = np.dtype([(\"resource\", np.ubyte, 1)])\n",
      "/home/wolin/.conda/envs/tf2/lib/python3.7/site-packages/tensorboard/compat/tensorflow_stub/dtypes.py:541: FutureWarning: Passing (type, 1) or '1type' as a synonym of type is deprecated; in a future version of numpy, it will be understood as (type, (1,)) / '(1,)type'.\n",
      "  _np_qint8 = np.dtype([(\"qint8\", np.int8, 1)])\n",
      "/home/wolin/.conda/envs/tf2/lib/python3.7/site-packages/tensorboard/compat/tensorflow_stub/dtypes.py:542: FutureWarning: Passing (type, 1) or '1type' as a synonym of type is deprecated; in a future version of numpy, it will be understood as (type, (1,)) / '(1,)type'.\n",
      "  _np_quint8 = np.dtype([(\"quint8\", np.uint8, 1)])\n",
      "/home/wolin/.conda/envs/tf2/lib/python3.7/site-packages/tensorboard/compat/tensorflow_stub/dtypes.py:543: FutureWarning: Passing (type, 1) or '1type' as a synonym of type is deprecated; in a future version of numpy, it will be understood as (type, (1,)) / '(1,)type'.\n",
      "  _np_qint16 = np.dtype([(\"qint16\", np.int16, 1)])\n",
      "/home/wolin/.conda/envs/tf2/lib/python3.7/site-packages/tensorboard/compat/tensorflow_stub/dtypes.py:544: FutureWarning: Passing (type, 1) or '1type' as a synonym of type is deprecated; in a future version of numpy, it will be understood as (type, (1,)) / '(1,)type'.\n",
      "  _np_quint16 = np.dtype([(\"quint16\", np.uint16, 1)])\n",
      "/home/wolin/.conda/envs/tf2/lib/python3.7/site-packages/tensorboard/compat/tensorflow_stub/dtypes.py:545: FutureWarning: Passing (type, 1) or '1type' as a synonym of type is deprecated; in a future version of numpy, it will be understood as (type, (1,)) / '(1,)type'.\n",
      "  _np_qint32 = np.dtype([(\"qint32\", np.int32, 1)])\n",
      "/home/wolin/.conda/envs/tf2/lib/python3.7/site-packages/tensorboard/compat/tensorflow_stub/dtypes.py:550: FutureWarning: Passing (type, 1) or '1type' as a synonym of type is deprecated; in a future version of numpy, it will be understood as (type, (1,)) / '(1,)type'.\n",
      "  np_resource = np.dtype([(\"resource\", np.ubyte, 1)])\n"
     ]
    }
   ],
   "source": [
    "from importlib import import_module\n",
    "from snntoolbox.parsing.utils import *\n",
    "from snntoolbox.parsing.model_libs.keras_input_lib import *\n",
    "from snntoolbox.bin.utils import *\n",
    "from snntoolbox.conversion.utils import normalize_parameters\n",
    "from snntoolbox.datasets.utils import get_dataset\n",
    "from snntoolbox.simulation.utils import *\n",
    "from snntoolbox.simulation.target_simulators.brian2_target_sim import *"
   ]
  },
  {
   "cell_type": "code",
   "execution_count": 2,
   "metadata": {},
   "outputs": [],
   "source": [
    "import numpy as np"
   ]
  },
  {
   "cell_type": "code",
   "execution_count": 3,
   "metadata": {},
   "outputs": [],
   "source": [
    "def run(snn, **test_set):\n",
    "            return snn.run(**test_set)"
   ]
  },
  {
   "cell_type": "code",
   "execution_count": 4,
   "metadata": {},
   "outputs": [],
   "source": [
    "model_path = \"/home/wolin/snn_toolbox/forgetting/full/\""
   ]
  },
  {
   "cell_type": "code",
   "execution_count": 5,
   "metadata": {
    "scrolled": true
   },
   "outputs": [
    {
     "name": "stdout",
     "output_type": "stream",
     "text": [
      "WARNING:tensorflow:From /home/wolin/snn_toolbox/snntoolbox/bin/utils.py:285: The name tf.ConfigProto is deprecated. Please use tf.compat.v1.ConfigProto instead.\n",
      "\n",
      "WARNING:tensorflow:From /home/wolin/snn_toolbox/snntoolbox/bin/utils.py:287: The name tf.Session is deprecated. Please use tf.compat.v1.Session instead.\n",
      "\n",
      "WARNING:tensorflow:From /home/wolin/.conda/envs/tf2/lib/python3.7/site-packages/keras/backend/tensorflow_backend.py:68: The name tf.get_default_graph is deprecated. Please use tf.compat.v1.get_default_graph instead.\n",
      "\n",
      "WARNING:tensorflow:From /home/wolin/.conda/envs/tf2/lib/python3.7/site-packages/keras/backend/tensorflow_backend.py:508: The name tf.placeholder is deprecated. Please use tf.compat.v1.placeholder instead.\n",
      "\n",
      "WARNING:tensorflow:From /home/wolin/.conda/envs/tf2/lib/python3.7/site-packages/keras/backend/tensorflow_backend.py:3837: The name tf.random_uniform is deprecated. Please use tf.random.uniform instead.\n",
      "\n",
      "WARNING:tensorflow:From /home/wolin/.conda/envs/tf2/lib/python3.7/site-packages/keras/backend/tensorflow_backend.py:3661: The name tf.nn.max_pool is deprecated. Please use tf.nn.max_pool2d instead.\n",
      "\n",
      "WARNING:tensorflow:From /home/wolin/.conda/envs/tf2/lib/python3.7/site-packages/keras/backend/tensorflow_backend.py:3144: calling dropout (from tensorflow.python.ops.nn_ops) with keep_prob is deprecated and will be removed in a future version.\n",
      "Instructions for updating:\n",
      "Please use `rate` instead of `keep_prob`. Rate should be set to `rate = 1 - keep_prob`.\n",
      "WARNING:tensorflow:From /home/wolin/.conda/envs/tf2/lib/python3.7/site-packages/keras/optimizers.py:757: The name tf.train.Optimizer is deprecated. Please use tf.compat.v1.train.Optimizer instead.\n",
      "\n",
      "SNN toolbox Warning: Currently, turning off Poisson input is\n",
      "only possible in INI simulator. Falling back on Poisson input.\n"
     ]
    }
   ],
   "source": [
    "config = update_setup(model_path + \"config\")"
   ]
  },
  {
   "cell_type": "code",
   "execution_count": 6,
   "metadata": {},
   "outputs": [
    {
     "data": {
      "text/plain": [
       "[('gmax', '1'),\n",
       " ('taupre', '20'),\n",
       " ('taupost', '20'),\n",
       " ('dapre', '0.05'),\n",
       " ('dapost', '0.06'),\n",
       " ('stdp_on', '0')]"
      ]
     },
     "execution_count": 6,
     "metadata": {},
     "output_type": "execute_result"
    }
   ],
   "source": [
    "list(config.items('stdp'))"
   ]
  },
  {
   "cell_type": "code",
   "execution_count": 7,
   "metadata": {},
   "outputs": [],
   "source": [
    "#config.set('stdp', 'stdp_on', '1')"
   ]
  },
  {
   "cell_type": "code",
   "execution_count": 8,
   "metadata": {},
   "outputs": [],
   "source": [
    "#config.set('stdp', 'stdp_on', '0')"
   ]
  },
  {
   "cell_type": "code",
   "execution_count": null,
   "metadata": {},
   "outputs": [],
   "source": []
  },
  {
   "cell_type": "code",
   "execution_count": 9,
   "metadata": {},
   "outputs": [],
   "source": [
    "model = \"keras_mnist\""
   ]
  },
  {
   "cell_type": "code",
   "execution_count": 10,
   "metadata": {},
   "outputs": [],
   "source": [
    "n = load(model_path, model)"
   ]
  },
  {
   "cell_type": "code",
   "execution_count": 11,
   "metadata": {},
   "outputs": [],
   "source": [
    "mp = ModelParser(n['model'], config)"
   ]
  },
  {
   "cell_type": "code",
   "execution_count": 12,
   "metadata": {},
   "outputs": [
    {
     "name": "stdout",
     "output_type": "stream",
     "text": [
      "Parsing layer Conv2D.\n",
      "Using activation relu.\n",
      "Parsing layer Conv2D.\n",
      "Using activation relu.\n",
      "Parsing layer MaxPooling2D.\n",
      "Skipping layer Dropout.\n",
      "Parsing layer Flatten.\n",
      "Parsing layer Dense.\n",
      "Using activation relu.\n",
      "Skipping layer Dropout.\n",
      "Parsing layer Dense.\n",
      "Using activation softmax.\n",
      "\n",
      "Building parsed model...\n",
      "\n",
      "Compiling parsed model...\n",
      "\n"
     ]
    }
   ],
   "source": [
    "mp.parse()\n",
    "pm = mp.build_parsed_model()"
   ]
  },
  {
   "cell_type": "code",
   "execution_count": 13,
   "metadata": {},
   "outputs": [
    {
     "name": "stdout",
     "output_type": "stream",
     "text": [
      "Loading scale factors from disk instead of recalculating.\n",
      "Loading data set from '.npz' files in /home/wolin/snn_toolbox/forgetting/full/data.\n",
      "\n"
     ]
    }
   ],
   "source": [
    "normset, testset = get_dataset(config)"
   ]
  },
  {
   "cell_type": "code",
   "execution_count": 14,
   "metadata": {},
   "outputs": [
    {
     "name": "stdout",
     "output_type": "stream",
     "text": [
      "Normalizing parameters...\n",
      "Using scale factor 1.00 for softmax layer.\n",
      "\n"
     ]
    }
   ],
   "source": [
    "normalize_parameters(pm, config, **normset)"
   ]
  },
  {
   "cell_type": "code",
   "execution_count": 15,
   "metadata": {},
   "outputs": [],
   "source": [
    "target_sim = import_target_sim(config)"
   ]
  },
  {
   "cell_type": "code",
   "execution_count": 16,
   "metadata": {},
   "outputs": [
    {
     "name": "stdout",
     "output_type": "stream",
     "text": [
      "Initializing brian2 simulator...\n",
      "\n"
     ]
    }
   ],
   "source": [
    "spiking_model = target_sim.SNN(config, None)"
   ]
  },
  {
   "cell_type": "code",
   "execution_count": 17,
   "metadata": {},
   "outputs": [
    {
     "name": "stderr",
     "output_type": "stream",
     "text": [
      "WARNING    /home/wolin/.conda/envs/tf2/lib/python3.7/site-packages/keras/utils/conv_utils.py:93: FutureWarning: Using a non-tuple sequence for multidimensional indexing is deprecated; use `arr[tuple(seq)]` instead of `arr[seq]`. In the future this will be interpreted as an array index, `arr[np.array(seq)]`, which will result either in an error or a different result.\n",
      "  return np.copy(kernel[slices])\n",
      " [py.warnings]\n"
     ]
    },
    {
     "name": "stdout",
     "output_type": "stream",
     "text": [
      "Building spiking model...\n",
      "Building layer: 00Conv2D_32x26x26\n",
      "Adding fixed Conv layer synapses\n",
      "................................"
     ]
    },
    {
     "name": "stderr",
     "output_type": "stream",
     "text": [
      "WARNING    /home/wolin/snn_toolbox/snntoolbox/simulation/target_simulators/brian2_target_sim.py:371: RuntimeWarning: Biases not implemented.\n",
      "  warnings.warn(\"Biases not implemented.\", RuntimeWarning)\n",
      " [py.warnings]\n"
     ]
    },
    {
     "name": "stdout",
     "output_type": "stream",
     "text": [
      "\n",
      "Connecting layer...\n",
      "Building layer: 01Conv2D_64x24x24\n",
      "Adding fixed Conv layer synapses\n",
      "................................................................\n",
      "Connecting layer...\n"
     ]
    },
    {
     "name": "stderr",
     "output_type": "stream",
     "text": [
      "WARNING    /home/wolin/snn_toolbox/snntoolbox/simulation/utils.py:1241: RuntimeWarning: Layer type 'MaxPooling' not supported yet. Falling back on 'AveragePooling'.\n",
      "  \"Falling back on 'AveragePooling'.\", RuntimeWarning)\n",
      " [py.warnings]\n"
     ]
    },
    {
     "name": "stdout",
     "output_type": "stream",
     "text": [
      "Building layer: 02MaxPooling2D_64x12x12\n",
      "Adding STDP synapse layer...\n",
      "................................................................\n",
      "Building layer: 03Flatten_9216\n",
      "Building layer: 04Dense_128\n",
      "Adding STDP synapse layer...\n",
      "Lenght of weights:1179648\n",
      "Building layer: 05Dense_10\n",
      "Adding STDP synapse layer...\n",
      "Lenght of weights:1280\n",
      "Compiling spiking model...\n",
      "\n",
      "Detected layer with biases: 00Conv2D_32x26x26\n",
      "Detected layer with biases: 01Conv2D_64x24x24\n",
      "Detected layer with biases: 04Dense_128\n",
      "Detected layer with biases: 05Dense_10\n",
      "Number of operations of ANN: 24043530\n",
      "Number of neurons: 67850\n",
      "Number of synapses: 13903616\n",
      "\n"
     ]
    }
   ],
   "source": [
    "spiking_model.build(pm)"
   ]
  },
  {
   "cell_type": "code",
   "execution_count": 18,
   "metadata": {},
   "outputs": [
    {
     "data": {
      "text/latex": [
       "\\begin{align*}\\frac{\\mathrm{d}Apre}{\\mathrm{d}t} &= - \\frac{Apre}{taupre} && \\text{(unit of $Apre$: $\\mathrm{rad}$, flags: event-driven)}\\\\\n",
       "\\frac{\\mathrm{d}Apost}{\\mathrm{d}t} &= - \\frac{Apost}{taupost} && \\text{(unit of $Apost$: $\\mathrm{rad}$, flags: event-driven)}\\end{align*}"
      ],
      "text/plain": [
       "dApre/dt = -Apre/taupre : radian (event-driven)\n",
       "dApost/dt = -Apost/taupost : radian (event-driven)\n"
      ]
     },
     "execution_count": 18,
     "metadata": {},
     "output_type": "execute_result"
    }
   ],
   "source": [
    "spiking_model.connections[-1].event_driven"
   ]
  },
  {
   "cell_type": "code",
   "execution_count": 33,
   "metadata": {},
   "outputs": [
    {
     "data": {
      "text/plain": [
       "'_Apre = Apre*exp(-(t - lastupdate)/taupre)\\n_Apost = Apost*exp(-(t - lastupdate)/taupost)\\nApre = _Apre\\nApost = _Apost\\nv += w\\n                    Apre += dApre\\n                    w = clip(w + Apost, -gmax, gmax)\\nlastupdate = t\\n'"
      ]
     },
     "execution_count": 33,
     "metadata": {},
     "output_type": "execute_result"
    }
   ],
   "source": [
    "spiking_model.connections[-1].pre.abstract_code"
   ]
  },
  {
   "cell_type": "code",
   "execution_count": 32,
   "metadata": {},
   "outputs": [
    {
     "data": {
      "text/plain": [
       "'_Apre = Apre*exp(-(t - lastupdate)/taupre)\\n_Apost = Apost*exp(-(t - lastupdate)/taupost)\\nApre = _Apre\\nApost = _Apost\\nApost += dApost\\n                     w = clip(w + Apre, -gmax, gmax)\\nlastupdate = t\\n'"
      ]
     },
     "execution_count": 32,
     "metadata": {},
     "output_type": "execute_result"
    }
   ],
   "source": [
    "spiking_model.connections[-1].post.abstract_code"
   ]
  },
  {
   "cell_type": "code",
   "execution_count": 19,
   "metadata": {},
   "outputs": [],
   "source": [
    "def collect_weights(spiking_model):\n",
    "    weights = []\n",
    "    for layer in spiking_model.connections:\n",
    "        weights.append(np.copy(layer.w))\n",
    "        \n",
    "    return weights"
   ]
  },
  {
   "cell_type": "code",
   "execution_count": null,
   "metadata": {},
   "outputs": [],
   "source": []
  },
  {
   "cell_type": "code",
   "execution_count": 20,
   "metadata": {},
   "outputs": [],
   "source": [
    "w0 = collect_weights(spiking_model)"
   ]
  },
  {
   "cell_type": "code",
   "execution_count": 21,
   "metadata": {},
   "outputs": [],
   "source": [
    "#config.set('stdp', 'stdp_on', '0')"
   ]
  },
  {
   "cell_type": "code",
   "execution_count": 22,
   "metadata": {
    "scrolled": true
   },
   "outputs": [
    {
     "name": "stdout",
     "output_type": "stream",
     "text": [
      "\n",
      "Starting new simulation...\n",
      "\n",
      "Current accuracy of batch:\n",
      "Starting simulation at t=0. s for a duration of 50. ms\n",
      "0.002 (4%) simulated in < 1s, estimated < 1s remaining.\n",
      "0.003 (6%) simulated in < 1s, estimated 2s remaining.\n",
      "0.004 (8%) simulated in < 1s, estimated 3s remaining.\n",
      "0.005 (10%) simulated in < 1s, estimated 3s remaining.\n",
      "0.006 (12%) simulated in < 1s, estimated 3s remaining.\n",
      "0.006999999999999999 (13%) simulated in < 1s, estimated 3s remaining.\n",
      "0.008 (16%) simulated in < 1s, estimated 3s remaining.\n",
      "0.009000000000000001 (18%) simulated in < 1s, estimated 3s remaining.\n",
      "0.01 (20%) simulated in < 1s, estimated 3s remaining.\n",
      "0.011 (21%) simulated in < 1s, estimated 3s remaining.\n",
      "0.012 (24%) simulated in 1s, estimated 3s remaining.\n",
      "0.013000000000000001 (26%) simulated in 1s, estimated 3s remaining.\n",
      "0.013999999999999999 (27%) simulated in 1s, estimated 3s remaining.\n",
      "0.015 (30%) simulated in 1s, estimated 3s remaining.\n",
      "0.016 (32%) simulated in 1s, estimated 3s remaining.\n",
      "0.017 (34%) simulated in 1s, estimated 3s remaining.\n",
      "0.018000000000000002 (36%) simulated in 1s, estimated 3s remaining.\n",
      "0.019 (37%) simulated in 1s, estimated 3s remaining.\n",
      "0.02 (40%) simulated in 1s, estimated 3s remaining.\n",
      "0.021 (42%) simulated in 2s, estimated 3s remaining.\n",
      "0.022 (43%) simulated in 2s, estimated 3s remaining.\n",
      "0.023 (46%) simulated in 2s, estimated 3s remaining.\n",
      "0.024 (48%) simulated in 2s, estimated 3s remaining.\n",
      "0.025 (50%) simulated in 3s, estimated 3s remaining.\n",
      "0.026000000000000002 (52%) simulated in 3s, estimated 3s remaining.\n",
      "0.026999999999999996 (53%) simulated in 3s, estimated 3s remaining.\n",
      "0.027999999999999997 (55%) simulated in 4s, estimated 3s remaining.\n",
      "0.028999999999999998 (57%) simulated in 4s, estimated 3s remaining.\n",
      "0.03 (60%) simulated in 4s, estimated 3s remaining.\n",
      "0.031 (62%) simulated in 4s, estimated 3s remaining.\n",
      "0.032 (64%) simulated in 5s, estimated 3s remaining.\n",
      "0.033 (66%) simulated in 5s, estimated 3s remaining.\n",
      "0.034 (68%) simulated in 5s, estimated 3s remaining.\n",
      "0.035 (70%) simulated in 5s, estimated 2s remaining.\n",
      "0.036000000000000004 (72%) simulated in 5s, estimated 2s remaining.\n",
      "0.037 (73%) simulated in 5s, estimated 2s remaining.\n",
      "0.038 (75%) simulated in 5s, estimated 2s remaining.\n",
      "0.039 (77%) simulated in 5s, estimated 2s remaining.\n",
      "0.04 (80%) simulated in 6s, estimated 2s remaining.\n",
      "0.041 (82%) simulated in 6s, estimated 1s remaining.\n",
      "0.042 (84%) simulated in 6s, estimated 1s remaining.\n",
      "0.043000000000000003 (86%) simulated in 6s, estimated 1s remaining.\n",
      "0.044 (87%) simulated in 6s, estimated 1s remaining.\n",
      "0.045 (89%) simulated in 6s, estimated 1s remaining.\n",
      "0.046 (92%) simulated in 6s, estimated 1s remaining.\n",
      "0.047 (94%) simulated in 6s, estimated < 1s remaining.\n",
      "0.048 (96%) simulated in 6s, estimated < 1s remaining.\n",
      "0.049 (98%) simulated in 6s, estimated < 1s remaining.\n",
      "0.05 (100%) simulated in 7s\n",
      "\n",
      "Batch 1 of 10 completed (10.0%)\n",
      "Moving accuracy of SNN (top-1, top-1): 100.00%, 100.00%.\n",
      "Moving accuracy of ANN (top-1, top-1): 100.00%, 100.00%.\n",
      "\n",
      "Resetting simulator...\n",
      "\n",
      "Starting new simulation...\n",
      "\n",
      "Current accuracy of batch:\n",
      "Starting simulation at t=0. s for a duration of 50. ms\n",
      "0.002 (4%) simulated in < 1s, estimated 1s remaining.\n",
      "0.003 (6%) simulated in < 1s, estimated 3s remaining.\n",
      "0.004 (8%) simulated in < 1s, estimated 4s remaining.\n",
      "0.005 (10%) simulated in < 1s, estimated 4s remaining.\n",
      "0.006 (12%) simulated in < 1s, estimated 4s remaining.\n",
      "0.006999999999999999 (13%) simulated in < 1s, estimated 5s remaining.\n",
      "0.008 (16%) simulated in < 1s, estimated 5s remaining.\n",
      "0.009000000000000001 (18%) simulated in 1s, estimated 5s remaining.\n",
      "0.01 (20%) simulated in 1s, estimated 5s remaining.\n",
      "0.011 (21%) simulated in 1s, estimated 5s remaining.\n",
      "0.012 (24%) simulated in 1s, estimated 5s remaining.\n",
      "0.013000000000000001 (26%) simulated in 1s, estimated 4s remaining.\n",
      "0.013999999999999999 (27%) simulated in 1s, estimated 4s remaining.\n",
      "0.015 (30%) simulated in 1s, estimated 4s remaining.\n",
      "0.016 (32%) simulated in 2s, estimated 4s remaining.\n",
      "0.017 (34%) simulated in 2s, estimated 4s remaining.\n",
      "0.018000000000000002 (36%) simulated in 2s, estimated 4s remaining.\n",
      "0.019 (37%) simulated in 2s, estimated 4s remaining.\n",
      "0.02 (40%) simulated in 2s, estimated 4s remaining.\n",
      "0.021 (42%) simulated in 3s, estimated 5s remaining.\n",
      "0.022 (43%) simulated in 3s, estimated 5s remaining.\n",
      "0.023 (46%) simulated in 3s, estimated 5s remaining.\n",
      "0.024 (48%) simulated in 4s, estimated 5s remaining.\n",
      "0.025 (50%) simulated in 4s, estimated 4s remaining.\n",
      "0.026000000000000002 (52%) simulated in 4s, estimated 4s remaining.\n",
      "0.026999999999999996 (53%) simulated in 4s, estimated 4s remaining.\n",
      "0.027999999999999997 (55%) simulated in 4s, estimated 4s remaining.\n",
      "0.028999999999999998 (57%) simulated in 5s, estimated 4s remaining.\n",
      "0.03 (60%) simulated in 5s, estimated 3s remaining.\n",
      "0.031 (62%) simulated in 5s, estimated 3s remaining.\n",
      "0.032 (64%) simulated in 5s, estimated 3s remaining.\n",
      "0.033 (66%) simulated in 5s, estimated 3s remaining.\n",
      "0.034 (68%) simulated in 5s, estimated 3s remaining.\n",
      "0.035 (70%) simulated in 5s, estimated 3s remaining.\n",
      "0.036000000000000004 (72%) simulated in 5s, estimated 2s remaining.\n",
      "0.037 (73%) simulated in 6s, estimated 2s remaining.\n",
      "0.038 (75%) simulated in 6s, estimated 2s remaining.\n",
      "0.039 (77%) simulated in 6s, estimated 2s remaining.\n",
      "0.04 (80%) simulated in 6s, estimated 2s remaining.\n",
      "0.041 (82%) simulated in 6s, estimated 1s remaining.\n",
      "0.042 (84%) simulated in 7s, estimated 1s remaining.\n",
      "0.043000000000000003 (86%) simulated in 7s, estimated 1s remaining.\n",
      "0.044 (87%) simulated in 7s, estimated 1s remaining.\n",
      "0.045 (89%) simulated in 7s, estimated 1s remaining.\n",
      "0.046 (92%) simulated in 8s, estimated 1s remaining.\n",
      "0.047 (94%) simulated in 8s, estimated 1s remaining.\n",
      "0.048 (96%) simulated in 8s, estimated < 1s remaining.\n",
      "0.049 (98%) simulated in 8s, estimated < 1s remaining.\n",
      "0.05 (100%) simulated in 9s\n",
      "\n",
      "Batch 2 of 10 completed (20.0%)\n",
      "Moving accuracy of SNN (top-1, top-1): 100.00%, 100.00%.\n",
      "Moving accuracy of ANN (top-1, top-1): 100.00%, 100.00%.\n",
      "\n",
      "Resetting simulator...\n",
      "\n",
      "Starting new simulation...\n",
      "\n",
      "Current accuracy of batch:\n",
      "Starting simulation at t=0. s for a duration of 50. ms\n",
      "0.003 (6%) simulated in < 1s, estimated 2s remaining.\n",
      "0.004 (8%) simulated in < 1s, estimated 2s remaining.\n",
      "0.005 (10%) simulated in < 1s, estimated 3s remaining.\n",
      "0.006 (12%) simulated in < 1s, estimated 3s remaining.\n",
      "0.006999999999999999 (13%) simulated in < 1s, estimated 3s remaining.\n",
      "0.008 (16%) simulated in < 1s, estimated 3s remaining.\n",
      "0.009000000000000001 (18%) simulated in < 1s, estimated 3s remaining.\n",
      "0.01 (20%) simulated in < 1s, estimated 3s remaining.\n",
      "0.011 (21%) simulated in < 1s, estimated 3s remaining.\n",
      "0.012 (24%) simulated in 1s, estimated 3s remaining.\n",
      "0.013000000000000001 (26%) simulated in 1s, estimated 3s remaining.\n",
      "0.013999999999999999 (27%) simulated in 1s, estimated 3s remaining.\n",
      "0.015 (30%) simulated in 1s, estimated 3s remaining.\n",
      "0.016 (32%) simulated in 1s, estimated 3s remaining.\n",
      "0.017 (34%) simulated in 1s, estimated 3s remaining.\n",
      "0.018000000000000002 (36%) simulated in 1s, estimated 3s remaining.\n",
      "0.019 (37%) simulated in 1s, estimated 3s remaining.\n",
      "0.02 (40%) simulated in 1s, estimated 2s remaining.\n",
      "0.021 (42%) simulated in 1s, estimated 2s remaining.\n",
      "0.022 (43%) simulated in 1s, estimated 2s remaining.\n",
      "0.023 (46%) simulated in 1s, estimated 2s remaining.\n",
      "0.024 (48%) simulated in 2s, estimated 2s remaining.\n",
      "0.025 (50%) simulated in 2s, estimated 2s remaining.\n",
      "0.026000000000000002 (52%) simulated in 2s, estimated 2s remaining.\n",
      "0.026999999999999996 (53%) simulated in 2s, estimated 2s remaining.\n",
      "0.027999999999999997 (55%) simulated in 2s, estimated 2s remaining.\n",
      "0.028999999999999998 (57%) simulated in 2s, estimated 2s remaining.\n",
      "0.03 (60%) simulated in 2s, estimated 2s remaining.\n",
      "0.031 (62%) simulated in 2s, estimated 2s remaining.\n",
      "0.032 (64%) simulated in 2s, estimated 2s remaining.\n",
      "0.033 (66%) simulated in 2s, estimated 1s remaining.\n",
      "0.034 (68%) simulated in 2s, estimated 1s remaining.\n",
      "0.035 (70%) simulated in 2s, estimated 1s remaining.\n",
      "0.036000000000000004 (72%) simulated in 3s, estimated 1s remaining.\n",
      "0.037 (73%) simulated in 3s, estimated 1s remaining.\n"
     ]
    },
    {
     "name": "stdout",
     "output_type": "stream",
     "text": [
      "0.038 (75%) simulated in 3s, estimated 1s remaining.\n",
      "0.039 (77%) simulated in 3s, estimated 1s remaining.\n",
      "0.04 (80%) simulated in 3s, estimated 1s remaining.\n",
      "0.041 (82%) simulated in 3s, estimated 1s remaining.\n",
      "0.042 (84%) simulated in 3s, estimated 1s remaining.\n",
      "0.043000000000000003 (86%) simulated in 3s, estimated 1s remaining.\n",
      "0.044 (87%) simulated in 3s, estimated 1s remaining.\n",
      "0.045 (89%) simulated in 3s, estimated < 1s remaining.\n",
      "0.046 (92%) simulated in 3s, estimated < 1s remaining.\n",
      "0.047 (94%) simulated in 3s, estimated < 1s remaining.\n",
      "0.048 (96%) simulated in 3s, estimated < 1s remaining.\n",
      "0.049 (98%) simulated in 4s, estimated < 1s remaining.\n",
      "0.05 (100%) simulated in 4s\n",
      "\n",
      "Batch 3 of 10 completed (30.0%)\n",
      "Moving accuracy of SNN (top-1, top-1): 100.00%, 66.67%.\n",
      "Moving accuracy of ANN (top-1, top-1): 100.00%, 100.00%.\n",
      "\n",
      "Resetting simulator...\n",
      "\n",
      "Starting new simulation...\n",
      "\n",
      "Current accuracy of batch:\n",
      "Starting simulation at t=0. s for a duration of 50. ms\n",
      "0.002 (4%) simulated in < 1s, estimated 1s remaining.\n",
      "0.003 (6%) simulated in < 1s, estimated 2s remaining.\n",
      "0.004 (8%) simulated in < 1s, estimated 4s remaining.\n",
      "0.005 (10%) simulated in < 1s, estimated 4s remaining.\n",
      "0.006 (12%) simulated in < 1s, estimated 5s remaining.\n",
      "0.006999999999999999 (13%) simulated in < 1s, estimated 5s remaining.\n",
      "0.008 (16%) simulated in < 1s, estimated 5s remaining.\n",
      "0.009000000000000001 (18%) simulated in 1s, estimated 5s remaining.\n",
      "0.01 (20%) simulated in 1s, estimated 5s remaining.\n",
      "0.011 (21%) simulated in 1s, estimated 5s remaining.\n",
      "0.012 (24%) simulated in 1s, estimated 5s remaining.\n",
      "0.013000000000000001 (26%) simulated in 1s, estimated 5s remaining.\n",
      "0.013999999999999999 (27%) simulated in 2s, estimated 5s remaining.\n",
      "0.015 (30%) simulated in 2s, estimated 5s remaining.\n",
      "0.016 (32%) simulated in 2s, estimated 5s remaining.\n",
      "0.017 (34%) simulated in 2s, estimated 5s remaining.\n",
      "0.018000000000000002 (36%) simulated in 3s, estimated 5s remaining.\n",
      "0.019 (37%) simulated in 3s, estimated 5s remaining.\n",
      "0.02 (40%) simulated in 3s, estimated 5s remaining.\n",
      "0.021 (42%) simulated in 3s, estimated 5s remaining.\n",
      "0.022 (43%) simulated in 4s, estimated 5s remaining.\n",
      "0.023 (46%) simulated in 4s, estimated 5s remaining.\n",
      "0.024 (48%) simulated in 4s, estimated 5s remaining.\n",
      "0.025 (50%) simulated in 4s, estimated 5s remaining.\n",
      "0.026000000000000002 (52%) simulated in 4s, estimated 4s remaining.\n",
      "0.026999999999999996 (53%) simulated in 4s, estimated 4s remaining.\n",
      "0.027999999999999997 (55%) simulated in 4s, estimated 4s remaining.\n",
      "0.028999999999999998 (57%) simulated in 5s, estimated 4s remaining.\n",
      "0.03 (60%) simulated in 5s, estimated 3s remaining.\n",
      "0.031 (62%) simulated in 5s, estimated 3s remaining.\n",
      "0.032 (64%) simulated in 5s, estimated 3s remaining.\n",
      "0.033 (66%) simulated in 5s, estimated 3s remaining.\n",
      "0.034 (68%) simulated in 5s, estimated 3s remaining.\n",
      "0.035 (70%) simulated in 5s, estimated 2s remaining.\n",
      "0.036000000000000004 (72%) simulated in 5s, estimated 2s remaining.\n",
      "0.037 (73%) simulated in 6s, estimated 2s remaining.\n",
      "0.038 (75%) simulated in 6s, estimated 2s remaining.\n",
      "0.039 (77%) simulated in 6s, estimated 2s remaining.\n",
      "0.04 (80%) simulated in 6s, estimated 2s remaining.\n",
      "0.041 (82%) simulated in 7s, estimated 2s remaining.\n",
      "0.042 (84%) simulated in 7s, estimated 1s remaining.\n",
      "0.043000000000000003 (86%) simulated in 7s, estimated 1s remaining.\n",
      "0.044 (87%) simulated in 8s, estimated 1s remaining.\n",
      "0.045 (89%) simulated in 8s, estimated 1s remaining.\n",
      "0.046 (92%) simulated in 8s, estimated 1s remaining.\n",
      "0.047 (94%) simulated in 9s, estimated 1s remaining.\n",
      "0.048 (96%) simulated in 9s, estimated < 1s remaining.\n",
      "0.049 (98%) simulated in 9s, estimated < 1s remaining.\n",
      "0.05 (100%) simulated in 10s\n",
      "\n",
      "Batch 4 of 10 completed (40.0%)\n",
      "Moving accuracy of SNN (top-1, top-1): 100.00%, 75.00%.\n",
      "Moving accuracy of ANN (top-1, top-1): 100.00%, 100.00%.\n",
      "\n",
      "Resetting simulator...\n",
      "\n",
      "Starting new simulation...\n",
      "\n",
      "Current accuracy of batch:\n",
      "Starting simulation at t=0. s for a duration of 50. ms\n",
      "0.003 (6%) simulated in < 1s, estimated 3s remaining.\n",
      "0.004 (8%) simulated in < 1s, estimated 4s remaining.\n",
      "0.005 (10%) simulated in < 1s, estimated 5s remaining.\n",
      "0.006 (12%) simulated in < 1s, estimated 5s remaining.\n",
      "0.006999999999999999 (13%) simulated in < 1s, estimated 5s remaining.\n",
      "0.008 (16%) simulated in < 1s, estimated 5s remaining.\n",
      "0.009000000000000001 (18%) simulated in 1s, estimated 5s remaining.\n",
      "0.01 (20%) simulated in 1s, estimated 5s remaining.\n",
      "0.011 (21%) simulated in 1s, estimated 4s remaining.\n",
      "0.012 (24%) simulated in 1s, estimated 4s remaining.\n",
      "0.013000000000000001 (26%) simulated in 1s, estimated 4s remaining.\n",
      "0.013999999999999999 (27%) simulated in 1s, estimated 4s remaining.\n",
      "0.015 (30%) simulated in 1s, estimated 3s remaining.\n",
      "0.016 (32%) simulated in 1s, estimated 3s remaining.\n",
      "0.017 (34%) simulated in 1s, estimated 3s remaining.\n",
      "0.018000000000000002 (36%) simulated in 1s, estimated 3s remaining.\n",
      "0.019 (37%) simulated in 1s, estimated 3s remaining.\n",
      "0.02 (40%) simulated in 1s, estimated 3s remaining.\n",
      "0.021 (42%) simulated in 1s, estimated 3s remaining.\n",
      "0.022 (43%) simulated in 1s, estimated 3s remaining.\n",
      "0.023 (46%) simulated in 2s, estimated 2s remaining.\n",
      "0.024 (48%) simulated in 2s, estimated 2s remaining.\n",
      "0.025 (50%) simulated in 2s, estimated 2s remaining.\n",
      "0.026000000000000002 (52%) simulated in 2s, estimated 2s remaining.\n",
      "0.026999999999999996 (53%) simulated in 2s, estimated 2s remaining.\n",
      "0.027999999999999997 (55%) simulated in 2s, estimated 2s remaining.\n",
      "0.028999999999999998 (57%) simulated in 2s, estimated 2s remaining.\n",
      "0.03 (60%) simulated in 2s, estimated 2s remaining.\n",
      "0.031 (62%) simulated in 2s, estimated 2s remaining.\n",
      "0.032 (64%) simulated in 2s, estimated 2s remaining.\n",
      "0.033 (66%) simulated in 2s, estimated 1s remaining.\n",
      "0.034 (68%) simulated in 2s, estimated 1s remaining.\n",
      "0.035 (70%) simulated in 3s, estimated 1s remaining.\n",
      "0.036000000000000004 (72%) simulated in 3s, estimated 1s remaining.\n",
      "0.037 (73%) simulated in 3s, estimated 1s remaining.\n",
      "0.038 (75%) simulated in 3s, estimated 1s remaining.\n",
      "0.039 (77%) simulated in 3s, estimated 1s remaining.\n",
      "0.04 (80%) simulated in 3s, estimated 1s remaining.\n",
      "0.041 (82%) simulated in 3s, estimated 1s remaining.\n",
      "0.042 (84%) simulated in 3s, estimated 1s remaining.\n",
      "0.043000000000000003 (86%) simulated in 4s, estimated 1s remaining.\n",
      "0.044 (87%) simulated in 4s, estimated 1s remaining.\n",
      "0.045 (89%) simulated in 4s, estimated 1s remaining.\n",
      "0.046 (92%) simulated in 4s, estimated < 1s remaining.\n",
      "0.047 (94%) simulated in 5s, estimated < 1s remaining.\n",
      "0.048 (96%) simulated in 5s, estimated < 1s remaining.\n",
      "0.049 (98%) simulated in 5s, estimated < 1s remaining.\n",
      "0.05 (100%) simulated in 6s\n",
      "\n",
      "Batch 5 of 10 completed (50.0%)\n",
      "Moving accuracy of SNN (top-1, top-1): 100.00%, 60.00%.\n",
      "Moving accuracy of ANN (top-1, top-1): 100.00%, 100.00%.\n",
      "\n",
      "Resetting simulator...\n",
      "\n",
      "Starting new simulation...\n",
      "\n",
      "Current accuracy of batch:\n",
      "Starting simulation at t=0. s for a duration of 50. ms\n",
      "0.002 (4%) simulated in < 1s, estimated 1s remaining.\n",
      "0.003 (6%) simulated in < 1s, estimated 2s remaining.\n",
      "0.004 (8%) simulated in < 1s, estimated 3s remaining.\n",
      "0.005 (10%) simulated in < 1s, estimated 3s remaining.\n",
      "0.006 (12%) simulated in < 1s, estimated 3s remaining.\n",
      "0.006999999999999999 (13%) simulated in < 1s, estimated 4s remaining.\n",
      "0.008 (16%) simulated in < 1s, estimated 4s remaining.\n",
      "0.009000000000000001 (18%) simulated in < 1s, estimated 4s remaining.\n",
      "0.01 (20%) simulated in < 1s, estimated 4s remaining.\n",
      "0.011 (21%) simulated in 1s, estimated 4s remaining.\n",
      "0.012 (24%) simulated in 1s, estimated 4s remaining.\n",
      "0.013000000000000001 (26%) simulated in 1s, estimated 4s remaining.\n",
      "0.013999999999999999 (27%) simulated in 1s, estimated 4s remaining.\n",
      "0.015 (30%) simulated in 1s, estimated 3s remaining.\n",
      "0.016 (32%) simulated in 1s, estimated 3s remaining.\n",
      "0.017 (34%) simulated in 1s, estimated 3s remaining.\n",
      "0.018000000000000002 (36%) simulated in 1s, estimated 3s remaining.\n",
      "0.019 (37%) simulated in 1s, estimated 3s remaining.\n",
      "0.02 (40%) simulated in 1s, estimated 3s remaining.\n",
      "0.021 (42%) simulated in 1s, estimated 3s remaining.\n",
      "0.022 (43%) simulated in 2s, estimated 3s remaining.\n",
      "0.023 (46%) simulated in 2s, estimated 2s remaining.\n"
     ]
    },
    {
     "name": "stdout",
     "output_type": "stream",
     "text": [
      "0.024 (48%) simulated in 2s, estimated 2s remaining.\n",
      "0.025 (50%) simulated in 2s, estimated 2s remaining.\n",
      "0.026000000000000002 (52%) simulated in 2s, estimated 2s remaining.\n",
      "0.026999999999999996 (53%) simulated in 2s, estimated 2s remaining.\n",
      "0.027999999999999997 (55%) simulated in 2s, estimated 2s remaining.\n",
      "0.028999999999999998 (57%) simulated in 2s, estimated 2s remaining.\n",
      "0.03 (60%) simulated in 2s, estimated 2s remaining.\n",
      "0.031 (62%) simulated in 2s, estimated 2s remaining.\n",
      "0.032 (64%) simulated in 2s, estimated 2s remaining.\n",
      "0.033 (66%) simulated in 2s, estimated 2s remaining.\n",
      "0.034 (68%) simulated in 2s, estimated 1s remaining.\n",
      "0.035 (70%) simulated in 3s, estimated 1s remaining.\n",
      "0.036000000000000004 (72%) simulated in 3s, estimated 1s remaining.\n",
      "0.037 (73%) simulated in 3s, estimated 1s remaining.\n",
      "0.038 (75%) simulated in 3s, estimated 1s remaining.\n",
      "0.039 (77%) simulated in 3s, estimated 1s remaining.\n",
      "0.04 (80%) simulated in 3s, estimated 1s remaining.\n",
      "0.041 (82%) simulated in 3s, estimated 1s remaining.\n",
      "0.042 (84%) simulated in 3s, estimated 1s remaining.\n",
      "0.043000000000000003 (86%) simulated in 4s, estimated 1s remaining.\n",
      "0.044 (87%) simulated in 4s, estimated 1s remaining.\n",
      "0.045 (89%) simulated in 4s, estimated 1s remaining.\n",
      "0.046 (92%) simulated in 4s, estimated < 1s remaining.\n",
      "0.047 (94%) simulated in 5s, estimated < 1s remaining.\n",
      "0.048 (96%) simulated in 5s, estimated < 1s remaining.\n",
      "0.049 (98%) simulated in 5s, estimated < 1s remaining.\n",
      "0.05 (100%) simulated in 5s\n",
      "\n",
      "Batch 6 of 10 completed (60.0%)\n",
      "Moving accuracy of SNN (top-1, top-1): 100.00%, 50.00%.\n",
      "Moving accuracy of ANN (top-1, top-1): 100.00%, 100.00%.\n",
      "\n",
      "Resetting simulator...\n",
      "\n",
      "Starting new simulation...\n",
      "\n",
      "Current accuracy of batch:\n",
      "Starting simulation at t=0. s for a duration of 50. ms\n",
      "0.003 (6%) simulated in < 1s, estimated 3s remaining.\n",
      "0.004 (8%) simulated in < 1s, estimated 4s remaining.\n",
      "0.005 (10%) simulated in < 1s, estimated 4s remaining.\n",
      "0.006 (12%) simulated in < 1s, estimated 5s remaining.\n",
      "0.006999999999999999 (13%) simulated in < 1s, estimated 5s remaining.\n",
      "0.008 (16%) simulated in 1s, estimated 5s remaining.\n",
      "0.009000000000000001 (18%) simulated in 1s, estimated 6s remaining.\n",
      "0.01 (20%) simulated in 1s, estimated 6s remaining.\n",
      "0.011 (21%) simulated in 1s, estimated 5s remaining.\n",
      "0.012 (24%) simulated in 1s, estimated 5s remaining.\n",
      "0.013000000000000001 (26%) simulated in 1s, estimated 5s remaining.\n",
      "0.013999999999999999 (27%) simulated in 1s, estimated 5s remaining.\n",
      "0.015 (30%) simulated in 2s, estimated 5s remaining.\n",
      "0.016 (32%) simulated in 2s, estimated 4s remaining.\n",
      "0.017 (34%) simulated in 2s, estimated 4s remaining.\n",
      "0.018000000000000002 (36%) simulated in 2s, estimated 4s remaining.\n",
      "0.019 (37%) simulated in 2s, estimated 4s remaining.\n",
      "0.02 (40%) simulated in 2s, estimated 4s remaining.\n",
      "0.021 (42%) simulated in 2s, estimated 3s remaining.\n",
      "0.022 (43%) simulated in 2s, estimated 3s remaining.\n",
      "0.023 (46%) simulated in 2s, estimated 3s remaining.\n",
      "0.024 (48%) simulated in 2s, estimated 3s remaining.\n",
      "0.025 (50%) simulated in 2s, estimated 3s remaining.\n",
      "0.026000000000000002 (52%) simulated in 2s, estimated 3s remaining.\n",
      "0.026999999999999996 (53%) simulated in 3s, estimated 3s remaining.\n",
      "0.027999999999999997 (55%) simulated in 3s, estimated 2s remaining.\n",
      "0.028999999999999998 (57%) simulated in 3s, estimated 2s remaining.\n",
      "0.03 (60%) simulated in 3s, estimated 2s remaining.\n",
      "0.031 (62%) simulated in 3s, estimated 2s remaining.\n",
      "0.032 (64%) simulated in 3s, estimated 2s remaining.\n",
      "0.033 (66%) simulated in 3s, estimated 2s remaining.\n",
      "0.034 (68%) simulated in 3s, estimated 2s remaining.\n",
      "0.035 (70%) simulated in 3s, estimated 2s remaining.\n",
      "0.036000000000000004 (72%) simulated in 3s, estimated 1s remaining.\n",
      "0.037 (73%) simulated in 3s, estimated 1s remaining.\n",
      "0.038 (75%) simulated in 3s, estimated 1s remaining.\n",
      "0.039 (77%) simulated in 3s, estimated 1s remaining.\n",
      "0.04 (80%) simulated in 4s, estimated 1s remaining.\n",
      "0.041 (82%) simulated in 4s, estimated 1s remaining.\n",
      "0.042 (84%) simulated in 4s, estimated 1s remaining.\n",
      "0.043000000000000003 (86%) simulated in 4s, estimated 1s remaining.\n",
      "0.044 (87%) simulated in 4s, estimated 1s remaining.\n",
      "0.045 (89%) simulated in 4s, estimated 1s remaining.\n",
      "0.046 (92%) simulated in 5s, estimated < 1s remaining.\n",
      "0.047 (94%) simulated in 5s, estimated < 1s remaining.\n",
      "0.048 (96%) simulated in 5s, estimated < 1s remaining.\n",
      "0.049 (98%) simulated in 5s, estimated < 1s remaining.\n",
      "0.05 (100%) simulated in 6s\n",
      "\n",
      "Batch 7 of 10 completed (70.0%)\n",
      "Moving accuracy of SNN (top-1, top-1): 100.00%, 42.86%.\n",
      "Moving accuracy of ANN (top-1, top-1): 100.00%, 100.00%.\n",
      "\n",
      "Resetting simulator...\n",
      "\n",
      "Starting new simulation...\n",
      "\n",
      "Current accuracy of batch:\n",
      "Starting simulation at t=0. s for a duration of 50. ms\n",
      "0.002 (4%) simulated in < 1s, estimated 1s remaining.\n",
      "0.003 (6%) simulated in < 1s, estimated 2s remaining.\n",
      "0.004 (8%) simulated in < 1s, estimated 3s remaining.\n",
      "0.005 (10%) simulated in < 1s, estimated 4s remaining.\n",
      "0.006 (12%) simulated in < 1s, estimated 5s remaining.\n",
      "0.006999999999999999 (13%) simulated in < 1s, estimated 5s remaining.\n",
      "0.008 (16%) simulated in < 1s, estimated 5s remaining.\n",
      "0.009000000000000001 (18%) simulated in 1s, estimated 5s remaining.\n",
      "0.01 (20%) simulated in 1s, estimated 5s remaining.\n",
      "0.011 (21%) simulated in 1s, estimated 5s remaining.\n",
      "0.012 (24%) simulated in 1s, estimated 5s remaining.\n",
      "0.013000000000000001 (26%) simulated in 1s, estimated 5s remaining.\n",
      "0.013999999999999999 (27%) simulated in 1s, estimated 5s remaining.\n",
      "0.015 (30%) simulated in 2s, estimated 5s remaining.\n",
      "0.016 (32%) simulated in 2s, estimated 5s remaining.\n",
      "0.017 (34%) simulated in 2s, estimated 4s remaining.\n",
      "0.018000000000000002 (36%) simulated in 2s, estimated 4s remaining.\n",
      "0.019 (37%) simulated in 2s, estimated 4s remaining.\n",
      "0.02 (40%) simulated in 2s, estimated 4s remaining.\n",
      "0.021 (42%) simulated in 2s, estimated 4s remaining.\n",
      "0.022 (43%) simulated in 2s, estimated 3s remaining.\n",
      "0.023 (46%) simulated in 2s, estimated 3s remaining.\n",
      "0.024 (48%) simulated in 2s, estimated 3s remaining.\n",
      "0.025 (50%) simulated in 2s, estimated 3s remaining.\n",
      "0.026000000000000002 (52%) simulated in 2s, estimated 3s remaining.\n",
      "0.026999999999999996 (53%) simulated in 3s, estimated 3s remaining.\n",
      "0.027999999999999997 (55%) simulated in 3s, estimated 2s remaining.\n",
      "0.028999999999999998 (57%) simulated in 3s, estimated 2s remaining.\n",
      "0.03 (60%) simulated in 3s, estimated 2s remaining.\n",
      "0.031 (62%) simulated in 3s, estimated 2s remaining.\n",
      "0.032 (64%) simulated in 3s, estimated 2s remaining.\n",
      "0.033 (66%) simulated in 3s, estimated 2s remaining.\n",
      "0.034 (68%) simulated in 3s, estimated 2s remaining.\n",
      "0.035 (70%) simulated in 3s, estimated 2s remaining.\n",
      "0.036000000000000004 (72%) simulated in 3s, estimated 1s remaining.\n",
      "0.037 (73%) simulated in 3s, estimated 1s remaining.\n",
      "0.038 (75%) simulated in 3s, estimated 1s remaining.\n",
      "0.039 (77%) simulated in 4s, estimated 1s remaining.\n",
      "0.04 (80%) simulated in 4s, estimated 1s remaining.\n",
      "0.041 (82%) simulated in 4s, estimated 1s remaining.\n",
      "0.042 (84%) simulated in 4s, estimated 1s remaining.\n",
      "0.043000000000000003 (86%) simulated in 4s, estimated 1s remaining.\n",
      "0.044 (87%) simulated in 4s, estimated 1s remaining.\n",
      "0.045 (89%) simulated in 4s, estimated 1s remaining.\n",
      "0.046 (92%) simulated in 5s, estimated < 1s remaining.\n",
      "0.047 (94%) simulated in 5s, estimated < 1s remaining.\n",
      "0.048 (96%) simulated in 5s, estimated < 1s remaining.\n",
      "0.049 (98%) simulated in 5s, estimated < 1s remaining.\n",
      "0.05 (100%) simulated in 6s\n",
      "\n",
      "Batch 8 of 10 completed (80.0%)\n",
      "Moving accuracy of SNN (top-1, top-1): 87.50%, 50.00%.\n",
      "Moving accuracy of ANN (top-1, top-1): 100.00%, 100.00%.\n",
      "\n",
      "Resetting simulator...\n",
      "\n",
      "Starting new simulation...\n",
      "\n",
      "Current accuracy of batch:\n",
      "Starting simulation at t=0. s for a duration of 50. ms\n",
      "0.003 (6%) simulated in < 1s, estimated 2s remaining.\n",
      "0.004 (8%) simulated in < 1s, estimated 3s remaining.\n",
      "0.005 (10%) simulated in < 1s, estimated 4s remaining.\n",
      "0.006 (12%) simulated in < 1s, estimated 4s remaining.\n",
      "0.006999999999999999 (13%) simulated in < 1s, estimated 4s remaining.\n",
      "0.008 (16%) simulated in < 1s, estimated 4s remaining.\n",
      "0.009000000000000001 (18%) simulated in < 1s, estimated 4s remaining.\n"
     ]
    },
    {
     "name": "stdout",
     "output_type": "stream",
     "text": [
      "0.01 (20%) simulated in 1s, estimated 5s remaining.\n",
      "0.011 (21%) simulated in 1s, estimated 5s remaining.\n",
      "0.012 (24%) simulated in 1s, estimated 5s remaining.\n",
      "0.013000000000000001 (26%) simulated in 1s, estimated 5s remaining.\n",
      "0.013999999999999999 (27%) simulated in 1s, estimated 5s remaining.\n",
      "0.015 (30%) simulated in 2s, estimated 5s remaining.\n",
      "0.016 (32%) simulated in 2s, estimated 5s remaining.\n",
      "0.017 (34%) simulated in 2s, estimated 5s remaining.\n",
      "0.018000000000000002 (36%) simulated in 2s, estimated 5s remaining.\n",
      "0.019 (37%) simulated in 2s, estimated 5s remaining.\n",
      "0.02 (40%) simulated in 3s, estimated 5s remaining.\n",
      "0.021 (42%) simulated in 3s, estimated 5s remaining.\n",
      "0.022 (43%) simulated in 3s, estimated 5s remaining.\n",
      "0.023 (46%) simulated in 3s, estimated 5s remaining.\n",
      "0.024 (48%) simulated in 4s, estimated 4s remaining.\n",
      "0.025 (50%) simulated in 4s, estimated 4s remaining.\n",
      "0.026000000000000002 (52%) simulated in 4s, estimated 4s remaining.\n",
      "0.026999999999999996 (53%) simulated in 4s, estimated 4s remaining.\n",
      "0.027999999999999997 (55%) simulated in 4s, estimated 4s remaining.\n",
      "0.028999999999999998 (57%) simulated in 4s, estimated 3s remaining.\n",
      "0.03 (60%) simulated in 4s, estimated 3s remaining.\n",
      "0.031 (62%) simulated in 4s, estimated 3s remaining.\n",
      "0.032 (64%) simulated in 5s, estimated 3s remaining.\n",
      "0.033 (66%) simulated in 5s, estimated 3s remaining.\n",
      "0.034 (68%) simulated in 5s, estimated 2s remaining.\n",
      "0.035 (70%) simulated in 5s, estimated 2s remaining.\n",
      "0.036000000000000004 (72%) simulated in 5s, estimated 2s remaining.\n",
      "0.037 (73%) simulated in 5s, estimated 2s remaining.\n",
      "0.038 (75%) simulated in 5s, estimated 2s remaining.\n",
      "0.039 (77%) simulated in 5s, estimated 2s remaining.\n",
      "0.04 (80%) simulated in 5s, estimated 1s remaining.\n",
      "0.041 (82%) simulated in 5s, estimated 1s remaining.\n",
      "0.042 (84%) simulated in 6s, estimated 1s remaining.\n",
      "0.043000000000000003 (86%) simulated in 6s, estimated 1s remaining.\n",
      "0.044 (87%) simulated in 6s, estimated 1s remaining.\n",
      "0.045 (89%) simulated in 6s, estimated 1s remaining.\n",
      "0.046 (92%) simulated in 6s, estimated 1s remaining.\n",
      "0.047 (94%) simulated in 6s, estimated < 1s remaining.\n",
      "0.048 (96%) simulated in 7s, estimated < 1s remaining.\n",
      "0.049 (98%) simulated in 7s, estimated < 1s remaining.\n",
      "0.05 (100%) simulated in 7s\n",
      "\n",
      "Batch 9 of 10 completed (90.0%)\n",
      "Moving accuracy of SNN (top-1, top-1): 88.89%, 44.44%.\n",
      "Moving accuracy of ANN (top-1, top-1): 100.00%, 100.00%.\n",
      "\n",
      "Resetting simulator...\n",
      "\n",
      "Starting new simulation...\n",
      "\n",
      "Current accuracy of batch:\n",
      "Starting simulation at t=0. s for a duration of 50. ms\n",
      "0.002 (4%) simulated in < 1s, estimated 1s remaining.\n",
      "0.003 (6%) simulated in < 1s, estimated 3s remaining.\n",
      "0.004 (8%) simulated in < 1s, estimated 4s remaining.\n",
      "0.005 (10%) simulated in < 1s, estimated 4s remaining.\n",
      "0.006 (12%) simulated in < 1s, estimated 5s remaining.\n",
      "0.006999999999999999 (13%) simulated in < 1s, estimated 5s remaining.\n",
      "0.008 (16%) simulated in 1s, estimated 5s remaining.\n",
      "0.009000000000000001 (18%) simulated in 1s, estimated 6s remaining.\n",
      "0.01 (20%) simulated in 1s, estimated 6s remaining.\n",
      "0.011 (21%) simulated in 1s, estimated 6s remaining.\n",
      "0.012 (24%) simulated in 1s, estimated 6s remaining.\n",
      "0.013000000000000001 (26%) simulated in 2s, estimated 6s remaining.\n",
      "0.013999999999999999 (27%) simulated in 2s, estimated 6s remaining.\n",
      "0.015 (30%) simulated in 2s, estimated 6s remaining.\n",
      "0.016 (32%) simulated in 2s, estimated 6s remaining.\n",
      "0.017 (34%) simulated in 2s, estimated 5s remaining.\n",
      "0.018000000000000002 (36%) simulated in 2s, estimated 5s remaining.\n",
      "0.019 (37%) simulated in 2s, estimated 5s remaining.\n",
      "0.02 (40%) simulated in 3s, estimated 5s remaining.\n",
      "0.021 (42%) simulated in 3s, estimated 4s remaining.\n",
      "0.022 (43%) simulated in 3s, estimated 4s remaining.\n",
      "0.023 (46%) simulated in 3s, estimated 4s remaining.\n",
      "0.024 (48%) simulated in 3s, estimated 4s remaining.\n",
      "0.025 (50%) simulated in 3s, estimated 4s remaining.\n",
      "0.026000000000000002 (52%) simulated in 3s, estimated 3s remaining.\n",
      "0.026999999999999996 (53%) simulated in 3s, estimated 3s remaining.\n",
      "0.027999999999999997 (55%) simulated in 4s, estimated 3s remaining.\n",
      "0.028999999999999998 (57%) simulated in 4s, estimated 3s remaining.\n",
      "0.03 (60%) simulated in 4s, estimated 3s remaining.\n",
      "0.031 (62%) simulated in 4s, estimated 3s remaining.\n",
      "0.032 (64%) simulated in 4s, estimated 2s remaining.\n",
      "0.033 (66%) simulated in 4s, estimated 2s remaining.\n",
      "0.034 (68%) simulated in 4s, estimated 2s remaining.\n",
      "0.035 (70%) simulated in 5s, estimated 2s remaining.\n",
      "0.036000000000000004 (72%) simulated in 5s, estimated 2s remaining.\n",
      "0.037 (73%) simulated in 5s, estimated 2s remaining.\n",
      "0.038 (75%) simulated in 5s, estimated 2s remaining.\n",
      "0.039 (77%) simulated in 6s, estimated 2s remaining.\n",
      "0.04 (80%) simulated in 6s, estimated 2s remaining.\n",
      "0.041 (82%) simulated in 6s, estimated 1s remaining.\n",
      "0.042 (84%) simulated in 6s, estimated 1s remaining.\n",
      "0.043000000000000003 (86%) simulated in 7s, estimated 1s remaining.\n",
      "0.044 (87%) simulated in 7s, estimated 1s remaining.\n",
      "0.045 (89%) simulated in 7s, estimated 1s remaining.\n",
      "0.046 (92%) simulated in 8s, estimated 1s remaining.\n",
      "0.047 (94%) simulated in 8s, estimated 1s remaining.\n",
      "0.048 (96%) simulated in 8s, estimated < 1s remaining.\n",
      "0.049 (98%) simulated in 8s, estimated < 1s remaining.\n",
      "0.05 (100%) simulated in 9s\n"
     ]
    },
    {
     "name": "stderr",
     "output_type": "stream",
     "text": [
      "WARNING    /home/wolin/snn_toolbox/snntoolbox/simulation/utils.py:745: RuntimeWarning: invalid value encountered in true_divide\n",
      "  avg_acc = np.mean(np.true_divide(match, count))\n",
      " [py.warnings]\n"
     ]
    },
    {
     "name": "stdout",
     "output_type": "stream",
     "text": [
      "\n",
      "Batch 10 of 10 completed (100.0%)\n",
      "Moving accuracy of SNN (top-1, top-1): 80.00%, 50.00%.\n",
      "Moving accuracy of ANN (top-1, top-1): 100.00%, 100.00%.\n",
      "\n",
      "Resetting simulator...\n",
      "Simulation finished.\n",
      "\n",
      "\n",
      "Total accuracy: 80.00% on 10 test samples.\n",
      "\n",
      "\n",
      "Accuracy averaged over classes: nan%\n"
     ]
    }
   ],
   "source": [
    "results = run(spiking_model, **testset)"
   ]
  },
  {
   "cell_type": "code",
   "execution_count": 23,
   "metadata": {},
   "outputs": [
    {
     "data": {
      "text/plain": [
       "(194688,)"
      ]
     },
     "execution_count": 23,
     "metadata": {},
     "output_type": "execute_result"
    }
   ],
   "source": [
    "spiking_model.connections[0].w.shape"
   ]
  },
  {
   "cell_type": "code",
   "execution_count": 24,
   "metadata": {},
   "outputs": [],
   "source": [
    "w1 = collect_weights(spiking_model)"
   ]
  },
  {
   "cell_type": "code",
   "execution_count": 27,
   "metadata": {},
   "outputs": [
    {
     "data": {
      "text/plain": [
       "[array([-0.11255527,  0.20561771,  0.32598075, ..., -0.43515867,\n",
       "        -0.49201366, -0.11501604]),\n",
       " array([-0.06033819, -0.03270991, -0.08450107, ..., -0.00747128,\n",
       "        -0.03043433, -0.08895428]),\n",
       " array([0.25, 0.25, 0.25, ..., 0.25, 0.25, 0.25]),\n",
       " array([-0.00031962,  0.00205192,  0.00326242, ..., -0.0006495 ,\n",
       "        -0.00460762, -0.00090535]),\n",
       " array([ 1.03838599, -2.17178917,  0.57492721, ...,  1.59083498,\n",
       "         1.56229997,  1.61078787])]"
      ]
     },
     "execution_count": 27,
     "metadata": {},
     "output_type": "execute_result"
    }
   ],
   "source": [
    "w0"
   ]
  },
  {
   "cell_type": "code",
   "execution_count": 26,
   "metadata": {},
   "outputs": [
    {
     "data": {
      "text/plain": [
       "[array([-0.11255527,  0.20561771,  0.32598075, ..., -0.43515867,\n",
       "        -0.49201366, -0.11501604]),\n",
       " array([-0.06033819, -0.03270991, -0.08450107, ..., -0.00747128,\n",
       "        -0.03043433, -0.08895428]),\n",
       " array([0.25, 0.25, 0.25, ..., 0.25, 0.25, 0.25]),\n",
       " array([-0.00031962,  0.00205192,  0.00326242, ..., -0.0006495 ,\n",
       "        -0.00460762, -0.00090535]),\n",
       " array([ 1.03838599, -2.17178917,  0.57492721, ...,  1.59083498,\n",
       "         1.56229997,  1.61078787])]"
      ]
     },
     "execution_count": 26,
     "metadata": {},
     "output_type": "execute_result"
    }
   ],
   "source": [
    "w1"
   ]
  },
  {
   "cell_type": "code",
   "execution_count": 24,
   "metadata": {},
   "outputs": [],
   "source": [
    "config.set('stdp', 'stdp_on', '1')"
   ]
  },
  {
   "cell_type": "code",
   "execution_count": 25,
   "metadata": {
    "scrolled": true
   },
   "outputs": [
    {
     "name": "stdout",
     "output_type": "stream",
     "text": [
      "\n",
      "Starting new simulation...\n",
      "\n",
      "Current accuracy of batch:\n",
      "Starting simulation at t=0. s for a duration of 50. ms\n",
      "0.002 (4%) simulated in < 1s, estimated 1s remaining.\n",
      "0.003 (6%) simulated in < 1s, estimated 2s remaining.\n",
      "0.004 (8%) simulated in < 1s, estimated 4s remaining.\n",
      "0.005 (10%) simulated in < 1s, estimated 4s remaining.\n",
      "0.006 (12%) simulated in < 1s, estimated 4s remaining.\n",
      "0.006999999999999999 (13%) simulated in < 1s, estimated 4s remaining.\n",
      "0.008 (16%) simulated in < 1s, estimated 4s remaining.\n",
      "0.009000000000000001 (18%) simulated in < 1s, estimated 4s remaining.\n",
      "0.01 (20%) simulated in 1s, estimated 4s remaining.\n",
      "0.011 (21%) simulated in 1s, estimated 4s remaining.\n",
      "0.012 (24%) simulated in 1s, estimated 4s remaining.\n",
      "0.013000000000000001 (26%) simulated in 1s, estimated 4s remaining.\n",
      "0.013999999999999999 (27%) simulated in 1s, estimated 4s remaining.\n",
      "0.015 (30%) simulated in 1s, estimated 3s remaining.\n",
      "0.016 (32%) simulated in 1s, estimated 3s remaining.\n",
      "0.017 (34%) simulated in 1s, estimated 3s remaining.\n",
      "0.018000000000000002 (36%) simulated in 1s, estimated 3s remaining.\n",
      "0.019 (37%) simulated in 1s, estimated 3s remaining.\n",
      "0.02 (40%) simulated in 1s, estimated 3s remaining.\n",
      "0.021 (42%) simulated in 1s, estimated 3s remaining.\n",
      "0.022 (43%) simulated in 1s, estimated 3s remaining.\n",
      "0.023 (46%) simulated in 2s, estimated 2s remaining.\n",
      "0.024 (48%) simulated in 2s, estimated 2s remaining.\n",
      "0.025 (50%) simulated in 2s, estimated 2s remaining.\n",
      "0.026000000000000002 (52%) simulated in 2s, estimated 2s remaining.\n",
      "0.026999999999999996 (53%) simulated in 2s, estimated 2s remaining.\n",
      "0.027999999999999997 (55%) simulated in 2s, estimated 2s remaining.\n",
      "0.028999999999999998 (57%) simulated in 2s, estimated 2s remaining.\n",
      "0.03 (60%) simulated in 2s, estimated 2s remaining.\n",
      "0.031 (62%) simulated in 2s, estimated 2s remaining.\n",
      "0.032 (64%) simulated in 2s, estimated 2s remaining.\n",
      "0.033 (66%) simulated in 2s, estimated 2s remaining.\n",
      "0.034 (68%) simulated in 3s, estimated 1s remaining.\n",
      "0.035 (70%) simulated in 3s, estimated 1s remaining.\n",
      "0.036000000000000004 (72%) simulated in 3s, estimated 1s remaining.\n",
      "0.037 (73%) simulated in 3s, estimated 1s remaining.\n",
      "0.038 (75%) simulated in 3s, estimated 1s remaining.\n",
      "0.039 (77%) simulated in 3s, estimated 1s remaining.\n",
      "0.04 (80%) simulated in 3s, estimated 1s remaining.\n",
      "0.041 (82%) simulated in 3s, estimated 1s remaining.\n",
      "0.042 (84%) simulated in 3s, estimated 1s remaining.\n",
      "0.043000000000000003 (86%) simulated in 3s, estimated 1s remaining.\n",
      "0.044 (87%) simulated in 4s, estimated 1s remaining.\n",
      "0.045 (89%) simulated in 4s, estimated < 1s remaining.\n",
      "0.046 (92%) simulated in 4s, estimated < 1s remaining.\n",
      "0.047 (94%) simulated in 4s, estimated < 1s remaining.\n",
      "0.048 (96%) simulated in 5s, estimated < 1s remaining.\n",
      "0.049 (98%) simulated in 5s, estimated < 1s remaining.\n",
      "0.05 (100%) simulated in 5s\n",
      "\n",
      "Batch 1 of 10 completed (10.0%)\n",
      "Moving accuracy of SNN (top-1, top-1): 0.00%, 100.00%.\n",
      "Moving accuracy of ANN (top-1, top-1): 100.00%, 100.00%.\n",
      "\n",
      "Resetting simulator...\n",
      "\n",
      "Starting new simulation...\n",
      "\n",
      "Current accuracy of batch:\n",
      "Starting simulation at t=0. s for a duration of 50. ms\n",
      "0.001 (2%) simulated in < 1s, estimated 1s remaining.\n",
      "0.002 (4%) simulated in < 1s, estimated 1s remaining.\n",
      "0.003 (6%) simulated in < 1s, estimated 2s remaining.\n",
      "0.004 (8%) simulated in < 1s, estimated 4s remaining.\n",
      "0.005 (10%) simulated in < 1s, estimated 4s remaining.\n",
      "0.006 (12%) simulated in < 1s, estimated 5s remaining.\n",
      "0.006999999999999999 (13%) simulated in < 1s, estimated 5s remaining.\n",
      "0.008 (16%) simulated in < 1s, estimated 5s remaining.\n",
      "0.009000000000000001 (18%) simulated in 1s, estimated 6s remaining.\n",
      "0.01 (20%) simulated in 1s, estimated 6s remaining.\n",
      "0.011 (21%) simulated in 1s, estimated 6s remaining.\n",
      "0.012 (24%) simulated in 1s, estimated 6s remaining.\n",
      "0.013000000000000001 (26%) simulated in 2s, estimated 6s remaining.\n",
      "0.013999999999999999 (27%) simulated in 2s, estimated 6s remaining.\n",
      "0.015 (30%) simulated in 2s, estimated 6s remaining.\n",
      "0.016 (32%) simulated in 2s, estimated 5s remaining.\n",
      "0.017 (34%) simulated in 2s, estimated 5s remaining.\n",
      "0.018000000000000002 (36%) simulated in 2s, estimated 5s remaining.\n",
      "0.019 (37%) simulated in 2s, estimated 5s remaining.\n",
      "0.02 (40%) simulated in 3s, estimated 5s remaining.\n",
      "0.021 (42%) simulated in 3s, estimated 4s remaining.\n",
      "0.022 (43%) simulated in 3s, estimated 4s remaining.\n",
      "0.023 (46%) simulated in 3s, estimated 4s remaining.\n",
      "0.024 (48%) simulated in 3s, estimated 4s remaining.\n",
      "0.025 (50%) simulated in 3s, estimated 4s remaining.\n",
      "0.026000000000000002 (52%) simulated in 3s, estimated 3s remaining.\n",
      "0.026999999999999996 (53%) simulated in 3s, estimated 3s remaining.\n",
      "0.027999999999999997 (55%) simulated in 3s, estimated 3s remaining.\n",
      "0.028999999999999998 (57%) simulated in 4s, estimated 3s remaining.\n",
      "0.03 (60%) simulated in 4s, estimated 3s remaining.\n",
      "0.031 (62%) simulated in 4s, estimated 3s remaining.\n",
      "0.032 (64%) simulated in 4s, estimated 2s remaining.\n",
      "0.033 (66%) simulated in 4s, estimated 2s remaining.\n",
      "0.034 (68%) simulated in 4s, estimated 2s remaining.\n",
      "0.035 (70%) simulated in 5s, estimated 2s remaining.\n",
      "0.036000000000000004 (72%) simulated in 5s, estimated 2s remaining.\n",
      "0.037 (73%) simulated in 5s, estimated 2s remaining.\n",
      "0.038 (75%) simulated in 5s, estimated 2s remaining.\n",
      "0.039 (77%) simulated in 6s, estimated 2s remaining.\n",
      "0.04 (80%) simulated in 6s, estimated 2s remaining.\n",
      "0.041 (82%) simulated in 6s, estimated 2s remaining.\n",
      "0.042 (84%) simulated in 7s, estimated 1s remaining.\n",
      "0.043000000000000003 (86%) simulated in 7s, estimated 1s remaining.\n",
      "0.044 (87%) simulated in 8s, estimated 1s remaining.\n",
      "0.045 (89%) simulated in 8s, estimated 1s remaining.\n",
      "0.046 (92%) simulated in 8s, estimated 1s remaining.\n",
      "0.047 (94%) simulated in 9s, estimated 1s remaining.\n",
      "0.048 (96%) simulated in 9s, estimated < 1s remaining.\n",
      "0.049 (98%) simulated in 9s, estimated < 1s remaining.\n",
      "0.05 (100%) simulated in 10s\n",
      "\n",
      "Batch 2 of 10 completed (20.0%)\n",
      "Moving accuracy of SNN (top-1, top-1): 0.00%, 50.00%.\n",
      "Moving accuracy of ANN (top-1, top-1): 100.00%, 100.00%.\n",
      "\n",
      "Resetting simulator...\n",
      "\n",
      "Starting new simulation...\n",
      "\n",
      "Current accuracy of batch:\n",
      "Starting simulation at t=0. s for a duration of 50. ms\n",
      "0.002 (4%) simulated in < 1s, estimated < 1s remaining.\n",
      "0.003 (6%) simulated in < 1s, estimated 1s remaining.\n",
      "0.004 (8%) simulated in < 1s, estimated 2s remaining.\n",
      "0.005 (10%) simulated in < 1s, estimated 2s remaining.\n",
      "0.006 (12%) simulated in < 1s, estimated 2s remaining.\n",
      "0.006999999999999999 (13%) simulated in < 1s, estimated 2s remaining.\n",
      "0.008 (16%) simulated in < 1s, estimated 2s remaining.\n",
      "0.009000000000000001 (18%) simulated in < 1s, estimated 2s remaining.\n",
      "0.01 (20%) simulated in < 1s, estimated 2s remaining.\n",
      "0.011 (21%) simulated in < 1s, estimated 2s remaining.\n",
      "0.012 (24%) simulated in < 1s, estimated 2s remaining.\n",
      "0.013000000000000001 (26%) simulated in < 1s, estimated 2s remaining.\n",
      "0.013999999999999999 (27%) simulated in < 1s, estimated 2s remaining.\n",
      "0.015 (30%) simulated in < 1s, estimated 1s remaining.\n",
      "0.016 (32%) simulated in < 1s, estimated 1s remaining.\n",
      "0.017 (34%) simulated in < 1s, estimated 1s remaining.\n",
      "0.018000000000000002 (36%) simulated in < 1s, estimated 1s remaining.\n",
      "0.019 (37%) simulated in < 1s, estimated 1s remaining.\n",
      "0.02 (40%) simulated in < 1s, estimated 1s remaining.\n",
      "0.021 (42%) simulated in < 1s, estimated 1s remaining.\n",
      "0.022 (43%) simulated in < 1s, estimated 1s remaining.\n",
      "0.023 (46%) simulated in 1s, estimated 1s remaining.\n",
      "0.024 (48%) simulated in 1s, estimated 1s remaining.\n",
      "0.025 (50%) simulated in 1s, estimated 1s remaining.\n",
      "0.026000000000000002 (52%) simulated in 1s, estimated 1s remaining.\n",
      "0.026999999999999996 (53%) simulated in 1s, estimated 1s remaining.\n",
      "0.027999999999999997 (55%) simulated in 1s, estimated 1s remaining.\n",
      "0.028999999999999998 (57%) simulated in 1s, estimated 1s remaining.\n",
      "0.03 (60%) simulated in 1s, estimated 1s remaining.\n",
      "0.031 (62%) simulated in 1s, estimated 1s remaining.\n",
      "0.032 (64%) simulated in 1s, estimated 1s remaining.\n",
      "0.033 (66%) simulated in 1s, estimated 1s remaining.\n",
      "0.034 (68%) simulated in 1s, estimated 1s remaining.\n",
      "0.035 (70%) simulated in 2s, estimated 1s remaining.\n"
     ]
    },
    {
     "name": "stdout",
     "output_type": "stream",
     "text": [
      "0.036000000000000004 (72%) simulated in 2s, estimated 1s remaining.\n",
      "0.037 (73%) simulated in 2s, estimated 1s remaining.\n",
      "0.038 (75%) simulated in 2s, estimated 1s remaining.\n",
      "0.039 (77%) simulated in 2s, estimated 1s remaining.\n",
      "0.04 (80%) simulated in 2s, estimated 1s remaining.\n",
      "0.041 (82%) simulated in 2s, estimated 1s remaining.\n",
      "0.042 (84%) simulated in 3s, estimated 1s remaining.\n",
      "0.043000000000000003 (86%) simulated in 3s, estimated 1s remaining.\n",
      "0.044 (87%) simulated in 3s, estimated < 1s remaining.\n",
      "0.045 (89%) simulated in 3s, estimated < 1s remaining.\n",
      "0.046 (92%) simulated in 4s, estimated < 1s remaining.\n",
      "0.047 (94%) simulated in 4s, estimated < 1s remaining.\n",
      "0.048 (96%) simulated in 4s, estimated < 1s remaining.\n",
      "0.049 (98%) simulated in 5s, estimated < 1s remaining.\n",
      "0.05 (100%) simulated in 5s\n",
      "\n",
      "Batch 3 of 10 completed (30.0%)\n",
      "Moving accuracy of SNN (top-1, top-1): 33.33%, 66.67%.\n",
      "Moving accuracy of ANN (top-1, top-1): 100.00%, 100.00%.\n",
      "\n",
      "Resetting simulator...\n",
      "\n",
      "Starting new simulation...\n",
      "\n",
      "Current accuracy of batch:\n",
      "Starting simulation at t=0. s for a duration of 50. ms\n",
      "0.002 (4%) simulated in < 1s, estimated 1s remaining.\n",
      "0.003 (6%) simulated in < 1s, estimated 4s remaining.\n",
      "0.004 (8%) simulated in < 1s, estimated 5s remaining.\n",
      "0.005 (10%) simulated in < 1s, estimated 6s remaining.\n",
      "0.006 (12%) simulated in < 1s, estimated 7s remaining.\n",
      "0.006999999999999999 (13%) simulated in 1s, estimated 7s remaining.\n",
      "0.008 (16%) simulated in 1s, estimated 7s remaining.\n",
      "0.009000000000000001 (18%) simulated in 1s, estimated 7s remaining.\n",
      "0.01 (20%) simulated in 1s, estimated 7s remaining.\n",
      "0.011 (21%) simulated in 1s, estimated 6s remaining.\n",
      "0.012 (24%) simulated in 1s, estimated 6s remaining.\n",
      "0.013000000000000001 (26%) simulated in 2s, estimated 6s remaining.\n",
      "0.013999999999999999 (27%) simulated in 2s, estimated 6s remaining.\n",
      "0.015 (30%) simulated in 2s, estimated 5s remaining.\n",
      "0.016 (32%) simulated in 2s, estimated 5s remaining.\n",
      "0.017 (34%) simulated in 2s, estimated 5s remaining.\n",
      "0.018000000000000002 (36%) simulated in 2s, estimated 5s remaining.\n",
      "0.019 (37%) simulated in 2s, estimated 4s remaining.\n",
      "0.02 (40%) simulated in 2s, estimated 4s remaining.\n",
      "0.021 (42%) simulated in 2s, estimated 4s remaining.\n",
      "0.022 (43%) simulated in 2s, estimated 4s remaining.\n",
      "0.023 (46%) simulated in 3s, estimated 4s remaining.\n",
      "0.024 (48%) simulated in 3s, estimated 3s remaining.\n",
      "0.025 (50%) simulated in 3s, estimated 3s remaining.\n",
      "0.026000000000000002 (52%) simulated in 3s, estimated 3s remaining.\n",
      "0.026999999999999996 (53%) simulated in 3s, estimated 3s remaining.\n",
      "0.027999999999999997 (55%) simulated in 3s, estimated 3s remaining.\n",
      "0.028999999999999998 (57%) simulated in 4s, estimated 3s remaining.\n",
      "0.03 (60%) simulated in 4s, estimated 3s remaining.\n",
      "0.031 (62%) simulated in 4s, estimated 3s remaining.\n",
      "0.032 (64%) simulated in 5s, estimated 3s remaining.\n",
      "0.033 (66%) simulated in 5s, estimated 3s remaining.\n",
      "0.034 (68%) simulated in 5s, estimated 3s remaining.\n",
      "0.035 (70%) simulated in 6s, estimated 3s remaining.\n",
      "0.036000000000000004 (72%) simulated in 6s, estimated 3s remaining.\n",
      "0.037 (73%) simulated in 6s, estimated 2s remaining.\n",
      "0.038 (75%) simulated in 7s, estimated 2s remaining.\n",
      "0.039 (77%) simulated in 7s, estimated 2s remaining.\n",
      "0.04 (80%) simulated in 7s, estimated 2s remaining.\n",
      "0.041 (82%) simulated in 8s, estimated 2s remaining.\n",
      "0.042 (84%) simulated in 8s, estimated 2s remaining.\n",
      "0.043000000000000003 (86%) simulated in 8s, estimated 1s remaining.\n",
      "0.044 (87%) simulated in 9s, estimated 1s remaining.\n",
      "0.045 (89%) simulated in 9s, estimated 1s remaining.\n",
      "0.046 (92%) simulated in 9s, estimated 1s remaining.\n",
      "0.047 (94%) simulated in 10s, estimated 1s remaining.\n",
      "0.048 (96%) simulated in 10s, estimated < 1s remaining.\n",
      "0.049 (98%) simulated in 11s, estimated < 1s remaining.\n",
      "0.05 (100%) simulated in 11s\n",
      "\n",
      "Batch 4 of 10 completed (40.0%)\n",
      "Moving accuracy of SNN (top-1, top-1): 50.00%, 50.00%.\n",
      "Moving accuracy of ANN (top-1, top-1): 100.00%, 100.00%.\n",
      "\n",
      "Resetting simulator...\n",
      "\n",
      "Starting new simulation...\n",
      "\n",
      "Current accuracy of batch:\n",
      "Starting simulation at t=0. s for a duration of 50. ms\n",
      "0.003 (6%) simulated in < 1s, estimated 1s remaining.\n",
      "0.004 (8%) simulated in < 1s, estimated 1s remaining.\n",
      "0.005 (10%) simulated in < 1s, estimated 1s remaining.\n",
      "0.006 (12%) simulated in < 1s, estimated 1s remaining.\n",
      "0.006999999999999999 (13%) simulated in < 1s, estimated 1s remaining.\n",
      "0.008 (16%) simulated in < 1s, estimated 2s remaining.\n",
      "0.009000000000000001 (18%) simulated in < 1s, estimated 2s remaining.\n",
      "0.01 (20%) simulated in < 1s, estimated 2s remaining.\n",
      "0.011 (21%) simulated in < 1s, estimated 2s remaining.\n",
      "0.012 (24%) simulated in < 1s, estimated 2s remaining.\n",
      "0.013000000000000001 (26%) simulated in < 1s, estimated 2s remaining.\n",
      "0.013999999999999999 (27%) simulated in < 1s, estimated 2s remaining.\n",
      "0.015 (30%) simulated in < 1s, estimated 2s remaining.\n",
      "0.016 (32%) simulated in < 1s, estimated 1s remaining.\n",
      "0.017 (34%) simulated in < 1s, estimated 1s remaining.\n",
      "0.018000000000000002 (36%) simulated in < 1s, estimated 2s remaining.\n",
      "0.019 (37%) simulated in 1s, estimated 2s remaining.\n",
      "0.02 (40%) simulated in 1s, estimated 2s remaining.\n",
      "0.021 (42%) simulated in 1s, estimated 2s remaining.\n",
      "0.022 (43%) simulated in 1s, estimated 2s remaining.\n",
      "0.023 (46%) simulated in 1s, estimated 2s remaining.\n",
      "0.024 (48%) simulated in 2s, estimated 2s remaining.\n",
      "0.025 (50%) simulated in 2s, estimated 2s remaining.\n",
      "0.026000000000000002 (52%) simulated in 2s, estimated 2s remaining.\n",
      "0.026999999999999996 (53%) simulated in 2s, estimated 2s remaining.\n",
      "0.027999999999999997 (55%) simulated in 2s, estimated 2s remaining.\n",
      "0.028999999999999998 (57%) simulated in 3s, estimated 2s remaining.\n",
      "0.03 (60%) simulated in 3s, estimated 2s remaining.\n",
      "0.031 (62%) simulated in 3s, estimated 2s remaining.\n",
      "0.032 (64%) simulated in 3s, estimated 2s remaining.\n",
      "0.033 (66%) simulated in 4s, estimated 2s remaining.\n",
      "0.034 (68%) simulated in 4s, estimated 2s remaining.\n",
      "0.035 (70%) simulated in 4s, estimated 2s remaining.\n",
      "0.036000000000000004 (72%) simulated in 5s, estimated 2s remaining.\n",
      "0.037 (73%) simulated in 5s, estimated 2s remaining.\n",
      "0.038 (75%) simulated in 5s, estimated 2s remaining.\n",
      "0.039 (77%) simulated in 6s, estimated 2s remaining.\n",
      "0.04 (80%) simulated in 6s, estimated 2s remaining.\n",
      "0.041 (82%) simulated in 7s, estimated 2s remaining.\n",
      "0.042 (84%) simulated in 7s, estimated 1s remaining.\n",
      "0.043000000000000003 (86%) simulated in 7s, estimated 1s remaining.\n",
      "0.044 (87%) simulated in 8s, estimated 1s remaining.\n",
      "0.045 (89%) simulated in 8s, estimated 1s remaining.\n",
      "0.046 (92%) simulated in 9s, estimated 1s remaining.\n",
      "0.047 (94%) simulated in 9s, estimated 1s remaining.\n",
      "0.048 (96%) simulated in 9s, estimated < 1s remaining.\n",
      "0.049 (98%) simulated in 10s, estimated < 1s remaining.\n",
      "0.05 (100%) simulated in 10s\n",
      "\n",
      "Batch 5 of 10 completed (50.0%)\n",
      "Moving accuracy of SNN (top-1, top-1): 60.00%, 60.00%.\n",
      "Moving accuracy of ANN (top-1, top-1): 100.00%, 100.00%.\n",
      "\n",
      "Resetting simulator...\n",
      "\n",
      "Starting new simulation...\n",
      "\n",
      "Current accuracy of batch:\n",
      "Starting simulation at t=0. s for a duration of 50. ms\n",
      "0.002 (4%) simulated in < 1s, estimated 1s remaining.\n",
      "0.003 (6%) simulated in < 1s, estimated 2s remaining.\n",
      "0.004 (8%) simulated in < 1s, estimated 2s remaining.\n",
      "0.005 (10%) simulated in < 1s, estimated 2s remaining.\n",
      "0.006 (12%) simulated in < 1s, estimated 2s remaining.\n",
      "0.006999999999999999 (13%) simulated in < 1s, estimated 2s remaining.\n",
      "0.008 (16%) simulated in < 1s, estimated 2s remaining.\n",
      "0.009000000000000001 (18%) simulated in < 1s, estimated 2s remaining.\n",
      "0.01 (20%) simulated in < 1s, estimated 3s remaining.\n",
      "0.011 (21%) simulated in < 1s, estimated 3s remaining.\n",
      "0.012 (24%) simulated in < 1s, estimated 3s remaining.\n",
      "0.013000000000000001 (26%) simulated in < 1s, estimated 3s remaining.\n",
      "0.013999999999999999 (27%) simulated in 1s, estimated 3s remaining.\n",
      "0.015 (30%) simulated in 1s, estimated 3s remaining.\n",
      "0.016 (32%) simulated in 1s, estimated 3s remaining.\n",
      "0.017 (34%) simulated in 1s, estimated 2s remaining.\n",
      "0.018000000000000002 (36%) simulated in 1s, estimated 2s remaining.\n",
      "0.019 (37%) simulated in 1s, estimated 2s remaining.\n",
      "0.02 (40%) simulated in 1s, estimated 2s remaining.\n"
     ]
    },
    {
     "name": "stdout",
     "output_type": "stream",
     "text": [
      "0.021 (42%) simulated in 1s, estimated 2s remaining.\n",
      "0.022 (43%) simulated in 1s, estimated 2s remaining.\n",
      "0.023 (46%) simulated in 2s, estimated 2s remaining.\n",
      "0.024 (48%) simulated in 2s, estimated 2s remaining.\n",
      "0.025 (50%) simulated in 2s, estimated 2s remaining.\n",
      "0.026000000000000002 (52%) simulated in 2s, estimated 2s remaining.\n",
      "0.026999999999999996 (53%) simulated in 2s, estimated 2s remaining.\n",
      "0.027999999999999997 (55%) simulated in 3s, estimated 2s remaining.\n",
      "0.028999999999999998 (57%) simulated in 3s, estimated 2s remaining.\n",
      "0.03 (60%) simulated in 3s, estimated 2s remaining.\n",
      "0.031 (62%) simulated in 3s, estimated 2s remaining.\n",
      "0.032 (64%) simulated in 3s, estimated 2s remaining.\n",
      "0.033 (66%) simulated in 4s, estimated 2s remaining.\n",
      "0.034 (68%) simulated in 4s, estimated 2s remaining.\n",
      "0.035 (70%) simulated in 4s, estimated 2s remaining.\n",
      "0.036000000000000004 (72%) simulated in 4s, estimated 2s remaining.\n",
      "0.037 (73%) simulated in 5s, estimated 2s remaining.\n",
      "0.038 (75%) simulated in 5s, estimated 2s remaining.\n",
      "0.039 (77%) simulated in 5s, estimated 2s remaining.\n",
      "0.04 (80%) simulated in 6s, estimated 2s remaining.\n",
      "0.041 (82%) simulated in 6s, estimated 1s remaining.\n",
      "0.042 (84%) simulated in 6s, estimated 1s remaining.\n",
      "0.043000000000000003 (86%) simulated in 6s, estimated 1s remaining.\n",
      "0.044 (87%) simulated in 7s, estimated 1s remaining.\n",
      "0.045 (89%) simulated in 7s, estimated 1s remaining.\n",
      "0.046 (92%) simulated in 7s, estimated 1s remaining.\n",
      "0.047 (94%) simulated in 8s, estimated 1s remaining.\n",
      "0.048 (96%) simulated in 8s, estimated < 1s remaining.\n",
      "0.049 (98%) simulated in 9s, estimated < 1s remaining.\n",
      "0.05 (100%) simulated in 9s\n",
      "\n",
      "Batch 6 of 10 completed (60.0%)\n",
      "Moving accuracy of SNN (top-1, top-1): 66.67%, 66.67%.\n",
      "Moving accuracy of ANN (top-1, top-1): 100.00%, 100.00%.\n",
      "\n",
      "Resetting simulator...\n",
      "\n",
      "Starting new simulation...\n",
      "\n",
      "Current accuracy of batch:\n",
      "Starting simulation at t=0. s for a duration of 50. ms\n",
      "0.003 (6%) simulated in < 1s, estimated 1s remaining.\n",
      "0.004 (8%) simulated in < 1s, estimated 1s remaining.\n",
      "0.005 (10%) simulated in < 1s, estimated 1s remaining.\n",
      "0.006 (12%) simulated in < 1s, estimated 2s remaining.\n",
      "0.006999999999999999 (13%) simulated in < 1s, estimated 2s remaining.\n",
      "0.008 (16%) simulated in < 1s, estimated 2s remaining.\n",
      "0.009000000000000001 (18%) simulated in < 1s, estimated 3s remaining.\n",
      "0.01 (20%) simulated in < 1s, estimated 3s remaining.\n",
      "0.011 (21%) simulated in < 1s, estimated 3s remaining.\n",
      "0.012 (24%) simulated in 1s, estimated 4s remaining.\n",
      "0.013000000000000001 (26%) simulated in 1s, estimated 4s remaining.\n",
      "0.013999999999999999 (27%) simulated in 1s, estimated 4s remaining.\n",
      "0.015 (30%) simulated in 1s, estimated 4s remaining.\n",
      "0.016 (32%) simulated in 1s, estimated 4s remaining.\n",
      "0.017 (34%) simulated in 2s, estimated 4s remaining.\n",
      "0.018000000000000002 (36%) simulated in 2s, estimated 4s remaining.\n",
      "0.019 (37%) simulated in 2s, estimated 4s remaining.\n",
      "0.02 (40%) simulated in 2s, estimated 4s remaining.\n",
      "0.021 (42%) simulated in 3s, estimated 4s remaining.\n",
      "0.022 (43%) simulated in 3s, estimated 4s remaining.\n",
      "0.023 (46%) simulated in 3s, estimated 4s remaining.\n",
      "0.024 (48%) simulated in 3s, estimated 4s remaining.\n",
      "0.025 (50%) simulated in 4s, estimated 4s remaining.\n",
      "0.026000000000000002 (52%) simulated in 4s, estimated 4s remaining.\n",
      "0.026999999999999996 (53%) simulated in 4s, estimated 4s remaining.\n",
      "0.027999999999999997 (55%) simulated in 4s, estimated 4s remaining.\n",
      "0.028999999999999998 (57%) simulated in 5s, estimated 4s remaining.\n",
      "0.03 (60%) simulated in 5s, estimated 4s remaining.\n",
      "0.031 (62%) simulated in 5s, estimated 4s remaining.\n",
      "0.032 (64%) simulated in 6s, estimated 4s remaining.\n",
      "0.033 (66%) simulated in 6s, estimated 3s remaining.\n",
      "0.034 (68%) simulated in 6s, estimated 3s remaining.\n",
      "0.035 (70%) simulated in 7s, estimated 3s remaining.\n",
      "0.036000000000000004 (72%) simulated in 7s, estimated 3s remaining.\n",
      "0.037 (73%) simulated in 7s, estimated 3s remaining.\n",
      "0.038 (75%) simulated in 8s, estimated 3s remaining.\n",
      "0.039 (77%) simulated in 8s, estimated 2s remaining.\n",
      "0.04 (80%) simulated in 8s, estimated 2s remaining.\n",
      "0.041 (82%) simulated in 9s, estimated 2s remaining.\n",
      "0.042 (84%) simulated in 9s, estimated 2s remaining.\n",
      "0.043000000000000003 (86%) simulated in 9s, estimated 2s remaining.\n",
      "0.044 (87%) simulated in 10s, estimated 1s remaining.\n",
      "0.045 (89%) simulated in 10s, estimated 1s remaining.\n",
      "0.046 (92%) simulated in 10s, estimated 1s remaining.\n",
      "0.047 (94%) simulated in 10s, estimated 1s remaining.\n",
      "0.048 (96%) simulated in 10s, estimated < 1s remaining.\n",
      "0.049 (98%) simulated in 10s, estimated < 1s remaining.\n",
      "0.05 (100%) simulated in 10s\n",
      "\n",
      "Batch 7 of 10 completed (70.0%)\n",
      "Moving accuracy of SNN (top-1, top-1): 71.43%, 57.14%.\n",
      "Moving accuracy of ANN (top-1, top-1): 100.00%, 100.00%.\n",
      "\n",
      "Resetting simulator...\n",
      "\n",
      "Starting new simulation...\n",
      "\n",
      "Current accuracy of batch:\n",
      "Starting simulation at t=0. s for a duration of 50. ms\n",
      "0.003 (6%) simulated in < 1s, estimated 2s remaining.\n",
      "0.004 (8%) simulated in < 1s, estimated 3s remaining.\n",
      "0.005 (10%) simulated in < 1s, estimated 4s remaining.\n",
      "0.006 (12%) simulated in < 1s, estimated 4s remaining.\n",
      "0.006999999999999999 (13%) simulated in < 1s, estimated 5s remaining.\n",
      "0.008 (16%) simulated in < 1s, estimated 5s remaining.\n",
      "0.009000000000000001 (18%) simulated in 1s, estimated 5s remaining.\n",
      "0.01 (20%) simulated in 1s, estimated 5s remaining.\n",
      "0.011 (21%) simulated in 1s, estimated 5s remaining.\n",
      "0.012 (24%) simulated in 1s, estimated 5s remaining.\n",
      "0.013000000000000001 (26%) simulated in 1s, estimated 5s remaining.\n",
      "0.013999999999999999 (27%) simulated in 1s, estimated 5s remaining.\n",
      "0.015 (30%) simulated in 2s, estimated 5s remaining.\n",
      "0.016 (32%) simulated in 2s, estimated 5s remaining.\n",
      "0.017 (34%) simulated in 2s, estimated 5s remaining.\n",
      "0.018000000000000002 (36%) simulated in 2s, estimated 5s remaining.\n",
      "0.019 (37%) simulated in 2s, estimated 5s remaining.\n",
      "0.02 (40%) simulated in 3s, estimated 5s remaining.\n",
      "0.021 (42%) simulated in 3s, estimated 5s remaining.\n",
      "0.022 (43%) simulated in 3s, estimated 4s remaining.\n",
      "0.023 (46%) simulated in 3s, estimated 4s remaining.\n",
      "0.024 (48%) simulated in 3s, estimated 4s remaining.\n",
      "0.025 (50%) simulated in 4s, estimated 4s remaining.\n",
      "0.026000000000000002 (52%) simulated in 4s, estimated 4s remaining.\n",
      "0.026999999999999996 (53%) simulated in 4s, estimated 4s remaining.\n",
      "0.027999999999999997 (55%) simulated in 5s, estimated 4s remaining.\n",
      "0.028999999999999998 (57%) simulated in 5s, estimated 4s remaining.\n",
      "0.03 (60%) simulated in 5s, estimated 4s remaining.\n",
      "0.031 (62%) simulated in 6s, estimated 4s remaining.\n",
      "0.032 (64%) simulated in 6s, estimated 4s remaining.\n",
      "0.033 (66%) simulated in 6s, estimated 4s remaining.\n",
      "0.034 (68%) simulated in 7s, estimated 3s remaining.\n",
      "0.035 (70%) simulated in 7s, estimated 3s remaining.\n",
      "0.036000000000000004 (72%) simulated in 7s, estimated 3s remaining.\n",
      "0.037 (73%) simulated in 7s, estimated 3s remaining.\n",
      "0.038 (75%) simulated in 8s, estimated 3s remaining.\n",
      "0.039 (77%) simulated in 8s, estimated 2s remaining.\n",
      "0.04 (80%) simulated in 8s, estimated 2s remaining.\n",
      "0.041 (82%) simulated in 8s, estimated 2s remaining.\n",
      "0.042 (84%) simulated in 8s, estimated 2s remaining.\n",
      "0.043000000000000003 (86%) simulated in 8s, estimated 1s remaining.\n",
      "0.044 (87%) simulated in 9s, estimated 1s remaining.\n",
      "0.045 (89%) simulated in 9s, estimated 1s remaining.\n",
      "0.046 (92%) simulated in 9s, estimated 1s remaining.\n",
      "0.047 (94%) simulated in 9s, estimated 1s remaining.\n",
      "0.048 (96%) simulated in 9s, estimated < 1s remaining.\n",
      "0.049 (98%) simulated in 9s, estimated < 1s remaining.\n",
      "0.05 (100%) simulated in 9s\n",
      "\n",
      "Batch 8 of 10 completed (80.0%)\n",
      "Moving accuracy of SNN (top-1, top-1): 62.50%, 62.50%.\n",
      "Moving accuracy of ANN (top-1, top-1): 100.00%, 100.00%.\n",
      "\n",
      "Resetting simulator...\n",
      "\n",
      "Starting new simulation...\n",
      "\n",
      "Current accuracy of batch:\n",
      "Starting simulation at t=0. s for a duration of 50. ms\n",
      "0.001 (2%) simulated in < 1s, estimated 1s remaining.\n",
      "0.002 (4%) simulated in < 1s, estimated 1s remaining.\n",
      "0.003 (6%) simulated in < 1s, estimated 3s remaining.\n",
      "0.004 (8%) simulated in < 1s, estimated 4s remaining.\n",
      "0.005 (10%) simulated in < 1s, estimated 5s remaining.\n",
      "0.006 (12%) simulated in < 1s, estimated 5s remaining.\n"
     ]
    },
    {
     "name": "stdout",
     "output_type": "stream",
     "text": [
      "0.006999999999999999 (13%) simulated in < 1s, estimated 5s remaining.\n",
      "0.008 (16%) simulated in 1s, estimated 5s remaining.\n",
      "0.009000000000000001 (18%) simulated in 1s, estimated 5s remaining.\n",
      "0.01 (20%) simulated in 1s, estimated 5s remaining.\n",
      "0.011 (21%) simulated in 1s, estimated 5s remaining.\n",
      "0.012 (24%) simulated in 1s, estimated 6s remaining.\n",
      "0.013000000000000001 (26%) simulated in 1s, estimated 5s remaining.\n",
      "0.013999999999999999 (27%) simulated in 2s, estimated 5s remaining.\n",
      "0.015 (30%) simulated in 2s, estimated 5s remaining.\n",
      "0.016 (32%) simulated in 2s, estimated 5s remaining.\n",
      "0.017 (34%) simulated in 2s, estimated 5s remaining.\n",
      "0.018000000000000002 (36%) simulated in 2s, estimated 5s remaining.\n",
      "0.019 (37%) simulated in 3s, estimated 5s remaining.\n",
      "0.02 (40%) simulated in 3s, estimated 5s remaining.\n",
      "0.021 (42%) simulated in 3s, estimated 5s remaining.\n",
      "0.022 (43%) simulated in 4s, estimated 5s remaining.\n",
      "0.023 (46%) simulated in 4s, estimated 5s remaining.\n",
      "0.024 (48%) simulated in 4s, estimated 5s remaining.\n",
      "0.025 (50%) simulated in 4s, estimated 5s remaining.\n",
      "0.026000000000000002 (52%) simulated in 4s, estimated 5s remaining.\n",
      "0.026999999999999996 (53%) simulated in 5s, estimated 4s remaining.\n",
      "0.027999999999999997 (55%) simulated in 5s, estimated 4s remaining.\n",
      "0.028999999999999998 (57%) simulated in 5s, estimated 4s remaining.\n",
      "0.03 (60%) simulated in 5s, estimated 4s remaining.\n",
      "0.031 (62%) simulated in 5s, estimated 3s remaining.\n",
      "0.032 (64%) simulated in 5s, estimated 3s remaining.\n",
      "0.033 (66%) simulated in 5s, estimated 3s remaining.\n",
      "0.034 (68%) simulated in 6s, estimated 3s remaining.\n",
      "0.035 (70%) simulated in 6s, estimated 3s remaining.\n",
      "0.036000000000000004 (72%) simulated in 6s, estimated 2s remaining.\n",
      "0.037 (73%) simulated in 6s, estimated 2s remaining.\n",
      "0.038 (75%) simulated in 6s, estimated 2s remaining.\n",
      "0.039 (77%) simulated in 6s, estimated 2s remaining.\n",
      "0.04 (80%) simulated in 7s, estimated 2s remaining.\n",
      "0.041 (82%) simulated in 7s, estimated 2s remaining.\n",
      "0.042 (84%) simulated in 7s, estimated 1s remaining.\n",
      "0.043000000000000003 (86%) simulated in 8s, estimated 1s remaining.\n",
      "0.044 (87%) simulated in 8s, estimated 1s remaining.\n",
      "0.045 (89%) simulated in 8s, estimated 1s remaining.\n",
      "0.046 (92%) simulated in 9s, estimated 1s remaining.\n",
      "0.047 (94%) simulated in 9s, estimated 1s remaining.\n",
      "0.048 (96%) simulated in 9s, estimated < 1s remaining.\n",
      "0.049 (98%) simulated in 9s, estimated < 1s remaining.\n",
      "0.05 (100%) simulated in 10s\n",
      "\n",
      "Batch 9 of 10 completed (90.0%)\n",
      "Moving accuracy of SNN (top-1, top-1): 66.67%, 55.56%.\n",
      "Moving accuracy of ANN (top-1, top-1): 100.00%, 100.00%.\n",
      "\n",
      "Resetting simulator...\n",
      "\n",
      "Starting new simulation...\n",
      "\n",
      "Current accuracy of batch:\n",
      "Starting simulation at t=0. s for a duration of 50. ms\n",
      "0.002 (4%) simulated in < 1s, estimated 1s remaining.\n",
      "0.003 (6%) simulated in < 1s, estimated 4s remaining.\n",
      "0.004 (8%) simulated in < 1s, estimated 5s remaining.\n",
      "0.005 (10%) simulated in < 1s, estimated 6s remaining.\n",
      "0.006 (12%) simulated in < 1s, estimated 6s remaining.\n",
      "0.006999999999999999 (13%) simulated in 1s, estimated 6s remaining.\n",
      "0.008 (16%) simulated in 1s, estimated 6s remaining.\n",
      "0.009000000000000001 (18%) simulated in 1s, estimated 6s remaining.\n",
      "0.01 (20%) simulated in 1s, estimated 6s remaining.\n",
      "0.011 (21%) simulated in 1s, estimated 5s remaining.\n",
      "0.012 (24%) simulated in 1s, estimated 5s remaining.\n",
      "0.013000000000000001 (26%) simulated in 1s, estimated 5s remaining.\n",
      "0.013999999999999999 (27%) simulated in 1s, estimated 4s remaining.\n",
      "0.015 (30%) simulated in 1s, estimated 4s remaining.\n",
      "0.016 (32%) simulated in 1s, estimated 4s remaining.\n",
      "0.017 (34%) simulated in 1s, estimated 4s remaining.\n",
      "0.018000000000000002 (36%) simulated in 2s, estimated 4s remaining.\n",
      "0.019 (37%) simulated in 2s, estimated 3s remaining.\n",
      "0.02 (40%) simulated in 2s, estimated 3s remaining.\n",
      "0.021 (42%) simulated in 2s, estimated 3s remaining.\n",
      "0.022 (43%) simulated in 2s, estimated 3s remaining.\n",
      "0.023 (46%) simulated in 2s, estimated 3s remaining.\n",
      "0.024 (48%) simulated in 2s, estimated 3s remaining.\n",
      "0.025 (50%) simulated in 2s, estimated 3s remaining.\n",
      "0.026000000000000002 (52%) simulated in 2s, estimated 3s remaining.\n",
      "0.026999999999999996 (53%) simulated in 2s, estimated 2s remaining.\n",
      "0.027999999999999997 (55%) simulated in 2s, estimated 2s remaining.\n",
      "0.028999999999999998 (57%) simulated in 3s, estimated 2s remaining.\n",
      "0.03 (60%) simulated in 3s, estimated 2s remaining.\n",
      "0.031 (62%) simulated in 3s, estimated 2s remaining.\n",
      "0.032 (64%) simulated in 3s, estimated 2s remaining.\n",
      "0.033 (66%) simulated in 3s, estimated 2s remaining.\n",
      "0.034 (68%) simulated in 3s, estimated 2s remaining.\n",
      "0.035 (70%) simulated in 3s, estimated 2s remaining.\n",
      "0.036000000000000004 (72%) simulated in 3s, estimated 1s remaining.\n",
      "0.037 (73%) simulated in 3s, estimated 1s remaining.\n",
      "0.038 (75%) simulated in 4s, estimated 1s remaining.\n",
      "0.039 (77%) simulated in 4s, estimated 1s remaining.\n",
      "0.04 (80%) simulated in 4s, estimated 1s remaining.\n",
      "0.041 (82%) simulated in 5s, estimated 1s remaining.\n",
      "0.042 (84%) simulated in 5s, estimated 1s remaining.\n",
      "0.043000000000000003 (86%) simulated in 5s, estimated 1s remaining.\n",
      "0.044 (87%) simulated in 6s, estimated 1s remaining.\n",
      "0.045 (89%) simulated in 6s, estimated 1s remaining.\n",
      "0.046 (92%) simulated in 6s, estimated 1s remaining.\n",
      "0.047 (94%) simulated in 7s, estimated < 1s remaining.\n",
      "0.048 (96%) simulated in 7s, estimated < 1s remaining.\n",
      "0.049 (98%) simulated in 7s, estimated < 1s remaining.\n",
      "0.05 (100%) simulated in 8s\n",
      "\n",
      "Batch 10 of 10 completed (100.0%)\n",
      "Moving accuracy of SNN (top-1, top-1): 60.00%, 60.00%.\n",
      "Moving accuracy of ANN (top-1, top-1): 100.00%, 100.00%.\n",
      "\n",
      "Resetting simulator...\n",
      "Simulation finished.\n",
      "\n",
      "\n",
      "Total accuracy: 60.00% on 10 test samples.\n",
      "\n",
      "\n",
      "Accuracy averaged over classes: nan%\n"
     ]
    }
   ],
   "source": [
    "results2 = run(spiking_model, **testset)"
   ]
  },
  {
   "cell_type": "code",
   "execution_count": 26,
   "metadata": {},
   "outputs": [
    {
     "data": {
      "text/plain": [
       "'1'"
      ]
     },
     "execution_count": 26,
     "metadata": {},
     "output_type": "execute_result"
    }
   ],
   "source": [
    "config.get('stdp','stdp_on')"
   ]
  },
  {
   "cell_type": "code",
   "execution_count": 46,
   "metadata": {},
   "outputs": [
    {
     "data": {
      "text/plain": [
       "{'v_thresh': 1.0,\n",
       " 'v_reset': 0.0,\n",
       " 'tau_m': 1. * second,\n",
       " 'gmax': 1.0,\n",
       " 'taupre': 20. * msecond,\n",
       " 'taupost': 20. * msecond,\n",
       " 'dApre': 0.05,\n",
       " 'dApost': 0.06,\n",
       " 'stdp_on': 1}"
      ]
     },
     "execution_count": 46,
     "metadata": {},
     "output_type": "execute_result"
    }
   ],
   "source": [
    "spiking_model._cell_params"
   ]
  },
  {
   "cell_type": "code",
   "execution_count": 27,
   "metadata": {},
   "outputs": [],
   "source": [
    "w2 = collect_weights(spiking_model)"
   ]
  },
  {
   "cell_type": "code",
   "execution_count": 37,
   "metadata": {},
   "outputs": [],
   "source": [
    "import matplotlib.pyplot as plt"
   ]
  },
  {
   "cell_type": "code",
   "execution_count": 48,
   "metadata": {},
   "outputs": [
    {
     "data": {
      "text/plain": [
       "-2"
      ]
     },
     "execution_count": 48,
     "metadata": {},
     "output_type": "execute_result"
    }
   ],
   "source": [
    "np.clip(-4, -2, 2)"
   ]
  },
  {
   "cell_type": "code",
   "execution_count": 43,
   "metadata": {},
   "outputs": [
    {
     "data": {
      "text/plain": [
       "(array([ 35., 158., 199., 152., 117.,  91., 155., 276.,  92.,   5.]),\n",
       " array([-3.34146333, -2.74771869, -2.15397406, -1.56022942, -0.96648479,\n",
       "        -0.37274015,  0.22100449,  0.81474912,  1.40849376,  2.00223839,\n",
       "         2.59598303]),\n",
       " <a list of 10 Patch objects>)"
      ]
     },
     "execution_count": 43,
     "metadata": {},
     "output_type": "execute_result"
    },
    {
     "data": {
      "image/png": "[encoded data removed]",
      "text/plain": [
       "<Figure size 432x288 with 1 Axes>"
      ]
     },
     "metadata": {
      "needs_background": "light"
     },
     "output_type": "display_data"
    }
   ],
   "source": [
    "plt.hist(w1[4])"
   ]
  },
  {
   "cell_type": "code",
   "execution_count": 35,
   "metadata": {},
   "outputs": [
    {
     "data": {
      "text/plain": [
       "array([ 1.03838599, -2.17178917,  0.57492721, ...,  1.59083498,\n",
       "        1.56229997,  1.61078787])"
      ]
     },
     "execution_count": 35,
     "metadata": {},
     "output_type": "execute_result"
    }
   ],
   "source": [
    "w1[-1]"
   ]
  },
  {
   "cell_type": "code",
   "execution_count": 34,
   "metadata": {},
   "outputs": [
    {
     "data": {
      "text/plain": [
       "array([ 1.03838599, -2.17178917,  0.57492721, ...,  1.59083498,\n",
       "        1.56229997,  1.61078787])"
      ]
     },
     "execution_count": 34,
     "metadata": {},
     "output_type": "execute_result"
    }
   ],
   "source": [
    "w2[-1]"
   ]
  },
  {
   "cell_type": "code",
   "execution_count": 28,
   "metadata": {},
   "outputs": [
    {
     "data": {
      "text/plain": [
       "array([0., 0., 0., ..., 0., 0., 0.])"
      ]
     },
     "execution_count": 28,
     "metadata": {},
     "output_type": "execute_result"
    }
   ],
   "source": [
    "w1[-1] - w2[-1]"
   ]
  },
  {
   "cell_type": "code",
   "execution_count": 30,
   "metadata": {},
   "outputs": [
    {
     "data": {
      "text/plain": [
       "[0.0, 0.0, 0.0, 0.0, 0.0]"
      ]
     },
     "execution_count": 30,
     "metadata": {},
     "output_type": "execute_result"
    }
   ],
   "source": [
    "[np.sum(w1[i] - w2[i]) for i in range(5)]"
   ]
  },
  {
   "cell_type": "code",
   "execution_count": 45,
   "metadata": {},
   "outputs": [
    {
     "data": {
      "text/plain": [
       "<synapses_4.w: array([ 1.03838599, -2.17178917,  0.57492721, ...,  1.59083498,\n",
       "        1.56229997,  1.61078787])>"
      ]
     },
     "execution_count": 45,
     "metadata": {},
     "output_type": "execute_result"
    }
   ],
   "source": [
    "spiking_model.connections[-1].w"
   ]
  },
  {
   "cell_type": "code",
   "execution_count": null,
   "metadata": {},
   "outputs": [],
   "source": []
  },
  {
   "cell_type": "code",
   "execution_count": null,
   "metadata": {},
   "outputs": [],
   "source": []
  }
 ],
 "metadata": {
  "kernelspec": {
   "display_name": "Python 3",
   "language": "python",
   "name": "python3"
  },
  "language_info": {
   "codemirror_mode": {
    "name": "ipython",
    "version": 3
   },
   "file_extension": ".py",
   "mimetype": "text/x-python",
   "name": "python",
   "nbconvert_exporter": "python",
   "pygments_lexer": "ipython3",
   "version": "3.7.4"
  }
 },
 "nbformat": 4,
 "nbformat_minor": 2
}
