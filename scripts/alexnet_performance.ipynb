{
 "cells": [
  {
   "cell_type": "markdown",
   "metadata": {},
   "source": [
    "# Performance of AlexNet"
   ]
  },
  {
   "cell_type": "code",
   "execution_count": 6,
   "metadata": {
    "collapsed": true
   },
   "outputs": [],
   "source": [
    "% matplotlib inline\n",
    "\n",
    "import os\n",
    "import matplotlib.pyplot as plt\n",
    "\n",
    "from tests.other.googlenet.util import ExpResults"
   ]
  },
  {
   "cell_type": "markdown",
   "metadata": {},
   "source": [
    "## Parameters and definitions"
   ]
  },
  {
   "cell_type": "code",
   "execution_count": 7,
   "metadata": {},
   "outputs": [],
   "source": [
    "log_dir = '/home/rbodo/.snntoolbox/data/cifar10/alexnet/log'\n",
    "runlabel_analog = '01'\n",
    "path_analog = os.path.join(log_dir, 'gui', runlabel_analog)"
   ]
  },
  {
   "cell_type": "code",
   "execution_count": 11,
   "metadata": {},
   "outputs": [],
   "source": [
    "exp_analog = ExpResults(path_analog, 'top-1', '.')\n",
    "experiments = [exp_analog]"
   ]
  },
  {
   "cell_type": "markdown",
   "metadata": {},
   "source": [
    "## Plot error vs operations"
   ]
  },
  {
   "cell_type": "code",
   "execution_count": 12,
   "metadata": {},
   "outputs": [
    {
     "data": {
      "image/png": "[encoded data removed]",
      "text/plain": [
       "<matplotlib.figure.Figure at 0x7f764afd5198>"
      ]
     },
     "metadata": {},
     "output_type": "display_data"
    }
   ],
   "source": [
    "show_numbers = False\n",
    "\n",
    "exp = experiments[0]\n",
    "plt.errorbar(exp.mean_computations_t, exp.e1_mean, xerr=exp.std_computations_t,\n",
    "             yerr=exp.e1_confidence95, fmt=exp.marker, label='SNN '+exp.label, capsize=0, elinewidth=0.1, color=exp.color1)\n",
    "\n",
    "plt.errorbar(exp.operations_ann, exp.e1_ann, marker='x', label='ANN '+exp.label, color=exp.color1, markersize=15,\n",
    "             yerr=exp.e1_confidence95_ann, elinewidth=2, capthick=2, markeredgewidth=2, alpha=0.5)\n",
    "\n",
    "if show_numbers:\n",
    "    plt.annotate('({:.2f}, {:.2f})'.format(exp.operations_ann, exp.e1_ann), xy=(exp.operations_ann - 0.15, exp.e1_ann + 10), color=exp.color1)\n",
    "    plt.annotate('({:.2f}, {:.2f})'.format(exp.op1_optimal, exp.e1_optimal), xy=(exp.op1_optimal, exp.e1_optimal),\n",
    "                 xytext=(exp.op1_optimal, exp.e1_optimal + 10),\n",
    "                 arrowprops=dict(color=exp.color1, shrink=0.05, width=5, headwidth=10), color=exp.color1)\n",
    "\n",
    "plt.ylim(0, 100)\n",
    "plt.xlim(0, None)\n",
    "plt.ylabel('Error [%]')\n",
    "plt.xlabel('MOps')\n",
    "plt.legend(loc='upper right')\n",
    "plt.title('ANN vs SNN performance')\n",
    "plt.savefig(os.path.join(log_dir, 'err_vs_ops'), bbox_inches='tight')"
   ]
  },
  {
   "cell_type": "code",
   "execution_count": 13,
   "metadata": {},
   "outputs": [
    {
     "name": "stdout",
     "output_type": "stream",
     "text": [
      "SNN top-1: (190.78 MOps/frame, 17.06 %)\n",
      "SNN top-1: (62.96 MOps/frame, 24.41 %)\n",
      "ANN top-1: (58.09 MOps/frame, 17.94 %)\n"
     ]
    }
   ],
   "source": [
    "for exp in experiments:\n",
    "    print('SNN {}: ({:.2f} MOps/frame, {:.2f} %)'.format(exp.label, exp.op1_0, exp.e1_0))\n",
    "    print('SNN {}: ({:.2f} MOps/frame, {:.2f} %)'.format(exp.label, exp.op1_optimal, exp.e1_optimal))\n",
    "    print('ANN {}: ({:.2f} MOps/frame, {:.2f} %)'.format(exp.label, exp.operations_ann, exp.e1_ann))"
   ]
  },
  {
   "cell_type": "code",
   "execution_count": null,
   "metadata": {},
   "outputs": [],
   "source": []
  }
 ],
 "metadata": {
  "kernelspec": {
   "display_name": "Python 3",
   "language": "python",
   "name": "python3"
  },
  "language_info": {
   "codemirror_mode": {
    "name": "ipython",
    "version": 3
   },
   "file_extension": ".py",
   "mimetype": "text/x-python",
   "name": "python",
   "nbconvert_exporter": "python",
   "pygments_lexer": "ipython3",
   "version": "3.7.3"
  }
 },
 "nbformat": 4,
 "nbformat_minor": 1
}
