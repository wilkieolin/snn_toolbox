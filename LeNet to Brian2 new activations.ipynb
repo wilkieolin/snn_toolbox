{
 "cells": [
  {
   "cell_type": "code",
   "execution_count": 1,
   "metadata": {},
   "outputs": [],
   "source": [
    "from importlib import import_module"
   ]
  },
  {
   "cell_type": "code",
   "execution_count": 2,
   "metadata": {
    "scrolled": true
   },
   "outputs": [
    {
     "name": "stderr",
     "output_type": "stream",
     "text": [
      "Using TensorFlow backend.\n",
      "/home/wolin/.conda/envs/tf2/lib/python3.7/site-packages/tensorflow/python/framework/dtypes.py:516: FutureWarning: Passing (type, 1) or '1type' as a synonym of type is deprecated; in a future version of numpy, it will be understood as (type, (1,)) / '(1,)type'.\n",
      "  _np_qint8 = np.dtype([(\"qint8\", np.int8, 1)])\n",
      "/home/wolin/.conda/envs/tf2/lib/python3.7/site-packages/tensorflow/python/framework/dtypes.py:517: FutureWarning: Passing (type, 1) or '1type' as a synonym of type is deprecated; in a future version of numpy, it will be understood as (type, (1,)) / '(1,)type'.\n",
      "  _np_quint8 = np.dtype([(\"quint8\", np.uint8, 1)])\n",
      "/home/wolin/.conda/envs/tf2/lib/python3.7/site-packages/tensorflow/python/framework/dtypes.py:518: FutureWarning: Passing (type, 1) or '1type' as a synonym of type is deprecated; in a future version of numpy, it will be understood as (type, (1,)) / '(1,)type'.\n",
      "  _np_qint16 = np.dtype([(\"qint16\", np.int16, 1)])\n",
      "/home/wolin/.conda/envs/tf2/lib/python3.7/site-packages/tensorflow/python/framework/dtypes.py:519: FutureWarning: Passing (type, 1) or '1type' as a synonym of type is deprecated; in a future version of numpy, it will be understood as (type, (1,)) / '(1,)type'.\n",
      "  _np_quint16 = np.dtype([(\"quint16\", np.uint16, 1)])\n",
      "/home/wolin/.conda/envs/tf2/lib/python3.7/site-packages/tensorflow/python/framework/dtypes.py:520: FutureWarning: Passing (type, 1) or '1type' as a synonym of type is deprecated; in a future version of numpy, it will be understood as (type, (1,)) / '(1,)type'.\n",
      "  _np_qint32 = np.dtype([(\"qint32\", np.int32, 1)])\n",
      "/home/wolin/.conda/envs/tf2/lib/python3.7/site-packages/tensorflow/python/framework/dtypes.py:525: FutureWarning: Passing (type, 1) or '1type' as a synonym of type is deprecated; in a future version of numpy, it will be understood as (type, (1,)) / '(1,)type'.\n",
      "  np_resource = np.dtype([(\"resource\", np.ubyte, 1)])\n",
      "/home/wolin/.conda/envs/tf2/lib/python3.7/site-packages/tensorboard/compat/tensorflow_stub/dtypes.py:541: FutureWarning: Passing (type, 1) or '1type' as a synonym of type is deprecated; in a future version of numpy, it will be understood as (type, (1,)) / '(1,)type'.\n",
      "  _np_qint8 = np.dtype([(\"qint8\", np.int8, 1)])\n",
      "/home/wolin/.conda/envs/tf2/lib/python3.7/site-packages/tensorboard/compat/tensorflow_stub/dtypes.py:542: FutureWarning: Passing (type, 1) or '1type' as a synonym of type is deprecated; in a future version of numpy, it will be understood as (type, (1,)) / '(1,)type'.\n",
      "  _np_quint8 = np.dtype([(\"quint8\", np.uint8, 1)])\n",
      "/home/wolin/.conda/envs/tf2/lib/python3.7/site-packages/tensorboard/compat/tensorflow_stub/dtypes.py:543: FutureWarning: Passing (type, 1) or '1type' as a synonym of type is deprecated; in a future version of numpy, it will be understood as (type, (1,)) / '(1,)type'.\n",
      "  _np_qint16 = np.dtype([(\"qint16\", np.int16, 1)])\n",
      "/home/wolin/.conda/envs/tf2/lib/python3.7/site-packages/tensorboard/compat/tensorflow_stub/dtypes.py:544: FutureWarning: Passing (type, 1) or '1type' as a synonym of type is deprecated; in a future version of numpy, it will be understood as (type, (1,)) / '(1,)type'.\n",
      "  _np_quint16 = np.dtype([(\"quint16\", np.uint16, 1)])\n",
      "/home/wolin/.conda/envs/tf2/lib/python3.7/site-packages/tensorboard/compat/tensorflow_stub/dtypes.py:545: FutureWarning: Passing (type, 1) or '1type' as a synonym of type is deprecated; in a future version of numpy, it will be understood as (type, (1,)) / '(1,)type'.\n",
      "  _np_qint32 = np.dtype([(\"qint32\", np.int32, 1)])\n",
      "/home/wolin/.conda/envs/tf2/lib/python3.7/site-packages/tensorboard/compat/tensorflow_stub/dtypes.py:550: FutureWarning: Passing (type, 1) or '1type' as a synonym of type is deprecated; in a future version of numpy, it will be understood as (type, (1,)) / '(1,)type'.\n",
      "  np_resource = np.dtype([(\"resource\", np.ubyte, 1)])\n"
     ]
    }
   ],
   "source": [
    "from snntoolbox.parsing.utils import *"
   ]
  },
  {
   "cell_type": "code",
   "execution_count": 3,
   "metadata": {},
   "outputs": [],
   "source": [
    "from snntoolbox.parsing.model_libs.keras_input_lib import *"
   ]
  },
  {
   "cell_type": "code",
   "execution_count": 4,
   "metadata": {},
   "outputs": [],
   "source": [
    "from snntoolbox.bin.utils import update_setup"
   ]
  },
  {
   "cell_type": "code",
   "execution_count": 5,
   "metadata": {},
   "outputs": [],
   "source": [
    "from os import *"
   ]
  },
  {
   "cell_type": "code",
   "execution_count": 6,
   "metadata": {},
   "outputs": [],
   "source": [
    "model_path = \"/home/wolin/snn_toolbox/examples/models/lenet5/keras/\""
   ]
  },
  {
   "cell_type": "code",
   "execution_count": 7,
   "metadata": {
    "scrolled": true
   },
   "outputs": [
    {
     "name": "stdout",
     "output_type": "stream",
     "text": [
      "WARNING:tensorflow:From /home/wolin/snn_toolbox/snntoolbox/bin/utils.py:285: The name tf.ConfigProto is deprecated. Please use tf.compat.v1.ConfigProto instead.\n",
      "\n",
      "WARNING:tensorflow:From /home/wolin/snn_toolbox/snntoolbox/bin/utils.py:287: The name tf.Session is deprecated. Please use tf.compat.v1.Session instead.\n",
      "\n",
      "WARNING:tensorflow:From /home/wolin/.conda/envs/tf2/lib/python3.7/site-packages/keras/backend/tensorflow_backend.py:68: The name tf.get_default_graph is deprecated. Please use tf.compat.v1.get_default_graph instead.\n",
      "\n",
      "WARNING:tensorflow:From /home/wolin/.conda/envs/tf2/lib/python3.7/site-packages/keras/backend/tensorflow_backend.py:508: The name tf.placeholder is deprecated. Please use tf.compat.v1.placeholder instead.\n",
      "\n",
      "WARNING:tensorflow:From /home/wolin/.conda/envs/tf2/lib/python3.7/site-packages/keras/backend/tensorflow_backend.py:3837: The name tf.random_uniform is deprecated. Please use tf.random.uniform instead.\n",
      "\n",
      "WARNING:tensorflow:From /home/wolin/.conda/envs/tf2/lib/python3.7/site-packages/keras/backend/tensorflow_backend.py:3661: The name tf.nn.max_pool is deprecated. Please use tf.nn.max_pool2d instead.\n",
      "\n",
      "WARNING:tensorflow:From /home/wolin/.conda/envs/tf2/lib/python3.7/site-packages/keras/backend/tensorflow_backend.py:3144: calling dropout (from tensorflow.python.ops.nn_ops) with keep_prob is deprecated and will be removed in a future version.\n",
      "Instructions for updating:\n",
      "Please use `rate` instead of `keep_prob`. Rate should be set to `rate = 1 - keep_prob`.\n",
      "WARNING:tensorflow:From /home/wolin/.conda/envs/tf2/lib/python3.7/site-packages/keras/optimizers.py:757: The name tf.train.Optimizer is deprecated. Please use tf.compat.v1.train.Optimizer instead.\n",
      "\n",
      "SNN toolbox Warning: Currently, turning off Poisson input is\n",
      "only possible in INI simulator. Falling back on Poisson input.\n"
     ]
    },
    {
     "name": "stderr",
     "output_type": "stream",
     "text": [
      "/home/wolin/.conda/envs/tf2/lib/python3.7/site-packages/keras/utils/conv_utils.py:93: FutureWarning: Using a non-tuple sequence for multidimensional indexing is deprecated; use `arr[tuple(seq)]` instead of `arr[seq]`. In the future this will be interpreted as an array index, `arr[np.array(seq)]`, which will result either in an error or a different result.\n",
      "  return np.copy(kernel[slices])\n"
     ]
    }
   ],
   "source": [
    "config = update_setup(model_path + \"config\")"
   ]
  },
  {
   "cell_type": "markdown",
   "metadata": {},
   "source": [
    "Load the network from file and parse it"
   ]
  },
  {
   "cell_type": "code",
   "execution_count": 8,
   "metadata": {},
   "outputs": [],
   "source": [
    "model = \"98.96\""
   ]
  },
  {
   "cell_type": "code",
   "execution_count": 9,
   "metadata": {},
   "outputs": [
    {
     "data": {
      "text/plain": [
       "<configparser.ConfigParser at 0x7f620bc47c90>"
      ]
     },
     "execution_count": 9,
     "metadata": {},
     "output_type": "execute_result"
    }
   ],
   "source": [
    "config"
   ]
  },
  {
   "cell_type": "code",
   "execution_count": 10,
   "metadata": {},
   "outputs": [
    {
     "name": "stderr",
     "output_type": "stream",
     "text": [
      "/home/wolin/.conda/envs/tf2/lib/python3.7/site-packages/keras/utils/conv_utils.py:93: FutureWarning: Using a non-tuple sequence for multidimensional indexing is deprecated; use `arr[tuple(seq)]` instead of `arr[seq]`. In the future this will be interpreted as an array index, `arr[np.array(seq)]`, which will result either in an error or a different result.\n",
      "  return np.copy(kernel[slices])\n"
     ]
    }
   ],
   "source": [
    "n = load(model_path, model)"
   ]
  },
  {
   "cell_type": "code",
   "execution_count": 11,
   "metadata": {},
   "outputs": [],
   "source": [
    "mp = ModelParser(n['model'], config)"
   ]
  },
  {
   "cell_type": "code",
   "execution_count": 12,
   "metadata": {},
   "outputs": [
    {
     "name": "stdout",
     "output_type": "stream",
     "text": [
      "Parsing layer Conv2D.\n",
      "Using activation relu.\n",
      "Parsing layer MaxPooling2D.\n",
      "Parsing layer Conv2D.\n",
      "Using activation relu.\n",
      "Parsing layer MaxPooling2D.\n",
      "Skipping layer Dropout.\n",
      "Parsing layer Conv2D.\n",
      "Using activation relu.\n",
      "Parsing layer Flatten.\n",
      "Parsing layer Dense.\n",
      "Using activation relu.\n",
      "Parsing layer Dense.\n",
      "Using activation softmax.\n",
      "\n"
     ]
    }
   ],
   "source": [
    "mp.parse()"
   ]
  },
  {
   "cell_type": "code",
   "execution_count": 13,
   "metadata": {},
   "outputs": [
    {
     "name": "stdout",
     "output_type": "stream",
     "text": [
      "Building parsed model...\n",
      "\n",
      "Compiling parsed model...\n",
      "\n"
     ]
    }
   ],
   "source": [
    "pm = mp.build_parsed_model()"
   ]
  },
  {
   "cell_type": "code",
   "execution_count": 14,
   "metadata": {},
   "outputs": [
    {
     "data": {
      "text/plain": [
       "<keras.engine.training.Model at 0x7f61d070ed10>"
      ]
     },
     "execution_count": 14,
     "metadata": {},
     "output_type": "execute_result"
    }
   ],
   "source": [
    "pm"
   ]
  },
  {
   "cell_type": "code",
   "execution_count": 15,
   "metadata": {},
   "outputs": [],
   "source": [
    "from snntoolbox.conversion.utils import normalize_parameters"
   ]
  },
  {
   "cell_type": "code",
   "execution_count": 16,
   "metadata": {},
   "outputs": [],
   "source": [
    "from snntoolbox.datasets.utils import get_dataset"
   ]
  },
  {
   "cell_type": "markdown",
   "metadata": {},
   "source": [
    "Load the data and use it to normalize the activations"
   ]
  },
  {
   "cell_type": "code",
   "execution_count": 18,
   "metadata": {},
   "outputs": [
    {
     "name": "stdout",
     "output_type": "stream",
     "text": [
      "Loading data set from '.npz' files in /home/wolin/snn_toolbox/examples/datasets/mnist.\n",
      "\n"
     ]
    }
   ],
   "source": [
    "normset, testset = get_dataset(config)"
   ]
  },
  {
   "cell_type": "code",
   "execution_count": 45,
   "metadata": {},
   "outputs": [
    {
     "name": "stdout",
     "output_type": "stream",
     "text": [
      "2.1.6\n"
     ]
    }
   ],
   "source": [
    "print(keras.__version__)"
   ]
  },
  {
   "cell_type": "code",
   "execution_count": 38,
   "metadata": {},
   "outputs": [
    {
     "data": {
      "text/plain": [
       "(10000, 1, 28, 28)"
      ]
     },
     "execution_count": 38,
     "metadata": {},
     "output_type": "execute_result"
    }
   ],
   "source": [
    "normset['x_norm'].shape"
   ]
  },
  {
   "cell_type": "code",
   "execution_count": 38,
   "metadata": {},
   "outputs": [
    {
     "data": {
      "text/plain": [
       "(10000, 1, 28, 28)"
      ]
     },
     "execution_count": 38,
     "metadata": {},
     "output_type": "execute_result"
    }
   ],
   "source": [
    "normset['x_norm'].shape"
   ]
  },
  {
   "cell_type": "code",
   "execution_count": 19,
   "metadata": {},
   "outputs": [
    {
     "name": "stdout",
     "output_type": "stream",
     "text": [
      "Normalizing parameters...\n",
      "Using 10000 samples for normalization.\n",
      "INFO: Need ['0.14', '0.04', '0.08', '0.00', '0.00'] GB for layer activations.\n",
      "May have to reduce size of data set used for normalization.\n",
      "Loading activations stored during a previous run.\n",
      "Scale factor: 1.03.\n",
      "Loading activations stored during a previous run.\n",
      "Scale factor: 1.48.\n",
      "Loading activations stored during a previous run.\n",
      "Scale factor: 2.44.\n",
      "Loading activations stored during a previous run.\n",
      "Scale factor: 10.97.\n",
      "Loading activations stored during a previous run.\n",
      "Scale factor: 1.00.\n",
      "Using scale factor 1.00 for softmax layer.\n",
      "Plotting distributions of weights and activations before and after normalizing...\n",
      "Loading activations stored during a previous run.\n",
      "Loading activations stored during a previous run.\n",
      "Loading activations stored during a previous run.\n",
      "Loading activations stored during a previous run.\n",
      "Loading activations stored during a previous run.\n",
      "\n"
     ]
    }
   ],
   "source": [
    "normalize_parameters(pm, config, **normset)"
   ]
  },
  {
   "cell_type": "code",
   "execution_count": 20,
   "metadata": {},
   "outputs": [
    {
     "data": {
      "text/plain": [
       "<keras.engine.training.Model at 0x7f61d070ed10>"
      ]
     },
     "execution_count": 20,
     "metadata": {},
     "output_type": "execute_result"
    }
   ],
   "source": [
    "pm"
   ]
  },
  {
   "cell_type": "code",
   "execution_count": 21,
   "metadata": {},
   "outputs": [],
   "source": [
    "from snntoolbox.simulation.utils import *"
   ]
  },
  {
   "cell_type": "code",
   "execution_count": 22,
   "metadata": {},
   "outputs": [],
   "source": [
    "from snntoolbox.simulation.target_simulators.brian2_target_sim import *"
   ]
  },
  {
   "cell_type": "code",
   "execution_count": 23,
   "metadata": {},
   "outputs": [],
   "source": [
    "def import_target_sim(config):\n",
    "\n",
    "    sim_str = config.get('simulation', 'simulator')\n",
    "    code_str = '_' + config.get('conversion', 'spike_code') \\\n",
    "        if sim_str == 'INI' else ''\n",
    "\n",
    "    return import_module('snntoolbox.simulation.target_simulators.'\n",
    "                         + sim_str + code_str + '_target_sim')"
   ]
  },
  {
   "cell_type": "code",
   "execution_count": 24,
   "metadata": {},
   "outputs": [],
   "source": [
    "target_sim = import_target_sim(config)"
   ]
  },
  {
   "cell_type": "code",
   "execution_count": 25,
   "metadata": {},
   "outputs": [
    {
     "data": {
      "text/plain": [
       "<module 'snntoolbox.simulation.target_simulators.brian2_target_sim' from '/home/wolin/snn_toolbox/snntoolbox/simulation/target_simulators/brian2_target_sim.py'>"
      ]
     },
     "execution_count": 25,
     "metadata": {},
     "output_type": "execute_result"
    }
   ],
   "source": [
    "target_sim"
   ]
  },
  {
   "cell_type": "code",
   "execution_count": 26,
   "metadata": {},
   "outputs": [
    {
     "name": "stdout",
     "output_type": "stream",
     "text": [
      "Initializing brian2 simulator...\n",
      "\n"
     ]
    }
   ],
   "source": [
    "spiking_model = target_sim.SNN(config, None)"
   ]
  },
  {
   "cell_type": "code",
   "execution_count": 27,
   "metadata": {
    "scrolled": false
   },
   "outputs": [
    {
     "name": "stderr",
     "output_type": "stream",
     "text": [
      "WARNING    /home/wolin/.conda/envs/tf2/lib/python3.7/site-packages/keras/utils/conv_utils.py:93: FutureWarning: Using a non-tuple sequence for multidimensional indexing is deprecated; use `arr[tuple(seq)]` instead of `arr[seq]`. In the future this will be interpreted as an array index, `arr[np.array(seq)]`, which will result either in an error or a different result.\n",
      "  return np.copy(kernel[slices])\n",
      " [py.warnings]\n"
     ]
    },
    {
     "name": "stdout",
     "output_type": "stream",
     "text": [
      "Building spiking model...\n",
      "Building layer: 00Conv2D_6x24x24\n",
      "......"
     ]
    },
    {
     "name": "stderr",
     "output_type": "stream",
     "text": [
      "WARNING    /home/wolin/snn_toolbox/snntoolbox/simulation/target_simulators/brian2_target_sim.py:347: RuntimeWarning: Biases not implemented.\n",
      "  warnings.warn(\"Biases not implemented.\", RuntimeWarning)\n",
      " [py.warnings]\n"
     ]
    },
    {
     "name": "stdout",
     "output_type": "stream",
     "text": [
      "\n",
      "Connecting layer...\n"
     ]
    },
    {
     "name": "stderr",
     "output_type": "stream",
     "text": [
      "WARNING    /home/wolin/snn_toolbox/snntoolbox/simulation/utils.py:1241: RuntimeWarning: Layer type 'MaxPooling' not supported yet. Falling back on 'AveragePooling'.\n",
      "  \"Falling back on 'AveragePooling'.\", RuntimeWarning)\n",
      " [py.warnings]\n"
     ]
    },
    {
     "name": "stdout",
     "output_type": "stream",
     "text": [
      "Building layer: 01MaxPooling2D_6x12x12\n",
      "......\n",
      "Building layer: 02Conv2D_16x8x8\n",
      "................\n",
      "Connecting layer...\n",
      "Building layer: 03MaxPooling2D_16x4x4\n",
      "................\n",
      "Building layer: 04Conv2D_120x4x4\n",
      "........................................................................................................................\n",
      "Connecting layer...\n",
      "Building layer: 05Flatten_1920\n",
      "Building layer: 06Dense_84\n",
      "Lenght of weights:161280\n",
      "Building layer: 07Dense_10\n",
      "Lenght of weights:840\n",
      "Compiling spiking model...\n",
      "\n",
      "Detected layer with biases: 00Conv2D_6x24x24\n",
      "Detected layer with biases: 02Conv2D_16x8x8\n",
      "Detected layer with biases: 04Conv2D_120x4x4\n",
      "Detected layer with biases: 06Dense_84\n",
      "Detected layer with biases: 07Dense_10\n",
      "Number of operations of ANN: 2346734\n",
      "Number of neurons: 7614\n",
      "Number of synapses: 1397800\n",
      "\n"
     ]
    }
   ],
   "source": [
    "spiking_model.build(pm)"
   ]
  },
  {
   "cell_type": "code",
   "execution_count": 28,
   "metadata": {},
   "outputs": [],
   "source": [
    "def run(snn, **test_set):\n",
    "    return snn.run(**test_set)"
   ]
  },
  {
   "cell_type": "code",
   "execution_count": 29,
   "metadata": {},
   "outputs": [
    {
     "data": {
      "text/plain": [
       "100"
      ]
     },
     "execution_count": 29,
     "metadata": {},
     "output_type": "execute_result"
    }
   ],
   "source": [
    "spiking_model._duration"
   ]
  },
  {
   "cell_type": "code",
   "execution_count": 30,
   "metadata": {},
   "outputs": [
    {
     "name": "stdout",
     "output_type": "stream",
     "text": [
      "Saving weights ...\n",
      "Store weights of layer 00Conv2D_6x24x24 to file /home/wolin/snn_toolbox/examples/models/lenet5/keras/98.96_brian2/brian2-model/00Conv2D_6x24x24.npz\n",
      "Store weights of layer 01MaxPooling2D_6x12x12 to file /home/wolin/snn_toolbox/examples/models/lenet5/keras/98.96_brian2/brian2-model/01MaxPooling2D_6x12x12.npz\n",
      "Store weights of layer 02Conv2D_16x8x8 to file /home/wolin/snn_toolbox/examples/models/lenet5/keras/98.96_brian2/brian2-model/02Conv2D_16x8x8.npz\n",
      "Store weights of layer 03MaxPooling2D_16x4x4 to file /home/wolin/snn_toolbox/examples/models/lenet5/keras/98.96_brian2/brian2-model/03MaxPooling2D_16x4x4.npz\n",
      "Store weights of layer 04Conv2D_120x4x4 to file /home/wolin/snn_toolbox/examples/models/lenet5/keras/98.96_brian2/brian2-model/04Conv2D_120x4x4.npz\n",
      "Store weights of layer 06Dense_84 to file /home/wolin/snn_toolbox/examples/models/lenet5/keras/98.96_brian2/brian2-model/06Dense_84.npz\n",
      "Store weights of layer 07Dense_10 to file /home/wolin/snn_toolbox/examples/models/lenet5/keras/98.96_brian2/brian2-model/07Dense_10.npz\n"
     ]
    }
   ],
   "source": [
    "spiking_model.save(model_path, model)"
   ]
  },
  {
   "cell_type": "code",
   "execution_count": 31,
   "metadata": {},
   "outputs": [
    {
     "data": {
      "text/plain": [
       "<configparser.ConfigParser at 0x7f620bc47c90>"
      ]
     },
     "execution_count": 31,
     "metadata": {},
     "output_type": "execute_result"
    }
   ],
   "source": [
    "config"
   ]
  },
  {
   "cell_type": "code",
   "execution_count": 32,
   "metadata": {
    "scrolled": false
   },
   "outputs": [
    {
     "name": "stdout",
     "output_type": "stream",
     "text": [
      "\n",
      "Starting new simulation...\n",
      "\n",
      "Current accuracy of batch:\n",
      "Starting simulation at t=0. s for a duration of 100. ms\n",
      "0.009000000000000001 (9%) simulated in < 1s, estimated < 1s remaining.\n",
      "0.021 (21%) simulated in < 1s, estimated < 1s remaining.\n",
      "0.033 (33%) simulated in < 1s, estimated < 1s remaining.\n",
      "0.047 (47%) simulated in < 1s, estimated < 1s remaining.\n",
      "0.06 (60%) simulated in < 1s, estimated < 1s remaining.\n",
      "0.07100000000000001 (71%) simulated in < 1s, estimated < 1s remaining.\n",
      "0.084 (84%) simulated in < 1s, estimated < 1s remaining.\n",
      "0.098 (98%) simulated in < 1s, estimated < 1s remaining.\n",
      "0.1 (100%) simulated in < 1s\n",
      "\n",
      "Batch 1 of 10 completed (10.0%)\n",
      "Moving accuracy of SNN (top-1, top-1): 100.00%, 100.00%.\n",
      "Moving accuracy of ANN (top-1, top-1): 100.00%, 100.00%.\n",
      "\n",
      "Calculating activations...\n",
      "\n",
      "Average spike rate: 0.019532031436056203 spikes per simulation time step.\n",
      "Saving plots of one sample to /home/wolin/snn_toolbox/examples/models/lenet5/keras/log/gui/test...\n",
      "\n",
      "Plotting layer 00Conv2D_6x24x24\n",
      "Plotting layer 01MaxPooling2D_6x12x12\n",
      "Plotting layer 02Conv2D_16x8x8\n",
      "Plotting layer 03MaxPooling2D_16x4x4\n",
      "Plotting layer 04Conv2D_120x4x4\n",
      "Plotting layer 06Dense_84\n",
      "Plotting layer 07Dense_10\n",
      "Plotting batch run statistics...\n",
      "Done.\n",
      "\n",
      "Resetting simulator...\n",
      "\n",
      "Starting new simulation...\n",
      "\n",
      "Current accuracy of batch:\n",
      "Starting simulation at t=0. s for a duration of 100. ms\n",
      "0.013000000000000001 (13%) simulated in < 1s, estimated < 1s remaining.\n",
      "0.027999999999999997 (27%) simulated in < 1s, estimated < 1s remaining.\n",
      "0.043000000000000003 (43%) simulated in < 1s, estimated < 1s remaining.\n",
      "0.056999999999999995 (56%) simulated in < 1s, estimated < 1s remaining.\n",
      "0.073 (72%) simulated in < 1s, estimated < 1s remaining.\n",
      "0.088 (87%) simulated in < 1s, estimated < 1s remaining.\n",
      "0.1 (100%) simulated in < 1s\n",
      "\n",
      "Batch 2 of 10 completed (20.0%)\n",
      "Moving accuracy of SNN (top-1, top-1): 100.00%, 100.00%.\n",
      "Moving accuracy of ANN (top-1, top-1): 100.00%, 100.00%.\n",
      "\n",
      "Calculating activations...\n",
      "\n",
      "Average spike rate: 0.027569659442724458 spikes per simulation time step.\n",
      "Saving plots of one sample to /home/wolin/snn_toolbox/examples/models/lenet5/keras/log/gui/test...\n",
      "\n",
      "Plotting layer 00Conv2D_6x24x24\n",
      "Plotting layer 01MaxPooling2D_6x12x12\n",
      "Plotting layer 02Conv2D_16x8x8\n",
      "Plotting layer 03MaxPooling2D_16x4x4\n",
      "Plotting layer 04Conv2D_120x4x4\n",
      "Plotting layer 06Dense_84\n",
      "Plotting layer 07Dense_10\n",
      "Plotting batch run statistics...\n",
      "Done.\n",
      "\n",
      "Resetting simulator...\n",
      "\n",
      "Starting new simulation...\n",
      "\n",
      "Current accuracy of batch:\n",
      "Starting simulation at t=0. s for a duration of 100. ms\n",
      "0.013999999999999999 (13%) simulated in < 1s, estimated < 1s remaining.\n",
      "0.03 (30%) simulated in < 1s, estimated < 1s remaining.\n",
      "0.047 (47%) simulated in < 1s, estimated < 1s remaining.\n",
      "0.063 (63%) simulated in < 1s, estimated < 1s remaining.\n",
      "0.08 (80%) simulated in < 1s, estimated < 1s remaining.\n",
      "0.096 (96%) simulated in < 1s, estimated < 1s remaining.\n",
      "0.1 (100%) simulated in < 1s\n",
      "\n",
      "Batch 3 of 10 completed (30.0%)\n",
      "Moving accuracy of SNN (top-1, top-1): 100.00%, 100.00%.\n",
      "Moving accuracy of ANN (top-1, top-1): 100.00%, 100.00%.\n",
      "\n",
      "Calculating activations...\n",
      "\n",
      "Average spike rate: 0.01229340319123601 spikes per simulation time step.\n",
      "Saving plots of one sample to /home/wolin/snn_toolbox/examples/models/lenet5/keras/log/gui/test...\n",
      "\n",
      "Plotting layer 00Conv2D_6x24x24\n",
      "Plotting layer 01MaxPooling2D_6x12x12\n",
      "Plotting layer 02Conv2D_16x8x8\n",
      "Plotting layer 03MaxPooling2D_16x4x4\n",
      "Plotting layer 04Conv2D_120x4x4\n",
      "Plotting layer 06Dense_84\n",
      "Plotting layer 07Dense_10\n",
      "Plotting batch run statistics...\n",
      "Done.\n",
      "\n",
      "Resetting simulator...\n",
      "\n",
      "Starting new simulation...\n",
      "\n",
      "Current accuracy of batch:\n",
      "Starting simulation at t=0. s for a duration of 100. ms\n",
      "0.012 (12%) simulated in < 1s, estimated < 1s remaining.\n",
      "0.026000000000000002 (26%) simulated in < 1s, estimated < 1s remaining.\n",
      "0.041 (41%) simulated in < 1s, estimated < 1s remaining.\n",
      "0.056999999999999995 (56%) simulated in < 1s, estimated < 1s remaining.\n",
      "0.07200000000000001 (72%) simulated in < 1s, estimated < 1s remaining.\n",
      "0.08700000000000001 (87%) simulated in < 1s, estimated < 1s remaining.\n",
      "0.1 (100%) simulated in < 1s\n",
      "\n",
      "Batch 4 of 10 completed (40.0%)\n",
      "Moving accuracy of SNN (top-1, top-1): 100.00%, 100.00%.\n",
      "Moving accuracy of ANN (top-1, top-1): 100.00%, 100.00%.\n",
      "\n",
      "Calculating activations...\n",
      "\n",
      "Average spike rate: 0.027401762324362942 spikes per simulation time step.\n",
      "Saving plots of one sample to /home/wolin/snn_toolbox/examples/models/lenet5/keras/log/gui/test...\n",
      "\n",
      "Plotting layer 00Conv2D_6x24x24\n",
      "Plotting layer 01MaxPooling2D_6x12x12\n",
      "Plotting layer 02Conv2D_16x8x8\n",
      "Plotting layer 03MaxPooling2D_16x4x4\n",
      "Plotting layer 04Conv2D_120x4x4\n",
      "Plotting layer 06Dense_84\n",
      "Plotting layer 07Dense_10\n",
      "Plotting batch run statistics...\n",
      "Done.\n",
      "\n",
      "Resetting simulator...\n",
      "\n",
      "Starting new simulation...\n",
      "\n",
      "Current accuracy of batch:\n",
      "Starting simulation at t=0. s for a duration of 100. ms\n",
      "0.013000000000000001 (13%) simulated in < 1s, estimated < 1s remaining.\n",
      "0.028999999999999998 (28%) simulated in < 1s, estimated < 1s remaining.\n",
      "0.043000000000000003 (43%) simulated in < 1s, estimated < 1s remaining.\n",
      "0.059 (59%) simulated in < 1s, estimated < 1s remaining.\n",
      "0.074 (73%) simulated in < 1s, estimated < 1s remaining.\n",
      "0.089 (88%) simulated in < 1s, estimated < 1s remaining.\n",
      "0.1 (100%) simulated in < 1s\n",
      "\n",
      "Batch 5 of 10 completed (50.0%)\n",
      "Moving accuracy of SNN (top-1, top-1): 100.00%, 100.00%.\n",
      "Moving accuracy of ANN (top-1, top-1): 100.00%, 100.00%.\n",
      "\n",
      "Calculating activations...\n",
      "\n",
      "Average spike rate: 0.019928554417718503 spikes per simulation time step.\n",
      "Saving plots of one sample to /home/wolin/snn_toolbox/examples/models/lenet5/keras/log/gui/test...\n",
      "\n",
      "Plotting layer 00Conv2D_6x24x24\n",
      "Plotting layer 01MaxPooling2D_6x12x12\n",
      "Plotting layer 02Conv2D_16x8x8\n",
      "Plotting layer 03MaxPooling2D_16x4x4\n",
      "Plotting layer 04Conv2D_120x4x4\n",
      "Plotting layer 06Dense_84\n",
      "Plotting layer 07Dense_10\n",
      "Plotting batch run statistics...\n",
      "Done.\n",
      "\n",
      "Resetting simulator...\n",
      "\n",
      "Starting new simulation...\n",
      "\n",
      "Current accuracy of batch:\n",
      "Starting simulation at t=0. s for a duration of 100. ms\n",
      "0.013000000000000001 (13%) simulated in < 1s, estimated < 1s remaining.\n",
      "0.028999999999999998 (28%) simulated in < 1s, estimated < 1s remaining.\n",
      "0.046 (46%) simulated in < 1s, estimated < 1s remaining.\n",
      "0.062 (62%) simulated in < 1s, estimated < 1s remaining.\n",
      "0.079 (78%) simulated in < 1s, estimated < 1s remaining.\n",
      "0.095 (95%) simulated in < 1s, estimated < 1s remaining.\n",
      "0.1 (100%) simulated in < 1s\n",
      "\n",
      "Batch 6 of 10 completed (60.0%)\n",
      "Moving accuracy of SNN (top-1, top-1): 100.00%, 100.00%.\n",
      "Moving accuracy of ANN (top-1, top-1): 100.00%, 100.00%.\n",
      "\n",
      "Calculating activations...\n",
      "\n",
      "Average spike rate: 0.014102167182662538 spikes per simulation time step.\n",
      "Saving plots of one sample to /home/wolin/snn_toolbox/examples/models/lenet5/keras/log/gui/test...\n",
      "\n",
      "Plotting layer 00Conv2D_6x24x24\n",
      "Plotting layer 01MaxPooling2D_6x12x12\n",
      "Plotting layer 02Conv2D_16x8x8\n",
      "Plotting layer 03MaxPooling2D_16x4x4\n",
      "Plotting layer 04Conv2D_120x4x4\n",
      "Plotting layer 06Dense_84\n",
      "Plotting layer 07Dense_10\n",
      "Plotting batch run statistics...\n",
      "Done.\n",
      "\n",
      "Resetting simulator...\n",
      "\n",
      "Starting new simulation...\n",
      "\n",
      "Current accuracy of batch:\n",
      "Starting simulation at t=0. s for a duration of 100. ms\n",
      "0.013000000000000001 (13%) simulated in < 1s, estimated < 1s remaining.\n",
      "0.027999999999999997 (27%) simulated in < 1s, estimated < 1s remaining.\n",
      "0.043000000000000003 (43%) simulated in < 1s, estimated < 1s remaining.\n",
      "0.059 (59%) simulated in < 1s, estimated < 1s remaining.\n",
      "0.074 (73%) simulated in < 1s, estimated < 1s remaining.\n",
      "0.09 (89%) simulated in < 1s, estimated < 1s remaining.\n",
      "0.1 (100%) simulated in < 1s\n",
      "\n",
      "Batch 7 of 10 completed (70.0%)\n",
      "Moving accuracy of SNN (top-1, top-1): 100.00%, 100.00%.\n",
      "Moving accuracy of ANN (top-1, top-1): 100.00%, 100.00%.\n",
      "\n",
      "Calculating activations...\n",
      "\n",
      "Average spike rate: 0.022319599904739224 spikes per simulation time step.\n",
      "Saving plots of one sample to /home/wolin/snn_toolbox/examples/models/lenet5/keras/log/gui/test...\n",
      "\n",
      "Plotting layer 00Conv2D_6x24x24\n",
      "Plotting layer 01MaxPooling2D_6x12x12\n",
      "Plotting layer 02Conv2D_16x8x8\n",
      "Plotting layer 03MaxPooling2D_16x4x4\n",
      "Plotting layer 04Conv2D_120x4x4\n",
      "Plotting layer 06Dense_84\n",
      "Plotting layer 07Dense_10\n",
      "Plotting batch run statistics...\n",
      "Done.\n",
      "\n",
      "Resetting simulator...\n",
      "\n",
      "Starting new simulation...\n",
      "\n",
      "Current accuracy of batch:\n",
      "Starting simulation at t=0. s for a duration of 100. ms\n"
     ]
    },
    {
     "name": "stdout",
     "output_type": "stream",
     "text": [
      "0.013999999999999999 (13%) simulated in < 1s, estimated < 1s remaining.\n",
      "0.028999999999999998 (28%) simulated in < 1s, estimated < 1s remaining.\n",
      "0.045 (44%) simulated in < 1s, estimated < 1s remaining.\n",
      "0.061 (61%) simulated in < 1s, estimated < 1s remaining.\n",
      "0.077 (76%) simulated in < 1s, estimated < 1s remaining.\n",
      "0.093 (93%) simulated in < 1s, estimated < 1s remaining.\n",
      "0.1 (100%) simulated in < 1s\n",
      "\n",
      "Batch 8 of 10 completed (80.0%)\n",
      "Moving accuracy of SNN (top-1, top-1): 100.00%, 100.00%.\n",
      "Moving accuracy of ANN (top-1, top-1): 100.00%, 100.00%.\n",
      "\n",
      "Calculating activations...\n",
      "\n",
      "Average spike rate: 0.016153846153846154 spikes per simulation time step.\n",
      "Saving plots of one sample to /home/wolin/snn_toolbox/examples/models/lenet5/keras/log/gui/test...\n",
      "\n",
      "Plotting layer 00Conv2D_6x24x24\n",
      "Plotting layer 01MaxPooling2D_6x12x12\n",
      "Plotting layer 02Conv2D_16x8x8\n",
      "Plotting layer 03MaxPooling2D_16x4x4\n",
      "Plotting layer 04Conv2D_120x4x4\n",
      "Plotting layer 06Dense_84\n",
      "Plotting layer 07Dense_10\n",
      "Plotting batch run statistics...\n",
      "Done.\n",
      "\n",
      "Resetting simulator...\n",
      "\n",
      "Starting new simulation...\n",
      "\n",
      "Current accuracy of batch:\n",
      "Starting simulation at t=0. s for a duration of 100. ms\n",
      "0.013000000000000001 (13%) simulated in < 1s, estimated < 1s remaining.\n",
      "0.026999999999999996 (26%) simulated in < 1s, estimated < 1s remaining.\n",
      "0.042 (42%) simulated in < 1s, estimated < 1s remaining.\n",
      "0.056999999999999995 (56%) simulated in < 1s, estimated < 1s remaining.\n",
      "0.07200000000000001 (72%) simulated in < 1s, estimated < 1s remaining.\n",
      "0.088 (87%) simulated in < 1s, estimated < 1s remaining.\n",
      "0.1 (100%) simulated in < 1s\n",
      "\n",
      "Batch 9 of 10 completed (90.0%)\n",
      "Moving accuracy of SNN (top-1, top-1): 100.00%, 100.00%.\n",
      "Moving accuracy of ANN (top-1, top-1): 100.00%, 100.00%.\n",
      "\n",
      "Calculating activations...\n",
      "\n",
      "Average spike rate: 0.02695879971421767 spikes per simulation time step.\n",
      "Saving plots of one sample to /home/wolin/snn_toolbox/examples/models/lenet5/keras/log/gui/test...\n",
      "\n",
      "Plotting layer 00Conv2D_6x24x24\n",
      "Plotting layer 01MaxPooling2D_6x12x12\n",
      "Plotting layer 02Conv2D_16x8x8\n",
      "Plotting layer 03MaxPooling2D_16x4x4\n",
      "Plotting layer 04Conv2D_120x4x4\n",
      "Plotting layer 06Dense_84\n",
      "Plotting layer 07Dense_10\n",
      "Plotting batch run statistics...\n",
      "Done.\n",
      "\n",
      "Resetting simulator...\n",
      "\n",
      "Starting new simulation...\n",
      "\n",
      "Current accuracy of batch:\n",
      "Starting simulation at t=0. s for a duration of 100. ms\n",
      "0.013000000000000001 (13%) simulated in < 1s, estimated < 1s remaining.\n",
      "0.026999999999999996 (26%) simulated in < 1s, estimated < 1s remaining.\n",
      "0.043000000000000003 (43%) simulated in < 1s, estimated < 1s remaining.\n",
      "0.057999999999999996 (57%) simulated in < 1s, estimated < 1s remaining.\n",
      "0.073 (72%) simulated in < 1s, estimated < 1s remaining.\n",
      "0.089 (88%) simulated in < 1s, estimated < 1s remaining.\n",
      "0.1 (100%) simulated in < 1s\n",
      "\n",
      "Batch 10 of 10 completed (100.0%)\n",
      "Moving accuracy of SNN (top-1, top-1): 100.00%, 100.00%.\n",
      "Moving accuracy of ANN (top-1, top-1): 100.00%, 100.00%.\n",
      "\n",
      "Calculating activations...\n",
      "\n",
      "Average spike rate: 0.02449273636580138 spikes per simulation time step.\n",
      "Saving plots of one sample to /home/wolin/snn_toolbox/examples/models/lenet5/keras/log/gui/test...\n",
      "\n",
      "Plotting layer 00Conv2D_6x24x24\n",
      "Plotting layer 01MaxPooling2D_6x12x12\n",
      "Plotting layer 02Conv2D_16x8x8\n",
      "Plotting layer 03MaxPooling2D_16x4x4\n",
      "Plotting layer 04Conv2D_120x4x4\n",
      "Plotting layer 06Dense_84\n",
      "Plotting layer 07Dense_10\n",
      "Plotting batch run statistics...\n",
      "Done.\n",
      "\n",
      "Resetting simulator...\n"
     ]
    },
    {
     "name": "stderr",
     "output_type": "stream",
     "text": [
      "WARNING    /home/wolin/snn_toolbox/snntoolbox/simulation/utils.py:745: RuntimeWarning: invalid value encountered in true_divide\n",
      "  avg_acc = np.mean(np.true_divide(match, count))\n",
      " [py.warnings]\n"
     ]
    },
    {
     "name": "stdout",
     "output_type": "stream",
     "text": [
      "Simulation finished.\n",
      "\n",
      "\n",
      "Total accuracy: 100.00% on 10 test samples.\n",
      "\n",
      "\n",
      "Accuracy averaged over classes: nan%\n"
     ]
    }
   ],
   "source": [
    "results = run(spiking_model, **testset)"
   ]
  },
  {
   "cell_type": "code",
   "execution_count": null,
   "metadata": {},
   "outputs": [],
   "source": []
  }
 ],
 "metadata": {
  "kernelspec": {
   "display_name": "Python 3",
   "language": "python",
   "name": "python3"
  },
  "language_info": {
   "codemirror_mode": {
    "name": "ipython",
    "version": 3
   },
   "file_extension": ".py",
   "mimetype": "text/x-python",
   "name": "python",
   "nbconvert_exporter": "python",
   "pygments_lexer": "ipython3",
   "version": "3.7.4"
  }
 },
 "nbformat": 4,
 "nbformat_minor": 2
}
